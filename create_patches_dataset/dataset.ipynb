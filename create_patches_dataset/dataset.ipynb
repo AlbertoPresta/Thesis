{
 "cells": [
  {
   "cell_type": "code",
   "execution_count": 1,
   "metadata": {},
   "outputs": [
    {
     "name": "stdout",
     "output_type": "stream",
     "text": [
      "Requirement already satisfied: Augmentor in /anaconda3/lib/python3.7/site-packages (0.2.8)\n",
      "Requirement already satisfied: future>=0.16.0 in /anaconda3/lib/python3.7/site-packages (from Augmentor) (0.18.2)\n",
      "Requirement already satisfied: Pillow>=5.2.0 in /anaconda3/lib/python3.7/site-packages (from Augmentor) (8.0.1)\n",
      "Requirement already satisfied: tqdm>=4.9.0 in /anaconda3/lib/python3.7/site-packages (from Augmentor) (4.50.2)\n",
      "Requirement already satisfied: numpy>=1.11.0 in /anaconda3/lib/python3.7/site-packages (from Augmentor) (1.19.2)\n"
     ]
    }
   ],
   "source": [
    "!pip install Augmentor\n",
    "import Augmentor\n",
    "import numpy as np \n",
    "import matplotlib.pyplot as plt \n",
    "import pandas as pd \n",
    "import os \n",
    "import cv2\n",
    "from PIL import Image"
   ]
  },
  {
   "cell_type": "code",
   "execution_count": 2,
   "metadata": {},
   "outputs": [],
   "source": [
    "def divide_image_in_patches(in_pth,out_pth,test = False):\n",
    "    x = [100,300,500,700,900]\n",
    "    licheni = os.listdir(in_pth)\n",
    "    for i, l in enumerate(licheni):\n",
    "        print(l)\n",
    "        direc = os.path.join(out_pth,l)\n",
    "        # create directory \n",
    "        if(os.path.exists(direc)==False):\n",
    "            os.mkdir(direc)      \n",
    "        images_pth = os.path.join(in_pth,l)\n",
    "        images_list = os.listdir(images_pth)\n",
    "        for j, img_p in enumerate(images_list):\n",
    "            im_total_path = os.path.join(images_pth, img_p)\n",
    "            img = cv2.imread(im_total_path)\n",
    "            img = cv2.cvtColor(img, cv2.COLOR_BGR2RGB)\n",
    "            img = cv2.resize(img,(1000,1000))\n",
    "            crops = 0\n",
    "            for index_x in range(len(x)-1):\n",
    "                for index_y in range(len(x)-1):\n",
    "                    xx0 = x[index_x]\n",
    "                    xx1 = x[index_x + 1]\n",
    "                    yy0 = x[index_y]\n",
    "                    yy1 = x[index_y +1]\n",
    "                    img_tmp = img[xx0:xx1,yy0:yy1]\n",
    "                    img_tmp = np.array(img_tmp) \n",
    "                    stringa = None\n",
    "                    if(test == True):\n",
    "                        stringa = 'ztest_ ' + img_p[:-4] + '_crops_' + str(crops) + '.jpg'\n",
    "                    else:\n",
    "                        stringa =   img_p[:-4] + '_crops_' + str(crops) + '.jpg'\n",
    "                    crops = crops +1 \n",
    "                    filename = os.path.join(direc, stringa)\n",
    "                    # save the image \n",
    "                    Image.fromarray(img_tmp).save(filename)\n",
    "            "
   ]
  },
  {
   "cell_type": "code",
   "execution_count": 4,
   "metadata": {},
   "outputs": [
    {
     "data": {
      "text/plain": [
       "['Amandinea_punctata',\n",
       " 'Xanthoria_parietina',\n",
       " 'Melanelixia_subaurifera',\n",
       " 'Candelaria_concolor',\n",
       " 'Lecanora_carpinea']"
      ]
     },
     "execution_count": 4,
     "metadata": {},
     "output_type": "execute_result"
    }
   ],
   "source": [
    "os.listdir('../../few_shot_classes')"
   ]
  },
  {
   "cell_type": "code",
   "execution_count": 5,
   "metadata": {},
   "outputs": [
    {
     "name": "stdout",
     "output_type": "stream",
     "text": [
      "Amandinea_punctata\n",
      "Xanthoria_parietina\n",
      "Melanelixia_subaurifera\n",
      "Candelaria_concolor\n",
      "Lecanora_carpinea\n"
     ]
    }
   ],
   "source": [
    "divide_image_in_patches('../../few_shot_classes','../../crops')"
   ]
  },
  {
   "cell_type": "code",
   "execution_count": 27,
   "metadata": {},
   "outputs": [
    {
     "name": "stdout",
     "output_type": "stream",
     "text": [
      "Candelariella_reflexa\n",
      "Lecidella_elaeochroma\n",
      "Melanelixia_glabratula\n",
      "Ramalina_fastigiata\n",
      "Chrysothrix_candelaris\n",
      "flavoparmenia_soredians\n",
      "Physconia_grisea\n",
      "Flavoparmelia_caperata\n",
      "Phaeophyscia_orbicularis\n",
      "Physcia_biziana\n",
      "Candelariella_xanthostigma\n",
      "Lecanora_argentata\n",
      "Hyperphyscia_adglutinata\n",
      "Arthonia_radiata\n",
      "Lecanora_chlarotera\n",
      "Ramalina_farinacea\n",
      "Caloplaca_cerina\n",
      "Xanthomendoza_fulva\n",
      "Xanthomendoza_fallax\n",
      "Gyalolechia_flavorubescens\n"
     ]
    }
   ],
   "source": [
    "divide_image_in_patches('../../lichens/test','../../crops/test',test = True)"
   ]
  },
  {
   "cell_type": "code",
   "execution_count": 38,
   "metadata": {},
   "outputs": [],
   "source": [
    "c = np.array([[1,2,3],[4,5,6]])"
   ]
  },
  {
   "cell_type": "code",
   "execution_count": 41,
   "metadata": {},
   "outputs": [],
   "source": [
    "c= c/2"
   ]
  },
  {
   "cell_type": "code",
   "execution_count": 42,
   "metadata": {},
   "outputs": [
    {
     "data": {
      "text/plain": [
       "array([[0.5, 1. , 1.5],\n",
       "       [2. , 2.5, 3. ]])"
      ]
     },
     "execution_count": 42,
     "metadata": {},
     "output_type": "execute_result"
    }
   ],
   "source": [
    "c"
   ]
  },
  {
   "cell_type": "code",
   "execution_count": null,
   "metadata": {},
   "outputs": [],
   "source": []
  }
 ],
 "metadata": {
  "kernelspec": {
   "display_name": "Python 3.7.3 64-bit ('base': conda)",
   "language": "python",
   "name": "python37364bitbaseconda10374d56d606404d89697440b2a570f1"
  },
  "language_info": {
   "codemirror_mode": {
    "name": "ipython",
    "version": 3
   },
   "file_extension": ".py",
   "mimetype": "text/x-python",
   "name": "python",
   "nbconvert_exporter": "python",
   "pygments_lexer": "ipython3",
   "version": "3.7.3"
  }
 },
 "nbformat": 4,
 "nbformat_minor": 4
}
