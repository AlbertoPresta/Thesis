{
 "cells": [
  {
   "cell_type": "code",
   "execution_count": 2,
   "metadata": {},
   "outputs": [],
   "source": [
    "\n",
    "import numpy as np\n",
    "import os\n",
    "import cv2\n",
    "import matplotlib.pyplot as plt\n",
    "import PIL\n",
    "from PIL import Image\n",
    "import random\n",
    "from scipy.io import savemat\n",
    "\n"
   ]
  },
  {
   "cell_type": "code",
   "execution_count": 3,
   "metadata": {},
   "outputs": [],
   "source": [
    "def create_4by4_images(res,lichene_type, nome_immagine):\n",
    "    boxes = [[0,0,500,500],[500,0,500,500],[0 , 500, 500,500],[500,500,500,500]]\n",
    "    file = {}\n",
    "    zone = ['upper_left','upper_right','down_left','down_right']\n",
    "    img_numb = random.sample(range(res.shape[0]),4)\n",
    "    image = np.zeros([1000,1000,3])\n",
    "    cord = [[0,500,0,500],[0, 500, 500, 1000],[500,1000,0 ,500],[500,1000,500,1000]]\n",
    "    for i,numb in enumerate(img_numb):\n",
    "        print('---->',numb)\n",
    "        crd = cord[i]\n",
    "        im = res[numb,:,:,:]\n",
    "        print(numb)\n",
    "        file[zone[i]] = lichene_type[numb]\n",
    "        print('sono qua')\n",
    "        image[crd[0]:crd[1],crd[2]:crd[3],:] = im[250:750,250:750,:]\n",
    "    np.save(\"../images_matlab_test/labels/\" + nome_immagine +\".npy\", file)\n",
    "    cv2.imwrite(\"../images_matlab_test/images/\" + nome_immagine +\".jpg\",cv2.cvtColor(image.astype(np.uint8), cv2.COLOR_RGB2BGR))\n",
    "    return file\n"
   ]
  },
  {
   "cell_type": "code",
   "execution_count": null,
   "metadata": {},
   "outputs": [],
   "source": [
    "for ii in range(100):\n",
    "    print(ii)\n",
    "    nome_immagine = 'text_image_N' + str(ii+1)\n",
    "    fl = create_4by4_images(res,lichene_type, nome_immagine)\n",
    "\n"
   ]
  }
 ],
 "metadata": {
  "kernelspec": {
   "display_name": "Python 3.7.3 64-bit ('base': conda)",
   "language": "python",
   "name": "python37364bitbaseconda10374d56d606404d89697440b2a570f1"
  },
  "language_info": {
   "codemirror_mode": {
    "name": "ipython",
    "version": 3
   },
   "file_extension": ".py",
   "mimetype": "text/x-python",
   "name": "python",
   "nbconvert_exporter": "python",
   "pygments_lexer": "ipython3",
   "version": "3.7.3"
  }
 },
 "nbformat": 4,
 "nbformat_minor": 4
}
