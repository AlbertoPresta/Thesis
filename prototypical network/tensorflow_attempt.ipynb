{
 "cells": [
  {
   "cell_type": "code",
   "execution_count": 2,
   "metadata": {},
   "outputs": [],
   "source": [
    "from tensorflow.keras.preprocessing import image\n",
    "from tensorflow.keras.applications.vgg16 import preprocess_input\n",
    "from tensorflow.keras.models import Model\n",
    "import numpy as np\n",
    "from keras.layers import Input, Dense, Lambda, Flatten, Reshape, Layer\n",
    "from keras.layers import Conv2D, Conv2DTranspose\n",
    "from keras.models import Sequential\n",
    "from keras import backend as K\n",
    "from keras import metrics\n",
    "from tensorflow import keras\n",
    "from tensorflow.keras import layers\n",
    "import tensorflow as tf\n",
    "from tensorflow import nn"
   ]
  },
  {
   "cell_type": "code",
   "execution_count": 37,
   "metadata": {},
   "outputs": [],
   "source": [
    "def convolutional_blocks(inp,input_sh,name):\n",
    "    first = tf.keras.layers.Conv2D(filters=64,kernel_size=3,padding = 'same',trainable=True,activation=None,input_shape= input_sh, name = name[0])(inp)\n",
    "    second = tf.keras.layers.BatchNormalization(trainable=True,name = name[1])(first)\n",
    "    third = tf.keras.layers.ReLU(trainable=True,name = name[2])(second)\n",
    "    fourth = tf.keras.layers.MaxPool2D(trainable=True,pool_size=(2, 2),name = name[3])(third)\n",
    "    return fourth\n",
    "    \n",
    "    \n",
    "    \n",
    "    \n",
    "    "
   ]
  },
  {
   "cell_type": "code",
   "execution_count": 38,
   "metadata": {},
   "outputs": [],
   "source": [
    "def protonet_model():\n",
    "    \n",
    "    \n",
    "    input1 = tf.keras.layers.Input(shape=(500,500,3), name = 'Protonet_input')\n",
    "    \n",
    "    first_block = convolutional_blocks(input1,(500,500,3),[\"I_conv\",\"I_batch\",\"I_RELU\",\"I_maxPool\"])\n",
    "    \n",
    "    \n",
    "    \n",
    "    second_block = convolutional_blocks(first_block,(250,250,64),[\"II_conv\",\"II_batch\",\"II_RELU\",\"II_maxPool\"])\n",
    "    \n",
    "    third_block = convolutional_blocks(second_block,(125,125,64),[\"III_conv\",\"III_batch\",\"III_RELU\",\"III_maxPool\"])\n",
    "    \n",
    "    fourth_block = convolutional_blocks(third_block,(62,62,64),[\"IV_conv\",\"IV_batch\",\"IV_RELU\",\"IV_maxPool\"])\n",
    "    \n",
    "    \n",
    "    flattened = tf.keras.layers.Flatten()(fourth_block)\n",
    "    \n",
    "    mod = tf.keras.models.Model(inputs=[input1],outputs= flattened)\n",
    "    \n",
    "    return mod\n",
    "    \n",
    "    "
   ]
  },
  {
   "cell_type": "code",
   "execution_count": 39,
   "metadata": {},
   "outputs": [],
   "source": [
    "def set_forward_loss(model,sample):\n",
    "    sample_images = sample['images']\n",
    "    n_way = sample['n_way']\n",
    "    n_support = sample['n_support']\n",
    "    n_query = sample['n_query']\n",
    "    \n",
    "    x_support = sample_images[:, :n_support]\n",
    "    x_query = sample_images[:, n_support:]\n",
    "    \n",
    "    \n",
    "    prototype = model(x_support)\n",
    "    \n",
    "    \n",
    "    #compute prototype \n",
    "    \n",
    "    \n",
    "    "
   ]
  },
  {
   "cell_type": "code",
   "execution_count": 40,
   "metadata": {},
   "outputs": [
    {
     "name": "stdout",
     "output_type": "stream",
     "text": [
      "Model: \"model_6\"\n",
      "_________________________________________________________________\n",
      "Layer (type)                 Output Shape              Param #   \n",
      "=================================================================\n",
      "Protonet_input (InputLayer)  [(None, 500, 500, 3)]     0         \n",
      "_________________________________________________________________\n",
      "I_conv (Conv2D)              (None, 500, 500, 64)      1792      \n",
      "_________________________________________________________________\n",
      "I_batch (BatchNormalization) (None, 500, 500, 64)      256       \n",
      "_________________________________________________________________\n",
      "I_RELU (ReLU)                (None, 500, 500, 64)      0         \n",
      "_________________________________________________________________\n",
      "I_maxPool (MaxPooling2D)     (None, 250, 250, 64)      0         \n",
      "_________________________________________________________________\n",
      "II_conv (Conv2D)             (None, 250, 250, 64)      36928     \n",
      "_________________________________________________________________\n",
      "II_batch (BatchNormalization (None, 250, 250, 64)      256       \n",
      "_________________________________________________________________\n",
      "II_RELU (ReLU)               (None, 250, 250, 64)      0         \n",
      "_________________________________________________________________\n",
      "II_maxPool (MaxPooling2D)    (None, 125, 125, 64)      0         \n",
      "_________________________________________________________________\n",
      "III_conv (Conv2D)            (None, 125, 125, 64)      36928     \n",
      "_________________________________________________________________\n",
      "III_batch (BatchNormalizatio (None, 125, 125, 64)      256       \n",
      "_________________________________________________________________\n",
      "III_RELU (ReLU)              (None, 125, 125, 64)      0         \n",
      "_________________________________________________________________\n",
      "III_maxPool (MaxPooling2D)   (None, 62, 62, 64)        0         \n",
      "_________________________________________________________________\n",
      "IV_conv (Conv2D)             (None, 62, 62, 64)        36928     \n",
      "_________________________________________________________________\n",
      "IV_batch (BatchNormalization (None, 62, 62, 64)        256       \n",
      "_________________________________________________________________\n",
      "IV_RELU (ReLU)               (None, 62, 62, 64)        0         \n",
      "_________________________________________________________________\n",
      "IV_maxPool (MaxPooling2D)    (None, 31, 31, 64)        0         \n",
      "_________________________________________________________________\n",
      "flatten_4 (Flatten)          (None, 61504)             0         \n",
      "=================================================================\n",
      "Total params: 113,600\n",
      "Trainable params: 113,088\n",
      "Non-trainable params: 512\n",
      "_________________________________________________________________\n"
     ]
    }
   ],
   "source": []
  },
  {
   "cell_type": "code",
   "execution_count": null,
   "metadata": {},
   "outputs": [],
   "source": []
  }
 ],
 "metadata": {
  "kernelspec": {
   "display_name": "Python 3.7.3 64-bit ('base': conda)",
   "language": "python",
   "name": "python37364bitbaseconda10374d56d606404d89697440b2a570f1"
  },
  "language_info": {
   "codemirror_mode": {
    "name": "ipython",
    "version": 3
   },
   "file_extension": ".py",
   "mimetype": "text/x-python",
   "name": "python",
   "nbconvert_exporter": "python",
   "pygments_lexer": "ipython3",
   "version": "3.7.3"
  }
 },
 "nbformat": 4,
 "nbformat_minor": 2
}
