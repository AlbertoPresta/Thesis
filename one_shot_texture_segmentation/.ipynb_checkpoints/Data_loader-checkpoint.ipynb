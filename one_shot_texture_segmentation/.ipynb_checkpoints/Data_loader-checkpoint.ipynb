{
 "cells": [
  {
   "cell_type": "code",
   "execution_count": null,
   "metadata": {},
   "outputs": [],
   "source": [
    "import numpy as np\n",
    "import import_ipynb\n",
    "import econding_and_decoding \n",
    "\n",
    "def generate_collages(textures,batch_size=1,segmentation_regions=10,anchor_points=None):\n",
    "    # Returns a batch of mixed texture, reference mask, and reference texture index\n",
    "    N_textures = textures.shape[0]\n",
    "    img_size= textures.shape[1]\n",
    "    masks, n_points = generate_random_masks(img_size, batch_size, segmentation_regions, anchor_points)\n",
    "    textures_idx = np.array([np.random.randint(0, N_textures, size=batch_size) for _ in range(segmentation_regions)])\n",
    "    batch = sum(textures[textures_idx[i]] * masks[:,:,:,i:i+1] for i in range(segmentation_regions)) \n",
    "    ref_idx = [np.random.randint(i) for i in n_points]\n",
    "    return batch, masks[range(batch_size),:,:,ref_idx].reshape((batch_size, 256, 256, 1)), textures_idx[ref_idx,range(batch_size)]\n",
    "\n",
    "def generate_random_masks(img_size=256, batch_size=1, segmentation_regions=10, points=None):\n",
    "    xs, ys = np.meshgrid(np.arange(0, img_size), np.arange(0, img_size))\n",
    "\n",
    "    if points is None:\n",
    "        n_points = np.random.randint(2, segmentation_regions + 1, size=batch_size)\n",
    "        # n_points = [segmentation_regions] * batch_size\n",
    "        points   = [np.random.randint(0, img_size, size=(n_points[i], 2)) for i in range(batch_size)]\n",
    "        \n",
    "    masks = []\n",
    "    for b in range(batch_size):\n",
    "        dists_b = [np.sqrt((xs - p[0])**2 + (ys - p[1])**2) for p in points[b]]\n",
    "        voronoi = np.argmin(dists_b, axis=0)\n",
    "        masks_b = np.zeros((img_size, img_size, segmentation_regions))\n",
    "        for m in range(segmentation_regions):\n",
    "            masks_b[:,:,m][voronoi == m] = 1\n",
    "        masks.append(masks_b)\n",
    "    return np.stack(masks), n_points\n",
    "\n",
    "def generate_validation_collages(N=50):\n",
    "    textures = np.load('validation_textures.npy')\n",
    "    collages = generate_collages(textures, batch_size=N)\n",
    "    np.save('validation_collages.npy', collages)"
   ]
  },
  {
   "cell_type": "code",
   "execution_count": null,
   "metadata": {},
   "outputs": [],
   "source": [
    "class Data_loader:\n",
    "    def __init__(self, textures_path, batch_size, max_region=10):\n",
    "        textures = np.load(textures_path)\n",
    "        self.textures = textures\n",
    "        self.batch_size = batch_size\n",
    "        self.max_region = max_region\n",
    "        self.ref_texture = textures[:,96:160,96:160,:]\n",
    "        #self.vgg_features1,self.vgg_features2,self.vgg_features3, self.vgg_features4, self.vgg_features5 = self.ComputeVggFeatures()\n",
    "        \n",
    "        \n",
    "    def ComputeVggFeatures(self, batch_img, refer = 'im'):\n",
    "        \n",
    "        shape1 = self.textures.shape[1]\n",
    "        shape2 = self.textures.shape[2]\n",
    "        vgg1 = []\n",
    "        vgg2 = []\n",
    "        vgg3 = []\n",
    "        vgg4 = []\n",
    "        vgg5 = []\n",
    "        for img in range(batch_img):\n",
    "            \n",
    "            # calcolo le features\n",
    "            res = extract_features(img, reference = refer)\n",
    "            vgg1.append(res[0])\n",
    "            vgg2.append(res[1])\n",
    "            vgg3.append(res[2])\n",
    "            vgg4.append(res[3])\n",
    "            vgg5.append(res[4])\n",
    "        return np.array(vgg1), np.array(vgg2), np.array(vgg3), np.array(vgg4), np.array(vgg5)\n",
    "    \n",
    "        \n",
    "            \n",
    "        \n",
    "        \n",
    "        \n",
    "        \n",
    "        \n",
    "        \n",
    "    def get_batch_data(self):\n",
    "        # generate mixed texture image, reference patch, and reference mask\n",
    "        batch, mask, ref_ind = generate_collages(self.textures, self.batch_size, self.max_region)\n",
    "        # ottenere le features per batch e per ref_ind\n",
    "        ref_patch = self.ref_texture[ref_ind]\n",
    "        batch1, batch2, batch3, batch4, batch5 = ComputeVggFeatures(batch/255, refer = 'im')\n",
    "        ref_ind1, ref_ind2, ref_ind3, ref_ind4, ref_ind5 = ComputeVggFeatures(ref_patch/255, refer = 'ref')    \n",
    "        return  batch1, batch2, batch3, batch4, batch5, mask, ref_ind1, ref_ind2, ref_ind3, ref_ind4, ref_ind5"
   ]
  },
  {
   "cell_type": "code",
   "execution_count": null,
   "metadata": {},
   "outputs": [],
   "source": [
    "def ComputeVggFeatures(batch_img, refer = 'im'):\n",
    "    vgg1 = []\n",
    "    vgg2 = []\n",
    "    vgg3 = []\n",
    "    vgg4 = []\n",
    "    vgg5 = []\n",
    "    for i,img in enumerate(batch_img):\n",
    "        # calcolo le features\n",
    "        res = econding_and_decoding.extract_features(img, reference = refer)\n",
    "        vgg1.append(res[0])\n",
    "        vgg2.append(res[1])\n",
    "        vgg3.append(res[2])\n",
    "        vgg4.append(res[3])\n",
    "        vgg5.append(res[4])\n",
    "    return np.array(vgg1), np.array(vgg2), np.array(vgg3), np.array(vgg4), np.array(vgg5)\n",
    "    "
   ]
  },
  {
   "cell_type": "code",
   "execution_count": null,
   "metadata": {},
   "outputs": [],
   "source": [
    "\n",
    "#batch, mask, ref_ind = dl_train.get_batch_data()"
   ]
  },
  {
   "cell_type": "code",
   "execution_count": null,
   "metadata": {},
   "outputs": [],
   "source": [
    "#ref_ind.shape"
   ]
  },
  {
   "cell_type": "code",
   "execution_count": null,
   "metadata": {},
   "outputs": [],
   "source": []
  }
 ],
 "metadata": {
  "kernelspec": {
   "display_name": "Python 3.7.3 64-bit ('base': conda)",
   "language": "python",
   "name": "python37364bitbaseconda10374d56d606404d89697440b2a570f1"
  },
  "language_info": {
   "codemirror_mode": {
    "name": "ipython",
    "version": 3
   },
   "file_extension": ".py",
   "mimetype": "text/x-python",
   "name": "python",
   "nbconvert_exporter": "python",
   "pygments_lexer": "ipython3",
   "version": "3.7.3"
  }
 },
 "nbformat": 4,
 "nbformat_minor": 2
}
