{
 "cells": [
  {
   "cell_type": "code",
   "execution_count": 2,
   "metadata": {},
   "outputs": [],
   "source": [
    "import cv2\n",
    "import numpy as np\n",
    "import os\n",
    "\n",
    "def generate_texture(img_folder_p):\n",
    "    # Read images from dtd dataset and crop them into 256x256.\n",
    "    # Images that are smaller than 256x256 are dropped.\n",
    "    all_texture = []\n",
    "    for img_folder_c in os.listdir(img_folder_p):\n",
    "        img_folder = img_folder_p + img_folder_c + '/'\n",
    "        \n",
    "        for img_name in os.listdir(img_folder):\n",
    "            cont = 0\n",
    "            lista_immagini = os.listdir(img_folder + img_name)\n",
    "            for image in lista_immagini:\n",
    "                if cont >= 25:\n",
    "                    break\n",
    "                img = cv2.imread(img_folder + img_name + \"/\" + image) \n",
    "                if type(img) == type(None):\n",
    "                    print(img_folder + img_name, 'is not a image.')\n",
    "                    continue\n",
    "                if img.shape[0] < 256 or img.shape[1] < 256:\n",
    "                    print(img_folder + img_name, 'is too small.')\n",
    "                    continue\n",
    "                mid_0 = int(img.shape[0] / 2)\n",
    "                mid_1 = int(img.shape[1] / 2)\n",
    "                img = img[mid_0-128:mid_0+128,mid_1-128:mid_1+128,:]\n",
    "                all_texture.append(img)\n",
    "                cont = cont + 1\n",
    "        all_texture = np.array(all_texture)\n",
    "        return all_texture"
   ]
  },
  {
   "cell_type": "code",
   "execution_count": 4,
   "metadata": {},
   "outputs": [
    {
     "name": "stdout",
     "output_type": "stream",
     "text": [
      "../dtd/images/waffled is not a image.\n",
      "full textures shape: (1175, 256, 256, 3)\n",
      "train, val split: (975, 256, 256, 3) (200, 256, 256, 3)\n"
     ]
    }
   ],
   "source": [
    "textures = generate_texture('../dtd/')\n",
    "print('full textures shape:', textures.shape)\n",
    "np.random.shuffle(textures)\n",
    "train_texture = textures[:-200]\n",
    "val_texture = textures[-200:]\n",
    "print('train, val split:', train_texture.shape, val_texture.shape)\n",
    "np.save('train_texture.npy', train_texture)\n",
    "np.save('val_texture.npy', val_texture)"
   ]
  },
  {
   "cell_type": "code",
   "execution_count": 13,
   "metadata": {},
   "outputs": [],
   "source": []
  },
  {
   "cell_type": "code",
   "execution_count": 14,
   "metadata": {},
   "outputs": [],
   "source": []
  },
  {
   "cell_type": "code",
   "execution_count": 16,
   "metadata": {},
   "outputs": [
    {
     "data": {
      "text/plain": [
       "(200, 256, 256, 3)"
      ]
     },
     "execution_count": 16,
     "metadata": {},
     "output_type": "execute_result"
    }
   ],
   "source": []
  },
  {
   "cell_type": "code",
   "execution_count": null,
   "metadata": {},
   "outputs": [],
   "source": []
  }
 ],
 "metadata": {
  "kernelspec": {
   "display_name": "Python 3.7.3 64-bit ('base': conda)",
   "language": "python",
   "name": "python37364bitbaseconda10374d56d606404d89697440b2a570f1"
  },
  "language_info": {
   "codemirror_mode": {
    "name": "ipython",
    "version": 3
   },
   "file_extension": ".py",
   "mimetype": "text/x-python",
   "name": "python",
   "nbconvert_exporter": "python",
   "pygments_lexer": "ipython3",
   "version": "3.7.3"
  }
 },
 "nbformat": 4,
 "nbformat_minor": 2
}
