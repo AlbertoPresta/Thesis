{
 "cells": [
  {
   "cell_type": "code",
   "execution_count": 4,
   "metadata": {},
   "outputs": [],
   "source": [
    "def warn(*args, **kwargs):\n",
    "    pass\n",
    "import warnings\n",
    "warnings.warn = warn\n",
    "\n",
    "\n",
    "import matplotlib.pyplot as plt\n",
    "import numpy as np\n",
    "from scipy import ndimage as ndi\n",
    "\n",
    "from skimage import data\n",
    "from skimage.util import img_as_float\n",
    "from skimage.filters import gabor_kernel"
   ]
  },
  {
   "cell_type": "code",
   "execution_count": 5,
   "metadata": {},
   "outputs": [],
   "source": [
    "def getPath_and_dict(path, train):\n",
    "    lichens = os.listdir(path)\n",
    "    dic_lic = {}\n",
    "    res = []\n",
    "    for i,l in enumerate(lichens):\n",
    "        dic_lic[l] = i\n",
    "        pth = os.path.join(path,l)\n",
    "        images_of_specific_lichen = os.listdir(pth)\n",
    "        for j,im in enumerate(images_of_specific_lichen):\n",
    "            image = os.path.join(pth,im)\n",
    "            res.append(image)\n",
    "    \n",
    "    \n",
    "    if(train is True):\n",
    "        np.random.shuffle(res)\n",
    "    return res, dic_lic\n",
    "\n",
    "\n",
    "def readimage(im):\n",
    "    img = cv2.imread(im)\n",
    "    img = cv2.cvtColor(img, cv2.COLOR_BGR2RGB)\n",
    "    return img\n",
    "\n"
   ]
  },
  {
   "cell_type": "code",
   "execution_count": 6,
   "metadata": {},
   "outputs": [],
   "source": [
    "# prepare filter bank kernels--> frequenza + inversamente proporzionale alla sigma \n",
    "def create_kernels(orientations, frequency_vec):\n",
    "    kernels = []\n",
    "    for theta in range(orientations):\n",
    "        theta = theta / 4. * np.pi\n",
    "\n",
    "        for frequency in (0.05, 0.25):\n",
    "            kernel = np.real(gabor_kernel(frequency, theta=theta,sigma_x=None, sigma_y=None))\n",
    "            kernels.append(kernel)\n",
    "    return kernels \n"
   ]
  },
  {
   "cell_type": "code",
   "execution_count": 7,
   "metadata": {},
   "outputs": [],
   "source": [
    "def compute_feats(image, kernels):\n",
    "    feats_r = np.zeros((len(kernels), 2), dtype=np.double)\n",
    "    feats_g = np.zeros((len(kernels), 2), dtype=np.double)\n",
    "    feats_b = np.zeros((len(kernels), 2), dtype=np.double)\n",
    "    \n",
    "    img_r = image[:,:,0]\n",
    "    img_g = image[:,:,1]\n",
    "    img_b = image[:,:,2]\n",
    "    for k, kernel in enumerate(kernels):\n",
    "        filtered = ndi.convolve(img_r, kernel, mode='wrap')\n",
    "        feats_r[k, 0] = filtered.mean()\n",
    "        feats_r[k, 1] = filtered.var()\n",
    "\n",
    "        filtered = ndi.convolve(img_g, kernel, mode='wrap')\n",
    "        feats_g[k, 0] = filtered.mean()\n",
    "        feats_g[k, 1] = filtered.var()\n",
    "\n",
    "        filtered = ndi.convolve(img_b, kernel, mode='wrap')\n",
    "        feats_b[k, 0] = filtered.mean()\n",
    "        feats_b[k, 1] = filtered.var()\n",
    "    \n",
    "    feats_r = feats_r.reshape(-1)\n",
    "    feats_g = feats_g.reshape(-1)\n",
    "    feats_b = feats_b.reshape(-1)\n",
    "    \n",
    "    feats = np.concatenate([feats_r, feats_g, feats_b])\n",
    "    feats = feats.reshape(-1)\n",
    "    return feats\n"
   ]
  },
  {
   "cell_type": "code",
   "execution_count": 8,
   "metadata": {},
   "outputs": [],
   "source": [
    "def obtain_descriptors(path, orientations, frequency_vec,train = True):\n",
    "    \n",
    "    kernels = create_kernels(orientations, frequency_vec)\n",
    "    images_pth, label_dict = getPath_and_dict(path, train)\n",
    "    descriptor_list = []    \n",
    "    train_labels = []\n",
    "    image_count = len(images_pth) \n",
    "    for i,img_path in enumerate(images_pth):\n",
    "        print('----')\n",
    "        print(i)\n",
    "        print('----')\n",
    "        cl = img_path.split('/')[-2]\n",
    "        class_index = cl\n",
    "        train_labels.append(class_index)        \n",
    "        img = readimage(img_path)\n",
    "        dsc = compute_feats(img, kernels)\n",
    "        if(i%100==0):\n",
    "            print(dsc.shape)\n",
    "        descriptor_list.append(dsc)     \n",
    "    descriptors =np.array(descriptor_list)\n",
    "    train_labels = np.array(train_labels)\n",
    "    return descriptors, train_labels"
   ]
  },
  {
   "cell_type": "code",
   "execution_count": null,
   "metadata": {},
   "outputs": [],
   "source": [
    "orient = 3\n",
    "frequency_vec = [0.25/(np.sqrt(2)**j) for j in range(4)]\n",
    "import os\n",
    "import cv2"
   ]
  },
  {
   "cell_type": "code",
   "execution_count": null,
   "metadata": {},
   "outputs": [],
   "source": [
    "train_desc, train_lab = obtain_descriptors('../../../data/train',orient, frequency_vec)"
   ]
  },
  {
   "cell_type": "code",
   "execution_count": null,
   "metadata": {},
   "outputs": [],
   "source": [
    "c.shape"
   ]
  },
  {
   "cell_type": "code",
   "execution_count": null,
   "metadata": {},
   "outputs": [],
   "source": [
    "from scipy.io import loadmat\n",
    "def load_descriptor_from_matfile(ft_path,lab_path):\n",
    "    feat = loadmat(ft_path)\n",
    "    feat = feat['dsc']\n",
    "    lab = loadmat(lab_path)\n",
    "    lab = lab['lab']\n",
    "    return feat, lab\n",
    "\n",
    "\n",
    "training_feat,tr_lab = load_descriptor_from_matfile('dsc/training_descriptors.mat', 'dsc/training_labels.mat')\n",
    "tst_features, tst_lab = load_descriptor_from_matfile('dsc/test_descriptors.mat','dsc/test_labels.mat')\n",
    "tr_lab = tr_lab -1\n",
    "tst_lab = tst_lab -1"
   ]
  },
  {
   "cell_type": "code",
   "execution_count": null,
   "metadata": {},
   "outputs": [],
   "source": [
    "from sklearn.model_selection import GridSearchCV\n",
    "from sklearn.metrics import accuracy_score\n",
    "# import the necessary packages\n",
    "def search_for_best_rbf(training_feat, tr_lab, tst_features, tst_lab):\n",
    "    param_grid = {'C': [ 1e0, 1e1, 1e2,1e3], 'gamma': [   0.01, 0.1,1]}\n",
    "    clf0 = GridSearchCV(SVC(kernel='rbf'), param_grid)\n",
    "    svc = clf0.fit(training_feat, tr_lab)\n",
    "    print(\"Best estimator found by grid search : \", clf0.best_estimator_)\n",
    "    y_pred = clf0.predict(tst_features)\n",
    "    print('Accuracy score :', skmetrics.accuracy_score(y_pred, tst_lab))\n",
    "    return clf0,skmetrics.accuracy_score(y_pred, tst_lab)"
   ]
  },
  {
   "cell_type": "code",
   "execution_count": null,
   "metadata": {},
   "outputs": [],
   "source": [
    "from sklearn.svm import SVC\n",
    "import sklearn.metrics as skmetrics\n",
    "a, b = search_for_best_rbf(training_feat, tr_lab, tst_features, tst_lab)"
   ]
  },
  {
   "cell_type": "code",
   "execution_count": null,
   "metadata": {},
   "outputs": [],
   "source": []
  }
 ],
 "metadata": {
  "kernelspec": {
   "display_name": "Python 3.7.3 64-bit ('base': conda)",
   "language": "python",
   "name": "python37364bitbaseconda10374d56d606404d89697440b2a570f1"
  },
  "language_info": {
   "codemirror_mode": {
    "name": "ipython",
    "version": 3
   },
   "file_extension": ".py",
   "mimetype": "text/x-python",
   "name": "python",
   "nbconvert_exporter": "python",
   "pygments_lexer": "ipython3",
   "version": "3.7.3"
  }
 },
 "nbformat": 4,
 "nbformat_minor": 4
}
