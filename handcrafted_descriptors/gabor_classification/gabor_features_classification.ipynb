{
 "cells": [
  {
   "cell_type": "code",
   "execution_count": 1,
   "metadata": {},
   "outputs": [
    {
     "name": "stdout",
     "output_type": "stream",
     "text": [
      "importing Jupyter notebook from /Users/admin/Desktop/tesi/Thesis/handcrafted_descriptors/gabor_classification/utility.ipynb\n"
     ]
    }
   ],
   "source": [
    "import sys\n",
    "sys.path.append('/Users/admin/Desktop/tesi/Thesis/')\n",
    "from scipy.io import loadmat\n",
    "from handcrafted_descriptors.grid_classification import utils\n",
    "import import_ipynb\n",
    "from handcrafted_descriptors.gabor_classification import utility as utility "
   ]
  },
  {
   "cell_type": "code",
   "execution_count": 2,
   "metadata": {},
   "outputs": [],
   "source": [
    "# load matlab file, where gabor descriptor is saved\n",
    "def load_descriptor_from_matfile(ft_path,lab_path):\n",
    "    feat = loadmat(ft_path)\n",
    "    feat = feat['dsc']\n",
    "    lab = loadmat(lab_path)\n",
    "    lab = lab['lab']\n",
    "    return feat, lab"
   ]
  },
  {
   "cell_type": "code",
   "execution_count": 3,
   "metadata": {},
   "outputs": [],
   "source": [
    "species = ['Arthonia_radiata','Caloplaca_cerina','Candelariella_reflexa','Candelariella_xanthostigma','Chrysothrix_candelaris','Flavoparmelia_caperata','Gyalolechia_flavorubescens','Hyperphyscia_adglutinata'\n",
    "        ,'Lecanora_argentata','Lecanora_chlarotera','Lecidella_elaeochroma','Melanelixia_glabratula'\n",
    "        ,'Phaeophyscia_orbicularis','Physcia_biziana','Physconia_grisea','Ramalina_farinacea','Ramalina_fastigiata','Xanthomendoza_fallax','Xanthomendoza_fulva','flavoparmenia_soredians']\n"
   ]
  },
  {
   "cell_type": "code",
   "execution_count": null,
   "metadata": {},
   "outputs": [
    {
     "name": "stdout",
     "output_type": "stream",
     "text": [
      "------------------\n",
      "(1,1)\n",
      "-------------------\n",
      "start rbf\n",
      "Best estimator found by grid search :  SVC(C=1000.0, gamma=1)\n",
      "Accuracy score : 0.5233853006681515\n"
     ]
    },
    {
     "name": "stderr",
     "output_type": "stream",
     "text": [
      "/Users/admin/Desktop/tesi/Thesis/handcrafted_descriptors/gabor_classification/utility.ipynb:27: FutureWarning: elementwise comparison failed; returning scalar instead, but in the future will perform elementwise comparison\n",
      "  \"warnings.warn = warn\"\n",
      "/Users/admin/Desktop/tesi/Thesis/handcrafted_descriptors/gabor_classification/utility.ipynb:29: FutureWarning: elementwise comparison failed; returning scalar instead, but in the future will perform elementwise comparison\n",
      "  },\n",
      "/Users/admin/Desktop/tesi/Thesis/handcrafted_descriptors/gabor_classification/utility.ipynb:54: FutureWarning: elementwise comparison failed; returning scalar instead, but in the future will perform elementwise comparison\n",
      "  \"    Function which evaluate quality of prdiction of linear svm, calculating TP,FP,FN,TN\\n\",\n",
      "/Users/admin/Desktop/tesi/Thesis/handcrafted_descriptors/gabor_classification/utility.ipynb:76: RuntimeWarning: invalid value encountered in true_divide\n",
      "  \"            if(pred[j]==lab[i] and test_lab[j]!=lab[i]):\\n\",\n"
     ]
    },
    {
     "name": "stdout",
     "output_type": "stream",
     "text": [
      "start poly\n"
     ]
    }
   ],
   "source": [
    "vector = ['1','2','3','4','5','6','7','8']\n",
    "\n",
    "\n",
    "acc_radial = {}\n",
    "acc_poly = {}\n",
    "#acc_1nn = {}\n",
    "\n",
    "for i,rot in enumerate(vector):\n",
    "    for j,scale in enumerate(vector):\n",
    "        print('------------------')\n",
    "        print('(' + rot + ',' + scale + ')')\n",
    "        print('-------------------')\n",
    "        \n",
    "        #create directories \n",
    "        director = 'results/results_gabor/confusion_matrix/'\n",
    "        director_pra = 'results/results_gabor/pra/'\n",
    "        name = 'cm_'+ rot + '_' + scale\n",
    "        name_pra = 'pra_'+ rot + '_' + scale\n",
    "        \n",
    "        string_training = 'dsc/' + str(rot) + '_' + str(scale) + '_' + 'train_descriptors.mat'\n",
    "        string_training_label = 'dsc/' + str(rot) + '_' + str(scale) + '_' + 'train_labels.mat'       \n",
    "        string_testing = 'dsc/' + str(rot) + '_' + str(scale) + '_' + 'test_descriptors.mat'\n",
    "        string_testing_label = 'dsc/' + str(rot) + '_' + str(scale) + '_' + 'test_labels.mat'\n",
    "        \n",
    "        training_feat,tr_lab = load_descriptor_from_matfile(string_training, string_training_label)\n",
    "        tst_features, tst_lab = load_descriptor_from_matfile(string_testing,string_testing_label)\n",
    "        tr_lab = tr_lab -1\n",
    "        tst_lab = tst_lab -1 \n",
    "        print('start rbf')\n",
    "        svm ,score_rbf = utility.search_for_best_rbf(training_feat, tr_lab.reshape(-1), tst_features, tst_lab)\n",
    "        pred = utility.create_and_save_confusion_matrix(svm, tst_features, tst_lab, species,director, name)\n",
    "        utility.calculate_and_plot_precision_recall(tst_lab, pred, species, director_pra, name_pra)\n",
    "        # claculate precision and recall \n",
    "        print('start poly')\n",
    "        svm ,score_poly = utility.search_for_best_poly(training_feat, tr_lab.reshape(-1), tst_features, tst_lab)\n",
    "        print('start 1nn')\n",
    "        acc, prec, rec,clc  = utility.train_knn_model_and_calculate_accuracy(training_feat, tr_lab.reshape(-1), tst_features, tst_lab.reshape(-1))\n",
    "        utility.plot_and_save_knn(acc,prec,rec,'knn_gabor')\n",
    "        acc_radial['(' + str(rot) + ',' + str(scale) + ')'] = score_rbf\n",
    "        #acc_poly['(' + str(rot) + ',' + str(scale) + ')'] = score_poly\n",
    "        #acc_1nn['(' + str(rot) + ',' + str(scale) + ')'] = acc[0]\n",
    "        "
   ]
  },
  {
   "cell_type": "code",
   "execution_count": null,
   "metadata": {},
   "outputs": [],
   "source": []
  },
  {
   "cell_type": "code",
   "execution_count": null,
   "metadata": {},
   "outputs": [],
   "source": []
  },
  {
   "cell_type": "code",
   "execution_count": null,
   "metadata": {},
   "outputs": [],
   "source": []
  }
 ],
 "metadata": {
  "kernelspec": {
   "display_name": "Python 3.7.3 64-bit ('base': conda)",
   "language": "python",
   "name": "python37364bitbaseconda10374d56d606404d89697440b2a570f1"
  },
  "language_info": {
   "codemirror_mode": {
    "name": "ipython",
    "version": 3
   },
   "file_extension": ".py",
   "mimetype": "text/x-python",
   "name": "python",
   "nbconvert_exporter": "python",
   "pygments_lexer": "ipython3",
   "version": "3.7.3"
  }
 },
 "nbformat": 4,
 "nbformat_minor": 4
}
