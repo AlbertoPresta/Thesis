{
 "cells": [
  {
   "cell_type": "code",
   "execution_count": null,
   "metadata": {},
   "outputs": [],
   "source": [
    "import sys\n",
    "sys.path.append('/Users/admin/Desktop/tesi/Thesis/')\n",
    "from handcrafted_descriptors.grid_classification import utils\n",
    "import import_ipynb\n",
    "from handcrafted_descriptors.gabor_classification import utility as utility \n",
    "import cv2\n",
    "from matplotlib import pyplot as plt\n",
    "from skimage import feature\n",
    "import numpy as np"
   ]
  },
  {
   "cell_type": "code",
   "execution_count": null,
   "metadata": {},
   "outputs": [],
   "source": [
    "species = ['Arthonia_radiata','Caloplaca_cerina','Candelariella_reflexa','Candelariella_xanthostigma','Chrysothrix_candelaris','Flavoparmelia_caperata','Gyalolechia_flavorubescens','Hyperphyscia_adglutinata'\n",
    "        ,'Lecanora_argentata','Lecanora_chlarotera','Lecidella_elaeochroma','Melanelixia_glabratula'\n",
    "        ,'Phaeophyscia_orbicularis','Physcia_biziana','Physconia_grisea','Ramalina_farinacea','Ramalina_fastigiata','Xanthomendoza_fallax','Xanthomendoza_fulva','flavoparmenia_soredians']\n"
   ]
  },
  {
   "cell_type": "code",
   "execution_count": null,
   "metadata": {},
   "outputs": [],
   "source": [
    "def calculate_max_value(numpoints):\n",
    "    res = 1\n",
    "    for i in range(1,numpoints):\n",
    "        res = res + 2**(i)\n",
    "    return res"
   ]
  },
  {
   "cell_type": "code",
   "execution_count": null,
   "metadata": {},
   "outputs": [],
   "source": [
    "\n",
    "class LocalBinaryPatterns:\n",
    "    def __init__(self, numPoints, radius,meth = 'ror'):\n",
    "        # store the number of points and radius\n",
    "        self.numPoints = numPoints\n",
    "        self.radius = radius\n",
    "        self.meth = meth\n",
    "    def describe(self, image, eps=1e-7):\n",
    "        # compute the Local Binary Pattern representation\n",
    "        # of the image, and then use the LBP representation\n",
    "        # to build the histogram of patterns\n",
    "        if (self.meth == 'default'):\n",
    "            \n",
    "            lbp = feature.local_binary_pattern(image, self.numPoints,self.radius,method = 'default')\n",
    "        else:\n",
    "            lbp = feature.local_binary_pattern(image, self.numPoints,self.radius,method = 'ror')\n",
    "        return lbp.ravel()\n",
    "    \n",
    "\n",
    "    \n"
   ]
  },
  {
   "cell_type": "code",
   "execution_count": null,
   "metadata": {},
   "outputs": [],
   "source": [
    "def lbp_extract_descriptors(path, numPoints, radius,meth = 'default',train = True):       \n",
    "    desc = LocalBinaryPatterns(numPoints, radius, meth = meth)\n",
    "    images_pth, label_dict = utility.getPath_and_dict(path, train)\n",
    "    descriptor_list = [] \n",
    "    train_labels = []\n",
    "    image_count = len(images_pth)  \n",
    "    for i,img_path in enumerate(images_pth):\n",
    "        cl = img_path.split('/')[-2]\n",
    "        class_index = cl\n",
    "        train_labels.append(class_index)        \n",
    "        img = cv2.imread(img_path)\n",
    "        img = cv2.cvtColor(img, cv2.COLOR_BGR2RGB)\n",
    "        hist1 = desc.describe(img[:,:,0])\n",
    "        hist2 = desc.describe(img[:,:,1])\n",
    "        hist3 = desc.describe(img[:,:,2])\n",
    "        lbp_total = np.concatenate([hist1,hist2,hist3])\n",
    "        if meth == 'uniform':\n",
    "            maximum = calculate_max_value(numPoints)\n",
    "            (hist, _) = np.histogram(lbp_total.ravel(),bins=np.arange(0, maximum + 3),\n",
    "                        range=(0, maximum + 2))\n",
    "        else: \n",
    "            maximum = calculate_max_value(numPoints)\n",
    "            (hist, _) = np.histogram(lbp_total.ravel(),bins=np.arange(0, maximum + 3),\n",
    "                        range=(0, maximum + 2))\n",
    "        hist = hist / np.sum(hist)\n",
    "        descriptor_list.append(hist)     \n",
    "    descriptors =np.array(descriptor_list)\n",
    "    train_labels = np.array(train_labels)\n",
    "    return descriptors, train_labels\n",
    "    \n",
    "    "
   ]
  },
  {
   "cell_type": "markdown",
   "metadata": {},
   "source": [
    "## MAIN"
   ]
  },
  {
   "cell_type": "code",
   "execution_count": null,
   "metadata": {},
   "outputs": [],
   "source": [
    "import pandas as pd\n",
    "accuracy = []\n",
    "precision = []\n",
    "recall = []\n",
    "for radius in [1,2,3,4,5,6,7,8,9,10]:\n",
    "    print('start calculating descriptor')\n",
    "    feat,lab = lbp_extract_descriptors('../../../data/train', 8, radius,meth = 'ror',train = True)    \n",
    "    test_feat, test_lab = lbp_extract_descriptors('../../../data/valid',8, radius,meth = 'ror',train = False)\n",
    "    print('end calculating descriptor')\n",
    "    print('start svm')\n",
    "    svm, acc =utility.search_for_best_poly(feat, lab, test_feat, test_lab)\n",
    "    print('end svm')\n",
    "    director_cm = 'results/results_lbp/confusion_matrix/'\n",
    "    name_cm = 'cm_'+ string(radius)\n",
    "    pred = utility.create_and_save_confusion_matrix(svm, tst_features, tst_lab, species, director_cm, name_cm)\n",
    "    \n",
    "    director_pra = 'results/results_lbp/pra/'\n",
    "    name_pra = 'pra_' + string(radius)\n",
    "    prec, rec, fbeta = utility.calculate_and_plot_precision_recall(test_lab, pred, species, director_pra, name_pra)\n",
    "    precision.append(prec)\n",
    "    recall.append(rec)\n",
    "    accuracy.append(acc)"
   ]
  },
  {
   "cell_type": "code",
   "execution_count": null,
   "metadata": {},
   "outputs": [],
   "source": [
    "x1 = [1,2,3,4,5,6,7,8,9,10]\n",
    "df = pd.DataFrame({\"X\":x1, \"precision\":precision,\"recall\":recall,'accuracy': accuracy})\n",
    "df.plot(x=\"X\", y=[\"precision\", \"recall\",'accuracy'], kind=\"bar\")\n",
    "plt.grid()\n",
    "plt.xlabel('density of the grid (in pixel)')\n",
    "plt.ylabel('Percentate %')\n",
    "plt.tight_layout()\n",
    "plt.savefig('results/results_lbp/total8points_bar.jpg')"
   ]
  },
  {
   "cell_type": "markdown",
   "metadata": {},
   "source": [
    "## MULTI-SCALE APPROACH"
   ]
  },
  {
   "cell_type": "code",
   "execution_count": null,
   "metadata": {},
   "outputs": [],
   "source": [
    "def multiscale_lbp_extract_descriptors(path, numPoints ,meth = 'default',train = True):       \n",
    "    desc = [LocalBinaryPatterns(numPoints, 1, meth = meth), LocalBinaryPatterns(numPoints, 2, meth = meth),LocalBinaryPatterns(numPoints, 3, meth = meth),LocalBinaryPatterns(numPoints, 4, meth = meth),LocalBinaryPatterns(numPoints, 5, meth = meth)]\n",
    "    images_pth, label_dict = utility.getPath_and_dict(path, train)\n",
    "    descriptor_list = [] \n",
    "    train_labels = []\n",
    "    image_count = len(images_pth)  \n",
    "    for i,img_path in enumerate(images_pth):\n",
    "        cl = img_path.split('/')[-2]\n",
    "        class_index = cl\n",
    "        train_labels.append(class_index)\n",
    "        hist = []\n",
    "        for dsc in desc:         \n",
    "            img = cv2.imread(img_path)\n",
    "            img = cv2.cvtColor(img, cv2.COLOR_BGR2RGB)\n",
    "            hist1 = dsc.describe(img[:,:,0])\n",
    "            hist2 = dsc.describe(img[:,:,1])\n",
    "            hist3 = dsc.describe(img[:,:,2])\n",
    "            lbp_total = np.concatenate([hist1,hist2,hist3])\n",
    "            maximum = calculate_max_value(numPoints)\n",
    "            (hist_tmp, _) = np.histogram(lbp_total.ravel(),bins=np.arange(0, maximum + 3),range=(0, maximum + 2))\n",
    "            hist.append(hist_tmp)\n",
    " \n",
    "        hist = np.array(hist)\n",
    "        hist = hist.reshape(-1)\n",
    "        hist = hist / np.sum(hist)\n",
    "        descriptor_list.append(hist)     \n",
    "    descriptors =np.array(descriptor_list)\n",
    "    train_labels = np.array(train_labels)\n",
    "    return descriptors, train_labels\n",
    "    "
   ]
  },
  {
   "cell_type": "code",
   "execution_count": null,
   "metadata": {},
   "outputs": [],
   "source": [
    "feat,lab = multiscale_lbp_extract_descriptors('../../../data/train', 8,train = True)    \n",
    "test_feat, test_lab = multiscale_lbp_extract_descriptors('../../../data/valid',8,train = False)"
   ]
  },
  {
   "cell_type": "code",
   "execution_count": null,
   "metadata": {},
   "outputs": [],
   "source": [
    "acc,prec, rec, classif = utility.train_model_and_calculate_accuracy(feat, lab, test_feat, test_lab)\n",
    "x1 = np.arange(1,51)\n",
    "plt.plot(x1, acc, label = \"accuracy\",color = 'r')\n",
    "plt.plot(x1,prec, label = 'precision')\n",
    "plt.plot(x1, rec, label = 'recall',color = 'g')\n",
    "plt.xlabel('number of neighbors')\n",
    "plt.ylabel('percentage (%)')\n",
    "plt.legend()\n",
    "plt.grid()\n",
    "plt.savefig('k-nearest_neighbor_total.jpg')"
   ]
  },
  {
   "cell_type": "code",
   "execution_count": null,
   "metadata": {},
   "outputs": [],
   "source": []
  },
  {
   "cell_type": "code",
   "execution_count": null,
   "metadata": {},
   "outputs": [],
   "source": []
  }
 ],
 "metadata": {
  "kernelspec": {
   "display_name": "Python 3.7.3 64-bit ('base': conda)",
   "language": "python",
   "name": "python37364bitbaseconda10374d56d606404d89697440b2a570f1"
  },
  "language_info": {
   "codemirror_mode": {
    "name": "ipython",
    "version": 3
   },
   "file_extension": ".py",
   "mimetype": "text/x-python",
   "name": "python",
   "nbconvert_exporter": "python",
   "pygments_lexer": "ipython3",
   "version": "3.7.3"
  }
 },
 "nbformat": 4,
 "nbformat_minor": 4
}
