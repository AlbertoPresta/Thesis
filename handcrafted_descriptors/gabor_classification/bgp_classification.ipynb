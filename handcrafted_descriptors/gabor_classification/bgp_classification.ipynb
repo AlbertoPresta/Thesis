{
 "cells": [
  {
   "cell_type": "code",
   "execution_count": null,
   "metadata": {},
   "outputs": [],
   "source": [
    "import sys\n",
    "sys.path.append('/Users/admin/Desktop/tesi/Thesis/')\n",
    "from skimage.filters import gaussian\n",
    "\n",
    "from handcrafted_descriptors.descriptor import binary_gabor_features as bgf\n",
    "import import_ipynb\n",
    "from handcrafted_descriptors.gabor_classification import utility as utility \n",
    "\n",
    "import cv2\n",
    "import numpy as np \n",
    "import os\n",
    "from sklearn.cluster import KMeans\n",
    "from sklearn.svm import SVC\n",
    "from sklearn.preprocessing import StandardScaler\n",
    "from matplotlib import pyplot as plt\n",
    "from sklearn import svm, datasets\n",
    "from sklearn.model_selection import train_test_split\n",
    "from sklearn.metrics import confusion_matrix\n",
    "from sklearn.model_selection import GridSearchCV\n",
    "from sklearn.metrics import accuracy_score\n",
    "# import the necessary packages\n",
    "from skimage import feature\n",
    "import numpy as np"
   ]
  },
  {
   "cell_type": "code",
   "execution_count": null,
   "metadata": {},
   "outputs": [],
   "source": [
    "def getDescriptors(img, halflength = 15):\n",
    "    img_r = img[:,:,0]\n",
    "    img_g = img[:,:,1]\n",
    "    img_b = img[:,:,2]   \n",
    "    feat_1 = bgf.BGF(img_r, 200,200,50, halflngt = halflength, all = True)\n",
    "    feat_2 = bgf.BGF(img_g, 200,200,50, halflngt = halflength, all = True)\n",
    "    feat_3 = bgf.BGF(img_b, 200,200,50, halflngt = halflength, all = True)\n",
    "    res = np.concatenate([feat_1, feat_2, feat_3])\n",
    "    return res "
   ]
  },
  {
   "cell_type": "code",
   "execution_count": null,
   "metadata": {},
   "outputs": [],
   "source": [
    "def extract_descriptors(path,hlf,train = True):\n",
    "    images_pth, label_dict = utility.getPath_and_dict(path, train)\n",
    "    print(len(images_pth))\n",
    "    descriptor_list = [] \n",
    "    train_labels = []\n",
    "    image_count = len(images_pth) \n",
    "    for i,img_path in enumerate(images_pth):\n",
    "        cl = img_path.split('/')[-2]\n",
    "        class_index = cl\n",
    "        train_labels.append(class_index)        \n",
    "        img = utility.readimage(img_path)\n",
    "        dsc = getDescriptors(img, halflength = hlf)\n",
    "        if(i%100==0):\n",
    "            print(dsc.shape)\n",
    "        descriptor_list.append(dsc)     \n",
    "    descriptors =np.array(descriptor_list)\n",
    "    train_labels = np.array(train_labels)\n",
    "    return descriptors, train_labels, images_pth"
   ]
  },
  {
   "cell_type": "markdown",
   "metadata": {},
   "source": [
    "## MAIN ---> BINARY GABOR FEATURE"
   ]
  },
  {
   "cell_type": "code",
   "execution_count": null,
   "metadata": {},
   "outputs": [],
   "source": [
    "species = ['Arthonia_radiata','Caloplaca_cerina','Candelariella_reflexa','Candelariella_xanthostigma','Chrysothrix_candelaris','Flavoparmelia_caperata','Gyalolechia_flavorubescens','Hyperphyscia_adglutinata'\n",
    "        ,'Lecanora_argentata','Lecanora_chlarotera','Lecidella_elaeochroma','Melanelixia_glabratula'\n",
    "        ,'Phaeophyscia_orbicularis','Physcia_biziana','Physconia_grisea','Ramalina_farinacea','Ramalina_fastigiata','Xanthomendoza_fallax','Xanthomendoza_fulva','flavoparmenia_soredians']\n"
   ]
  },
  {
   "cell_type": "code",
   "execution_count": null,
   "metadata": {},
   "outputs": [],
   "source": [
    "feat,lab,_ = extract_descriptors('../../../data/train', hlf = 15)\n",
    "feat = feat.reshape((1121,648))\n",
    "\n"
   ]
  },
  {
   "cell_type": "code",
   "execution_count": null,
   "metadata": {},
   "outputs": [],
   "source": [
    "test_feat, test_lab,image_list = extract_descriptors('../../../data/valid', hlf = 15, train = False)\n",
    "test_feat = test_feat.reshape((456,648))\n"
   ]
  },
  {
   "cell_type": "code",
   "execution_count": null,
   "metadata": {},
   "outputs": [],
   "source": [
    "svm ,score_rbf = utility.search_for_best_rbf(feat, lab, test_feat, test_lab)"
   ]
  },
  {
   "cell_type": "code",
   "execution_count": null,
   "metadata": {},
   "outputs": [],
   "source": [
    "halfln = 15\n",
    "director_cm = 'results/results_bgp/confusion_matrix/'\n",
    "name_cm = 'cm_'+ str(halfln)\n",
    "pred = utility.create_and_save_confusion_matrix(svm, test_feat, test_lab, species, director_cm, name_cm)\n",
    "\n",
    "director_pra = 'results/results_bgp/pra/'\n",
    "name_pra = 'pra_' + str(halfln)\n",
    "utility.calculate_and_plot_precision_recall(test_lab, pred, species, director_pra, name_pra)"
   ]
  },
  {
   "cell_type": "code",
   "execution_count": null,
   "metadata": {},
   "outputs": [],
   "source": []
  }
 ],
 "metadata": {
  "kernelspec": {
   "display_name": "Python 3.7.3 64-bit ('base': conda)",
   "language": "python",
   "name": "python37364bitbaseconda10374d56d606404d89697440b2a570f1"
  },
  "language_info": {
   "codemirror_mode": {
    "name": "ipython",
    "version": 3
   },
   "file_extension": ".py",
   "mimetype": "text/x-python",
   "name": "python",
   "nbconvert_exporter": "python",
   "pygments_lexer": "ipython3",
   "version": "3.7.3"
  }
 },
 "nbformat": 4,
 "nbformat_minor": 4
}
