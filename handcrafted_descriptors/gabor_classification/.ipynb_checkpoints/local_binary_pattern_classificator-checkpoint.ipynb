{
 "cells": [
  {
   "cell_type": "code",
   "execution_count": null,
   "metadata": {},
   "outputs": [],
   "source": [
    "import sys\n",
    "sys.path.append('/Users/admin/Desktop/tesi/Thesis/')\n",
    "from skimage.filters import gaussian\n",
    "from handcrafted_descriptors.grid_classification import utils\n",
    "from handcrafted_descriptors.descriptor import binary_gabor_features as bgf\n",
    "import sklearn.metrics as skmetrics\n",
    "import argparse\n",
    "import cv2\n",
    "from sklearn.metrics import precision_recall_fscore_support\n",
    "import numpy as np \n",
    "import os\n",
    "from sklearn.cluster import KMeans\n",
    "from sklearn.svm import SVC\n",
    "from sklearn.preprocessing import StandardScaler\n",
    "from matplotlib import pyplot as plt\n",
    "from sklearn import svm, datasets\n",
    "from sklearn.model_selection import train_test_split\n",
    "from sklearn.metrics import confusion_matrix\n",
    "from sklearn.utils.multiclass import unique_labels\n",
    "from sklearn.metrics.pairwise import chi2_kernel\n",
    "from sklearn.model_selection import GridSearchCV\n",
    "from sklearn.metrics import accuracy_score\n",
    "# import the necessary packages\n",
    "from skimage import feature\n",
    "import numpy as np"
   ]
  },
  {
   "cell_type": "code",
   "execution_count": null,
   "metadata": {},
   "outputs": [],
   "source": [
    "species = ['Arthonia_radiata','Caloplaca_cerina','Candelariella_reflexa','Candelariella_xanthostigma','Chrysothrix_candelaris','Flavoparmelia_caperata','Gyalolechia_flavorubescens','Hyperphyscia_adglutinata'\n",
    "        ,'Lecanora_argentata','Lecanora_chlarotera','Lecidella_elaeochroma','Melanelixia_glabratula'\n",
    "        ,'Phaeophyscia_orbicularis','Physcia_biziana','Physconia_grisea','Ramalina_farinacea','Ramalina_fastigiata','Xanthomendoza_fallax','Xanthomendoza_fulva','flavoparmenia_soredians']\n"
   ]
  },
  {
   "cell_type": "code",
   "execution_count": null,
   "metadata": {},
   "outputs": [],
   "source": [
    "def calculate_max_value(numpoints):\n",
    "    res = 1\n",
    "    for i in range(1,numpoints):\n",
    "        res = res + 2**(i)\n",
    "    return res"
   ]
  },
  {
   "cell_type": "code",
   "execution_count": null,
   "metadata": {},
   "outputs": [],
   "source": [
    "\n",
    "class LocalBinaryPatterns:\n",
    "    def __init__(self, numPoints, radius,meth = 'ror'):\n",
    "        # store the number of points and radius\n",
    "        self.numPoints = numPoints\n",
    "        self.radius = radius\n",
    "        self.meth = meth\n",
    "    def describe(self, image, eps=1e-7):\n",
    "        # compute the Local Binary Pattern representation\n",
    "        # of the image, and then use the LBP representation\n",
    "        # to build the histogram of patterns\n",
    "        if (self.meth == 'default'):\n",
    "            \n",
    "            lbp = feature.local_binary_pattern(image, self.numPoints,self.radius,method = 'default')\n",
    "        else:\n",
    "            lbp = feature.local_binary_pattern(image, self.numPoints,self.radius,method = 'ror')\n",
    "        return lbp.ravel()\n",
    "    \n",
    "\n",
    "    \n"
   ]
  },
  {
   "cell_type": "code",
   "execution_count": null,
   "metadata": {},
   "outputs": [],
   "source": [
    "def getPath_and_dict(path, train):\n",
    "    lichens = os.listdir(path)\n",
    "    dic_lic = {}\n",
    "    res = []\n",
    "    for i,l in enumerate(lichens):\n",
    "        dic_lic[l] = i\n",
    "        pth = os.path.join(path,l)\n",
    "        images_of_specific_lichen = os.listdir(pth)\n",
    "        for j,im in enumerate(images_of_specific_lichen):\n",
    "            image = os.path.join(pth,im)\n",
    "            res.append(image)\n",
    "    \n",
    "    \n",
    "    if(train is True):\n",
    "        np.random.shuffle(res)\n",
    "    return res, dic_lic\n",
    "\n",
    "\n",
    "def readimage(im):\n",
    "    img = cv2.imread(im)\n",
    "    img = cv2.cvtColor(img, cv2.COLOR_BGR2RGB)\n",
    "    return img\n"
   ]
  },
  {
   "cell_type": "code",
   "execution_count": null,
   "metadata": {},
   "outputs": [],
   "source": [
    "def lbp_extract_descriptors(path, numPoints, radius,meth = 'default',train = True):       \n",
    "    desc = LocalBinaryPatterns(numPoints, radius, meth = meth)\n",
    "    images_pth, label_dict = getPath_and_dict(path, train)\n",
    "    descriptor_list = [] \n",
    "    train_labels = []\n",
    "    image_count = len(images_pth)  \n",
    "    for i,img_path in enumerate(images_pth):\n",
    "        cl = img_path.split('/')[-2]\n",
    "        class_index = cl\n",
    "        train_labels.append(class_index)        \n",
    "        img = cv2.imread(img_path)\n",
    "        img = cv2.cvtColor(img, cv2.COLOR_BGR2RGB)\n",
    "        hist1 = desc.describe(img[:,:,0])\n",
    "        hist2 = desc.describe(img[:,:,1])\n",
    "        hist3 = desc.describe(img[:,:,2])\n",
    "        lbp_total = np.concatenate([hist1,hist2,hist3])\n",
    "        if meth == 'uniform':\n",
    "            maximum = calculate_max_value(numPoints)\n",
    "            (hist, _) = np.histogram(lbp_total.ravel(),bins=np.arange(0, maximum + 3),\n",
    "                        range=(0, maximum + 2))\n",
    "        else: \n",
    "            maximum = calculate_max_value(numPoints)\n",
    "            (hist, _) = np.histogram(lbp_total.ravel(),bins=np.arange(0, maximum + 3),\n",
    "                        range=(0, maximum + 2))\n",
    "        hist = hist / np.sum(hist)\n",
    "        descriptor_list.append(hist)     \n",
    "    descriptors =np.array(descriptor_list)\n",
    "    train_labels = np.array(train_labels)\n",
    "    return descriptors, train_labels\n",
    "    \n",
    "    "
   ]
  },
  {
   "cell_type": "code",
   "execution_count": 103,
   "metadata": {},
   "outputs": [],
   "source": [
    "def search_for_best_poly(training_feat, tr_lab, tst_features, tst_lab):\n",
    "    param_grid = {'degree':[2,3,4,5,6,7],'C': [1e-3,1e-2, 1e-1, 1e0, 1e1, 1e2,1e3], 'gamma': [  0.00001,0.0001,0.001, 0.01, 0.1,1]}\n",
    "    clf0 = GridSearchCV(SVC(kernel='degree'), param_grid)\n",
    "    svc = clf0.fit(training_feat, tr_lab)\n",
    "    print(\"Best estimator found by grid search : \", clf0.best_estimator_)\n",
    "    y_pred = clf0.predict(tst_features)\n",
    "    print('Accuracy score :', skmetrics.accuracy_score(y_pred, tst_lab))\n",
    "    return clf0, skmetrics.accuracy_score(y_pred, tst_lab)"
   ]
  },
  {
   "cell_type": "code",
   "execution_count": null,
   "metadata": {},
   "outputs": [],
   "source": [
    "def svcParamSelection(X, y, kernel, nfolds):\n",
    "    Cs = [0.5, 0.1, 0.15, 0.2, 0.3]\n",
    "    gammas = [0.1, 0.11, 0.095, 0.105]\n",
    "    param_grid = {'C': Cs, 'gamma' : gammas}\n",
    "    grid_search = GridSearchCV(SVC(kernel=kernel), param_grid, cv=nfolds)\n",
    "    grid_search.fit(X, y)\n",
    "    grid_search.best_params_\n",
    "    return grid_search.best_params_"
   ]
  },
  {
   "cell_type": "code",
   "execution_count": null,
   "metadata": {},
   "outputs": [],
   "source": [
    "def search_for_best_rbf(training_feat, tr_lab, tst_features, tst_lab):\n",
    "    param_grid = {'C': [ 1e0, 1e1, 1e2,1e3], 'gamma': [   0.01, 0.1,1]}\n",
    "    clf0 = GridSearchCV(SVC(kernel='rbf'), param_grid)\n",
    "    svc = clf0.fit(training_feat, tr_lab)\n",
    "    print(\"Best estimator found by grid search : \", clf0.best_estimator_)\n",
    "    y_pred = clf0.predict(tst_features)\n",
    "    print('Accuracy score :', skmetrics.accuracy_score(y_pred, tst_lab))\n",
    "    return clf0,skmetrics.accuracy_score(y_pred, tst_lab)"
   ]
  },
  {
   "cell_type": "code",
   "execution_count": null,
   "metadata": {},
   "outputs": [],
   "source": [
    "def create_and_save_confusion_matrix(tst_features, tst_lab, species, vw,director, name ):\n",
    "    pred = svm.predict(tst_features)\n",
    "    df = utils.evaluated_prediction(pred, tst_lab, species)\n",
    "    cm = utils.build_confusion_matrix(df, pred, tst_lab,species)\n",
    "    fig=plt.figure(figsize=(30, 15))\n",
    "    utils.plot_confusion_matrix(cm,species,name,director,normalize=True,title='Confusion matrix')\n",
    "    return pred\n",
    "\n",
    "\n",
    "\n",
    "def calculate_and_plot_precision_recall(tst_lab, pred, species, directory, string):\n",
    "    precision, recall, fbeta, support = precision_recall_fscore_support(tst_lab, pred)\n",
    "    \n",
    "    df = pd.DataFrame({\"X\":species, \"precision\":precision,\"recall\":recall,'f1score': fbeta})\n",
    "    df.plot(x=\"X\", y=[\"precision\", \"recall\",'f1score'], kind=\"bar\")\n",
    "    plt.tight_layout()\n",
    "    plt.savefig(directory +'precision_recall_class4class'+string+'.jpg')\n",
    "    return np.mean(precision), np.mean(recall), np.mean(fbeta)\n"
   ]
  },
  {
   "cell_type": "markdown",
   "metadata": {},
   "source": [
    "## MAIN"
   ]
  },
  {
   "cell_type": "code",
   "execution_count": 89,
   "metadata": {},
   "outputs": [
    {
     "name": "stdout",
     "output_type": "stream",
     "text": [
      "start calculating descriptor\n",
      "end calculating descriptor\n",
      "start svm\n",
      "Best estimator found by grid search :  SVC(C=1000.0, gamma=1)\n",
      "Accuracy score : 0.43875278396436523\n",
      "end svm\n",
      "start calculating descriptor\n",
      "end calculating descriptor\n",
      "start svm\n",
      "Best estimator found by grid search :  SVC(C=1000.0, gamma=1)\n",
      "Accuracy score : 0.4365256124721604\n",
      "end svm\n",
      "start calculating descriptor\n"
     ]
    },
    {
     "ename": "KeyboardInterrupt",
     "evalue": "",
     "output_type": "error",
     "traceback": [
      "\u001b[0;31m---------------------------------------------------------------------------\u001b[0m",
      "\u001b[0;31mKeyboardInterrupt\u001b[0m                         Traceback (most recent call last)",
      "\u001b[0;32m<ipython-input-89-67d08b45624e>\u001b[0m in \u001b[0;36m<module>\u001b[0;34m\u001b[0m\n\u001b[1;32m      5\u001b[0m \u001b[0;32mfor\u001b[0m \u001b[0mradius\u001b[0m \u001b[0;32min\u001b[0m \u001b[0;34m[\u001b[0m\u001b[0;36m1\u001b[0m\u001b[0;34m,\u001b[0m\u001b[0;36m2\u001b[0m\u001b[0;34m,\u001b[0m\u001b[0;36m3\u001b[0m\u001b[0;34m,\u001b[0m\u001b[0;36m4\u001b[0m\u001b[0;34m,\u001b[0m\u001b[0;36m5\u001b[0m\u001b[0;34m,\u001b[0m\u001b[0;36m6\u001b[0m\u001b[0;34m,\u001b[0m\u001b[0;36m7\u001b[0m\u001b[0;34m,\u001b[0m\u001b[0;36m8\u001b[0m\u001b[0;34m,\u001b[0m\u001b[0;36m9\u001b[0m\u001b[0;34m,\u001b[0m\u001b[0;36m10\u001b[0m\u001b[0;34m]\u001b[0m\u001b[0;34m:\u001b[0m\u001b[0;34m\u001b[0m\u001b[0;34m\u001b[0m\u001b[0m\n\u001b[1;32m      6\u001b[0m     \u001b[0mprint\u001b[0m\u001b[0;34m(\u001b[0m\u001b[0;34m'start calculating descriptor'\u001b[0m\u001b[0;34m)\u001b[0m\u001b[0;34m\u001b[0m\u001b[0;34m\u001b[0m\u001b[0m\n\u001b[0;32m----> 7\u001b[0;31m     \u001b[0mfeat\u001b[0m\u001b[0;34m,\u001b[0m\u001b[0mlab\u001b[0m \u001b[0;34m=\u001b[0m \u001b[0mlbp_extract_descriptors\u001b[0m\u001b[0;34m(\u001b[0m\u001b[0;34m'../../../data/train'\u001b[0m\u001b[0;34m,\u001b[0m \u001b[0;36m8\u001b[0m\u001b[0;34m,\u001b[0m \u001b[0mradius\u001b[0m\u001b[0;34m,\u001b[0m\u001b[0mmeth\u001b[0m \u001b[0;34m=\u001b[0m \u001b[0;34m'ror'\u001b[0m\u001b[0;34m,\u001b[0m\u001b[0mtrain\u001b[0m \u001b[0;34m=\u001b[0m \u001b[0;32mTrue\u001b[0m\u001b[0;34m)\u001b[0m\u001b[0;34m\u001b[0m\u001b[0;34m\u001b[0m\u001b[0m\n\u001b[0m\u001b[1;32m      8\u001b[0m     \u001b[0mtest_feat\u001b[0m\u001b[0;34m,\u001b[0m \u001b[0mtest_lab\u001b[0m \u001b[0;34m=\u001b[0m \u001b[0mlbp_extract_descriptors\u001b[0m\u001b[0;34m(\u001b[0m\u001b[0;34m'../../../data/valid'\u001b[0m\u001b[0;34m,\u001b[0m\u001b[0;36m8\u001b[0m\u001b[0;34m,\u001b[0m \u001b[0mradius\u001b[0m\u001b[0;34m,\u001b[0m\u001b[0mmeth\u001b[0m \u001b[0;34m=\u001b[0m \u001b[0;34m'ror'\u001b[0m\u001b[0;34m,\u001b[0m\u001b[0mtrain\u001b[0m \u001b[0;34m=\u001b[0m \u001b[0;32mFalse\u001b[0m\u001b[0;34m)\u001b[0m\u001b[0;34m\u001b[0m\u001b[0;34m\u001b[0m\u001b[0m\n\u001b[1;32m      9\u001b[0m     \u001b[0mprint\u001b[0m\u001b[0;34m(\u001b[0m\u001b[0;34m'end calculating descriptor'\u001b[0m\u001b[0;34m)\u001b[0m\u001b[0;34m\u001b[0m\u001b[0;34m\u001b[0m\u001b[0m\n",
      "\u001b[0;32m<ipython-input-80-38ae34683542>\u001b[0m in \u001b[0;36mlbp_extract_descriptors\u001b[0;34m(path, numPoints, radius, meth, train)\u001b[0m\n\u001b[1;32m     12\u001b[0m         \u001b[0mimg\u001b[0m \u001b[0;34m=\u001b[0m \u001b[0mcv2\u001b[0m\u001b[0;34m.\u001b[0m\u001b[0mcvtColor\u001b[0m\u001b[0;34m(\u001b[0m\u001b[0mimg\u001b[0m\u001b[0;34m,\u001b[0m \u001b[0mcv2\u001b[0m\u001b[0;34m.\u001b[0m\u001b[0mCOLOR_BGR2RGB\u001b[0m\u001b[0;34m)\u001b[0m\u001b[0;34m\u001b[0m\u001b[0;34m\u001b[0m\u001b[0m\n\u001b[1;32m     13\u001b[0m         \u001b[0mhist1\u001b[0m \u001b[0;34m=\u001b[0m \u001b[0mdesc\u001b[0m\u001b[0;34m.\u001b[0m\u001b[0mdescribe\u001b[0m\u001b[0;34m(\u001b[0m\u001b[0mimg\u001b[0m\u001b[0;34m[\u001b[0m\u001b[0;34m:\u001b[0m\u001b[0;34m,\u001b[0m\u001b[0;34m:\u001b[0m\u001b[0;34m,\u001b[0m\u001b[0;36m0\u001b[0m\u001b[0;34m]\u001b[0m\u001b[0;34m)\u001b[0m\u001b[0;34m\u001b[0m\u001b[0;34m\u001b[0m\u001b[0m\n\u001b[0;32m---> 14\u001b[0;31m         \u001b[0mhist2\u001b[0m \u001b[0;34m=\u001b[0m \u001b[0mdesc\u001b[0m\u001b[0;34m.\u001b[0m\u001b[0mdescribe\u001b[0m\u001b[0;34m(\u001b[0m\u001b[0mimg\u001b[0m\u001b[0;34m[\u001b[0m\u001b[0;34m:\u001b[0m\u001b[0;34m,\u001b[0m\u001b[0;34m:\u001b[0m\u001b[0;34m,\u001b[0m\u001b[0;36m1\u001b[0m\u001b[0;34m]\u001b[0m\u001b[0;34m)\u001b[0m\u001b[0;34m\u001b[0m\u001b[0;34m\u001b[0m\u001b[0m\n\u001b[0m\u001b[1;32m     15\u001b[0m         \u001b[0mhist3\u001b[0m \u001b[0;34m=\u001b[0m \u001b[0mdesc\u001b[0m\u001b[0;34m.\u001b[0m\u001b[0mdescribe\u001b[0m\u001b[0;34m(\u001b[0m\u001b[0mimg\u001b[0m\u001b[0;34m[\u001b[0m\u001b[0;34m:\u001b[0m\u001b[0;34m,\u001b[0m\u001b[0;34m:\u001b[0m\u001b[0;34m,\u001b[0m\u001b[0;36m2\u001b[0m\u001b[0;34m]\u001b[0m\u001b[0;34m)\u001b[0m\u001b[0;34m\u001b[0m\u001b[0;34m\u001b[0m\u001b[0m\n\u001b[1;32m     16\u001b[0m         \u001b[0mlbp_total\u001b[0m \u001b[0;34m=\u001b[0m \u001b[0mnp\u001b[0m\u001b[0;34m.\u001b[0m\u001b[0mconcatenate\u001b[0m\u001b[0;34m(\u001b[0m\u001b[0;34m[\u001b[0m\u001b[0mhist1\u001b[0m\u001b[0;34m,\u001b[0m\u001b[0mhist2\u001b[0m\u001b[0;34m,\u001b[0m\u001b[0mhist3\u001b[0m\u001b[0;34m]\u001b[0m\u001b[0;34m)\u001b[0m\u001b[0;34m\u001b[0m\u001b[0;34m\u001b[0m\u001b[0m\n",
      "\u001b[0;32m<ipython-input-78-b7bdb7c4799d>\u001b[0m in \u001b[0;36mdescribe\u001b[0;34m(self, image, eps)\u001b[0m\n\u001b[1;32m     13\u001b[0m             \u001b[0mlbp\u001b[0m \u001b[0;34m=\u001b[0m \u001b[0mfeature\u001b[0m\u001b[0;34m.\u001b[0m\u001b[0mlocal_binary_pattern\u001b[0m\u001b[0;34m(\u001b[0m\u001b[0mimage\u001b[0m\u001b[0;34m,\u001b[0m \u001b[0mself\u001b[0m\u001b[0;34m.\u001b[0m\u001b[0mnumPoints\u001b[0m\u001b[0;34m,\u001b[0m\u001b[0mself\u001b[0m\u001b[0;34m.\u001b[0m\u001b[0mradius\u001b[0m\u001b[0;34m,\u001b[0m\u001b[0mmethod\u001b[0m \u001b[0;34m=\u001b[0m \u001b[0;34m'default'\u001b[0m\u001b[0;34m)\u001b[0m\u001b[0;34m\u001b[0m\u001b[0;34m\u001b[0m\u001b[0m\n\u001b[1;32m     14\u001b[0m         \u001b[0;32melse\u001b[0m\u001b[0;34m:\u001b[0m\u001b[0;34m\u001b[0m\u001b[0;34m\u001b[0m\u001b[0m\n\u001b[0;32m---> 15\u001b[0;31m             \u001b[0mlbp\u001b[0m \u001b[0;34m=\u001b[0m \u001b[0mfeature\u001b[0m\u001b[0;34m.\u001b[0m\u001b[0mlocal_binary_pattern\u001b[0m\u001b[0;34m(\u001b[0m\u001b[0mimage\u001b[0m\u001b[0;34m,\u001b[0m \u001b[0mself\u001b[0m\u001b[0;34m.\u001b[0m\u001b[0mnumPoints\u001b[0m\u001b[0;34m,\u001b[0m\u001b[0mself\u001b[0m\u001b[0;34m.\u001b[0m\u001b[0mradius\u001b[0m\u001b[0;34m,\u001b[0m\u001b[0mmethod\u001b[0m \u001b[0;34m=\u001b[0m \u001b[0;34m'ror'\u001b[0m\u001b[0;34m)\u001b[0m\u001b[0;34m\u001b[0m\u001b[0;34m\u001b[0m\u001b[0m\n\u001b[0m\u001b[1;32m     16\u001b[0m         \u001b[0;32mreturn\u001b[0m \u001b[0mlbp\u001b[0m\u001b[0;34m.\u001b[0m\u001b[0mravel\u001b[0m\u001b[0;34m(\u001b[0m\u001b[0;34m)\u001b[0m\u001b[0;34m\u001b[0m\u001b[0;34m\u001b[0m\u001b[0m\n\u001b[1;32m     17\u001b[0m \u001b[0;34m\u001b[0m\u001b[0m\n",
      "\u001b[0;32m/anaconda3/lib/python3.7/site-packages/skimage/feature/texture.py\u001b[0m in \u001b[0;36mlocal_binary_pattern\u001b[0;34m(image, P, R, method)\u001b[0m\n\u001b[1;32m    334\u001b[0m     }\n\u001b[1;32m    335\u001b[0m     \u001b[0mimage\u001b[0m \u001b[0;34m=\u001b[0m \u001b[0mnp\u001b[0m\u001b[0;34m.\u001b[0m\u001b[0mascontiguousarray\u001b[0m\u001b[0;34m(\u001b[0m\u001b[0mimage\u001b[0m\u001b[0;34m,\u001b[0m \u001b[0mdtype\u001b[0m\u001b[0;34m=\u001b[0m\u001b[0mnp\u001b[0m\u001b[0;34m.\u001b[0m\u001b[0mdouble\u001b[0m\u001b[0;34m)\u001b[0m\u001b[0;34m\u001b[0m\u001b[0;34m\u001b[0m\u001b[0m\n\u001b[0;32m--> 336\u001b[0;31m     \u001b[0moutput\u001b[0m \u001b[0;34m=\u001b[0m \u001b[0m_local_binary_pattern\u001b[0m\u001b[0;34m(\u001b[0m\u001b[0mimage\u001b[0m\u001b[0;34m,\u001b[0m \u001b[0mP\u001b[0m\u001b[0;34m,\u001b[0m \u001b[0mR\u001b[0m\u001b[0;34m,\u001b[0m \u001b[0mmethods\u001b[0m\u001b[0;34m[\u001b[0m\u001b[0mmethod\u001b[0m\u001b[0;34m.\u001b[0m\u001b[0mlower\u001b[0m\u001b[0;34m(\u001b[0m\u001b[0;34m)\u001b[0m\u001b[0;34m]\u001b[0m\u001b[0;34m)\u001b[0m\u001b[0;34m\u001b[0m\u001b[0;34m\u001b[0m\u001b[0m\n\u001b[0m\u001b[1;32m    337\u001b[0m     \u001b[0;32mreturn\u001b[0m \u001b[0moutput\u001b[0m\u001b[0;34m\u001b[0m\u001b[0;34m\u001b[0m\u001b[0m\n\u001b[1;32m    338\u001b[0m \u001b[0;34m\u001b[0m\u001b[0m\n",
      "\u001b[0;32mskimage/feature/_texture.pyx\u001b[0m in \u001b[0;36mskimage.feature._texture._local_binary_pattern\u001b[0;34m()\u001b[0m\n",
      "\u001b[0;32m/anaconda3/lib/python3.7/site-packages/numpy/core/_asarray.py\u001b[0m in \u001b[0;36masarray\u001b[0;34m(a, dtype, order)\u001b[0m\n\u001b[1;32m     12\u001b[0m ]\n\u001b[1;32m     13\u001b[0m \u001b[0;34m\u001b[0m\u001b[0m\n\u001b[0;32m---> 14\u001b[0;31m \u001b[0;34m@\u001b[0m\u001b[0mset_module\u001b[0m\u001b[0;34m(\u001b[0m\u001b[0;34m'numpy'\u001b[0m\u001b[0;34m)\u001b[0m\u001b[0;34m\u001b[0m\u001b[0;34m\u001b[0m\u001b[0m\n\u001b[0m\u001b[1;32m     15\u001b[0m \u001b[0;32mdef\u001b[0m \u001b[0masarray\u001b[0m\u001b[0;34m(\u001b[0m\u001b[0ma\u001b[0m\u001b[0;34m,\u001b[0m \u001b[0mdtype\u001b[0m\u001b[0;34m=\u001b[0m\u001b[0;32mNone\u001b[0m\u001b[0;34m,\u001b[0m \u001b[0morder\u001b[0m\u001b[0;34m=\u001b[0m\u001b[0;32mNone\u001b[0m\u001b[0;34m)\u001b[0m\u001b[0;34m:\u001b[0m\u001b[0;34m\u001b[0m\u001b[0;34m\u001b[0m\u001b[0m\n\u001b[1;32m     16\u001b[0m     \"\"\"Convert the input to an array.\n",
      "\u001b[0;31mKeyboardInterrupt\u001b[0m: "
     ]
    }
   ],
   "source": [
    "import pandas as pd\n",
    "accuracy = []\n",
    "precision = []\n",
    "recall = []\n",
    "for radius in [1,2,3,4,5,6,7,8,9,10]:\n",
    "    print('start calculating descriptor')\n",
    "    feat,lab = lbp_extract_descriptors('../../../data/train', 8, radius,meth = 'ror',train = True)    \n",
    "    test_feat, test_lab = lbp_extract_descriptors('../../../data/valid',8, radius,meth = 'ror',train = False)\n",
    "    print('end calculating descriptor')\n",
    "    print('start svm')\n",
    "    svm, acc = search_for_best_rbf(feat, lab, test_feat, test_lab)\n",
    "    print('end svm')\n",
    "    #pred = svm.predict(test_feat)\n",
    "    #df = evaluated_prediction(pred, test_lab, species)\n",
    "    #cm = build_confusion_matrix(df, pred, test_lab,species)\n",
    "    #fig=plt.figure(figsize=(30, 15))\n",
    "    #utils.plot_confusion_matrix(cm,species,'confusion_matrix_' + str(radius) + '_8points','results_lbp/',normalize=True,title='Confusion matrix')\n",
    "    #prec, rec, fbeta = calculate_and_plot_precision_recall(test_lab, pred, species, 'results_lbp/', 'precision_recall_' + str(radius) + '_8points')\n",
    "    #precision.append(prec)\n",
    "    #recall.append(rec)\n",
    "    #accuracy.append(acc)"
   ]
  },
  {
   "cell_type": "code",
   "execution_count": null,
   "metadata": {},
   "outputs": [],
   "source": [
    "x1 = [1,2,3,4,5,6,7,8,9,10]\n",
    "df = pd.DataFrame({\"X\":x1, \"precision\":precision,\"recall\":recall,'accuracy': accuracy})\n",
    "df.plot(x=\"X\", y=[\"precision\", \"recall\",'accuracy'], kind=\"bar\")\n",
    "plt.grid()\n",
    "plt.xlabel('density of the grid (in pixel)')\n",
    "plt.ylabel('Percentate %')\n",
    "plt.tight_layout()\n",
    "plt.savefig('results_lbp/total8points_bar.jpg')"
   ]
  },
  {
   "cell_type": "markdown",
   "metadata": {},
   "source": [
    "## MULTI-SCALE APPROACH"
   ]
  },
  {
   "cell_type": "code",
   "execution_count": 137,
   "metadata": {},
   "outputs": [],
   "source": [
    "def multiscale_lbp_extract_descriptors(path, numPoints ,meth = 'default',train = True):       \n",
    "    desc = [LocalBinaryPatterns(numPoints, 1, meth = meth), LocalBinaryPatterns(numPoints, 2, meth = meth),LocalBinaryPatterns(numPoints, 3, meth = meth)]\n",
    "    images_pth, label_dict = getPath_and_dict(path, train)\n",
    "    descriptor_list = [] \n",
    "    train_labels = []\n",
    "    image_count = len(images_pth)  \n",
    "    for i,img_path in enumerate(images_pth):\n",
    "        cl = img_path.split('/')[-2]\n",
    "        class_index = cl\n",
    "        train_labels.append(class_index)\n",
    "        hist = []\n",
    "        for dsc in desc:         \n",
    "            img = cv2.imread(img_path)\n",
    "            img = cv2.cvtColor(img, cv2.COLOR_BGR2RGB)\n",
    "            hist1 = dsc.describe(img[:,:,0])\n",
    "            hist2 = dsc.describe(img[:,:,1])\n",
    "            hist3 = dsc.describe(img[:,:,2])\n",
    "            lbp_total = np.concatenate([hist1,hist2,hist3])\n",
    "            maximum = calculate_max_value(numPoints)\n",
    "            (hist_tmp, _) = np.histogram(lbp_total.ravel(),bins=np.arange(0, maximum + 3),range=(0, maximum + 2))\n",
    "            hist.append(hist_tmp)\n",
    " \n",
    "        hist = np.array(hist)\n",
    "        hist = hist.reshape(-1)\n",
    "        hist = hist / np.sum(hist)\n",
    "        descriptor_list.append(hist)     \n",
    "    descriptors =np.array(descriptor_list)\n",
    "    train_labels = np.array(train_labels)\n",
    "    return descriptors, train_labels\n",
    "    "
   ]
  },
  {
   "cell_type": "code",
   "execution_count": 138,
   "metadata": {},
   "outputs": [],
   "source": [
    "feat,lab = multiscale_lbp_extract_descriptors('../../../data/train', 10,train = True)    \n",
    "test_feat, test_lab = multiscale_lbp_extract_descriptors('../../../data/valid',10,train = False)"
   ]
  },
  {
   "cell_type": "code",
   "execution_count": 143,
   "metadata": {},
   "outputs": [
    {
     "ename": "NameError",
     "evalue": "name 'tst_lab' is not defined",
     "output_type": "error",
     "traceback": [
      "\u001b[0;31m---------------------------------------------------------------------------\u001b[0m",
      "\u001b[0;31mNameError\u001b[0m                                 Traceback (most recent call last)",
      "\u001b[0;32m<ipython-input-143-21a88667e012>\u001b[0m in \u001b[0;36m<module>\u001b[0;34m\u001b[0m\n\u001b[1;32m      1\u001b[0m \u001b[0;32mfrom\u001b[0m \u001b[0msklearn\u001b[0m\u001b[0;34m.\u001b[0m\u001b[0mneighbors\u001b[0m \u001b[0;32mimport\u001b[0m \u001b[0mKNeighborsClassifier\u001b[0m\u001b[0;34m\u001b[0m\u001b[0;34m\u001b[0m\u001b[0m\n\u001b[0;32m----> 2\u001b[0;31m \u001b[0macc\u001b[0m\u001b[0;34m,\u001b[0m\u001b[0mprec\u001b[0m\u001b[0;34m,\u001b[0m \u001b[0mrec\u001b[0m\u001b[0;34m,\u001b[0m \u001b[0mclassif\u001b[0m \u001b[0;34m=\u001b[0m \u001b[0mtrain_model_and_calculate_accuracy\u001b[0m\u001b[0;34m(\u001b[0m\u001b[0mfeat\u001b[0m\u001b[0;34m,\u001b[0m \u001b[0mlab\u001b[0m\u001b[0;34m,\u001b[0m \u001b[0mtest_feat\u001b[0m\u001b[0;34m,\u001b[0m \u001b[0mtest_lab\u001b[0m\u001b[0;34m)\u001b[0m\u001b[0;34m\u001b[0m\u001b[0;34m\u001b[0m\u001b[0m\n\u001b[0m",
      "\u001b[0;32m<ipython-input-135-f3e0184372b7>\u001b[0m in \u001b[0;36mtrain_model_and_calculate_accuracy\u001b[0;34m(train_features, train_lab, test_features, test_lab)\u001b[0m\n\u001b[1;32m     19\u001b[0m             \u001b[0;32mif\u001b[0m \u001b[0my_pred\u001b[0m\u001b[0;34m[\u001b[0m\u001b[0mj\u001b[0m\u001b[0;34m]\u001b[0m\u001b[0;34m==\u001b[0m\u001b[0mtest_lab\u001b[0m\u001b[0;34m[\u001b[0m\u001b[0mj\u001b[0m\u001b[0;34m]\u001b[0m\u001b[0;34m:\u001b[0m\u001b[0;34m\u001b[0m\u001b[0;34m\u001b[0m\u001b[0m\n\u001b[1;32m     20\u001b[0m                 \u001b[0macc_temp\u001b[0m \u001b[0;34m=\u001b[0m \u001b[0macc_temp\u001b[0m \u001b[0;34m+\u001b[0m \u001b[0;36m1\u001b[0m\u001b[0;34m\u001b[0m\u001b[0;34m\u001b[0m\u001b[0m\n\u001b[0;32m---> 21\u001b[0;31m         \u001b[0mprecision\u001b[0m\u001b[0;34m,\u001b[0m \u001b[0mrecall\u001b[0m\u001b[0;34m,\u001b[0m \u001b[0mfbeta\u001b[0m\u001b[0;34m,\u001b[0m \u001b[0msupport\u001b[0m \u001b[0;34m=\u001b[0m \u001b[0mprecision_recall_fscore_support\u001b[0m\u001b[0;34m(\u001b[0m\u001b[0mtst_lab\u001b[0m\u001b[0;34m,\u001b[0m \u001b[0my_pred\u001b[0m\u001b[0;34m)\u001b[0m\u001b[0;34m\u001b[0m\u001b[0;34m\u001b[0m\u001b[0m\n\u001b[0m\u001b[1;32m     22\u001b[0m         \u001b[0mprec\u001b[0m\u001b[0;34m.\u001b[0m\u001b[0mappend\u001b[0m\u001b[0;34m(\u001b[0m\u001b[0mnp\u001b[0m\u001b[0;34m.\u001b[0m\u001b[0mmean\u001b[0m\u001b[0;34m(\u001b[0m\u001b[0mprecision\u001b[0m\u001b[0;34m)\u001b[0m\u001b[0;34m)\u001b[0m\u001b[0;34m\u001b[0m\u001b[0;34m\u001b[0m\u001b[0m\n\u001b[1;32m     23\u001b[0m         \u001b[0mrec\u001b[0m\u001b[0;34m.\u001b[0m\u001b[0mappend\u001b[0m\u001b[0;34m(\u001b[0m\u001b[0mnp\u001b[0m\u001b[0;34m.\u001b[0m\u001b[0mmean\u001b[0m\u001b[0;34m(\u001b[0m\u001b[0mrecall\u001b[0m\u001b[0;34m)\u001b[0m\u001b[0;34m)\u001b[0m\u001b[0;34m\u001b[0m\u001b[0;34m\u001b[0m\u001b[0m\n",
      "\u001b[0;31mNameError\u001b[0m: name 'tst_lab' is not defined"
     ]
    }
   ],
   "source": [
    "from sklearn.neighbors import KNeighborsClassifier\n",
    "acc,prec, rec, classif = train_model_and_calculate_accuracy(feat, lab, test_feat, test_lab)"
   ]
  },
  {
   "cell_type": "code",
   "execution_count": 134,
   "metadata": {},
   "outputs": [
    {
     "name": "stdout",
     "output_type": "stream",
     "text": [
      "start svm\n",
      "Best estimator found by grid search :  SVC(C=1000.0, gamma=1)\n",
      "Accuracy score : 0.39420935412026725\n",
      "end svm\n"
     ]
    }
   ],
   "source": [
    "print('start svm')\n",
    "svm, acc = search_for_best_rbf(feat, lab, test_feat, test_lab)\n",
    "print('end svm')\n",
    "#pred = svm.predict(t)"
   ]
  },
  {
   "cell_type": "code",
   "execution_count": null,
   "metadata": {},
   "outputs": [],
   "source": [
    "import pandas as pd\n",
    "def evaluated_prediction(pred,test_lab,lab ):\n",
    "    \"\"\"\n",
    "    Function which evaluate quality of prdiction of linear svm, calculating TP,FP,FN,TN\n",
    "\n",
    "    Input pred = prediction\n",
    "    Input test_lab = labels\n",
    "    Input num_classes(15) = number of classes\n",
    "    Input lab = name of classes\n",
    "\n",
    "    Output  res = dataframe with all these values\n",
    "    \"\"\"\n",
    "    num_classes = len(lab)\n",
    "    tp = []\n",
    "    fp = []\n",
    "    fn = []\n",
    "    tn = []\n",
    "    for i in range(num_classes):\n",
    "        tp_temp = 0\n",
    "        fp_temp = 0\n",
    "        fn_temp = 0\n",
    "        tn_temp = 0\n",
    "        for j in range(len(pred)):\n",
    "            if(pred[j]==lab[i] and test_lab[j]==lab[i]):\n",
    "                tp_temp = tp_temp + 1\n",
    "            if(pred[j]==lab[i] and test_lab[j]!=lab[i]):\n",
    "                fp_temp = fp_temp + 1\n",
    "            if(pred[j]!=lab[i] and test_lab[j]==lab[i]):\n",
    "                fn_temp = fn_temp + 1\n",
    "            if(pred[j]!=lab[i] and test_lab[j]!=lab[i]):\n",
    "\n",
    "                tn_temp = tn_temp +1\n",
    "        tp.append(tp_temp)\n",
    "        fp.append(fp_temp)\n",
    "        fn.append(fn_temp)\n",
    "        tn.append(tn_temp)\n",
    "    data = {'labels':lab , 'True positive':tp,'True negative':tn,'False positive':fp,'False negative':fn}\n",
    "    res = pd.DataFrame(data, columns = ['labels','True positive','True negative','False positive','False negative'])\n",
    "    return res\n",
    "\n",
    "\n",
    "def build_confusion_matrix(df,pred,test_labels,lab):\n",
    "    \"\"\"\n",
    "    Function tu construct confusion matrix\n",
    "    \"\"\"\n",
    "    num_classes = len(lab)\n",
    "    cm = np.zeros((num_classes,num_classes))\n",
    "    # insert true positive on the diagonal\n",
    "    for i in range(num_classes):\n",
    "        cm[i,i] = df.loc[i]['True positive']\n",
    "    for i in range(num_classes): # lavoro sulle classes true\n",
    "        for j in range(num_classes): #lavoro su classes predicted\n",
    "            temp = 0\n",
    "            for k in range(len(test_labels)):\n",
    "                if(test_labels[k]==lab[i] and pred[k]==lab[j]):\n",
    "                    temp = temp +1\n",
    "            cm[i,j]=temp\n",
    "    return cm\n"
   ]
  },
  {
   "cell_type": "code",
   "execution_count": 135,
   "metadata": {},
   "outputs": [],
   "source": [
    "def train_model_and_calculate_accuracy(train_features,train_lab,test_features,test_lab): \n",
    "    scaler = StandardScaler()\n",
    "    scaler.fit(train_features)\n",
    "\n",
    "    X_train = scaler.transform(train_features)\n",
    "    X_test = scaler.transform(test_features)\n",
    "    clc = []\n",
    "    acc = []\n",
    "    prec = []\n",
    "    rec = []\n",
    "    for i in range(1,51):\n",
    "        classifier = KNeighborsClassifier(n_neighbors=i) \n",
    "        classifier.fit(X_train, train_lab)\n",
    "        clc.append(classifier)\n",
    "        y_pred = classifier.predict(X_test)\n",
    "        acc_temp = 0\n",
    "        total = y_pred.shape[0]\n",
    "        for j in range(y_pred.shape[0]):\n",
    "            if y_pred[j]==test_lab[j]:\n",
    "                acc_temp = acc_temp + 1\n",
    "        precision, recall, fbeta, support = precision_recall_fscore_support(test_lab, y_pred)\n",
    "        prec.append(np.mean(precision))\n",
    "        rec.append(np.mean(recall))\n",
    "        acc.append(acc_temp/total)\n",
    "    return acc, prec, rec,clc "
   ]
  },
  {
   "cell_type": "code",
   "execution_count": null,
   "metadata": {},
   "outputs": [],
   "source": []
  }
 ],
 "metadata": {
  "kernelspec": {
   "display_name": "Python 3.7.3 64-bit ('base': conda)",
   "language": "python",
   "name": "python37364bitbaseconda10374d56d606404d89697440b2a570f1"
  },
  "language_info": {
   "codemirror_mode": {
    "name": "ipython",
    "version": 3
   },
   "file_extension": ".py",
   "mimetype": "text/x-python",
   "name": "python",
   "nbconvert_exporter": "python",
   "pygments_lexer": "ipython3",
   "version": "3.7.3"
  }
 },
 "nbformat": 4,
 "nbformat_minor": 4
}
