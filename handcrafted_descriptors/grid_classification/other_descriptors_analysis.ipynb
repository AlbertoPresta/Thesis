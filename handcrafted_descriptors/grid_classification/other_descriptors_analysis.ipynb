{
 "cells": [
  {
   "cell_type": "code",
   "execution_count": null,
   "metadata": {},
   "outputs": [],
   "source": [
    "def warn(*args, **kwargs):\n",
    "    pass\n",
    "import warnings\n",
    "warnings.warn = warn\n",
    "import sys\n",
    "sys.path.append('/Users/admin/Desktop/tesi/Thesis/')\n",
    "import numpy as np # fundamental package for scientific computing\n",
    "import matplotlib.pyplot as plt # package for plot function\n",
    "import import_ipynb\n",
    "from handcrafted_descriptors.gabor_classification import utility as utility \n",
    "from handcrafted_descriptors.grid_classification import kernels as krn\n",
    "from handcrafted_descriptors.grid_classification import utils\n",
    "import pandas as pd\n",
    "import os"
   ]
  },
  {
   "cell_type": "code",
   "execution_count": null,
   "metadata": {},
   "outputs": [],
   "source": [
    "species = ['Arthonia_radiata','Caloplaca_cerina','Candelariella_reflexa','Candelariella_xanthostigma','Chrysothrix_candelaris','Flavoparmelia_caperata','Gyalolechia_flavorubescens','Hyperphyscia_adglutinata'\n",
    "        ,'Lecanora_argentata','Lecanora_chlarotera','Lecidella_elaeochroma','Melanelixia_glabratula'\n",
    "        ,'Phaeophyscia_orbicularis','Physcia_biziana','Physconia_grisea','Ramalina_farinacea','Ramalina_fastigiata','Xanthomendoza_fallax','Xanthomendoza_fulva','flavoparmenia_soredians']\n"
   ]
  },
  {
   "cell_type": "code",
   "execution_count": null,
   "metadata": {},
   "outputs": [],
   "source": [
    "accuracy = []\n",
    "precision = []\n",
    "recall = []\n",
    "f1score = []"
   ]
  },
  {
   "cell_type": "code",
   "execution_count": null,
   "metadata": {},
   "outputs": [],
   "source": [
    "visual = '500'\n",
    "precision = []\n",
    "recall = []\n",
    "accuracy = []\n",
    "gridsize = ['4','6','8','12','16','24']\n",
    "\n",
    "\n",
    "for i,gr in enumerate(gridsize):\n",
    "    print('------> ',gr)\n",
    "    trf = '../../../rgb_feat/rgb_' + gr +'_' + visual + '_rbf/training_features.mat'\n",
    "    trlab = '../../../rgb_feat/rgb_' + gr +'_' + visual + '_rbf/training_lab_features.mat'\n",
    "\n",
    "    tstf = '../../../rgb_feat/rgb_' + gr +'_' + visual + '_rbf/testing_features.mat'\n",
    "    tstlab = '../../../rgb_feat/rgb_' + gr +'_' + visual + '_rbf/testing_lab_features.mat'\n",
    "\n",
    "\n",
    "    training_feat,tr_lab = utility.load_descriptor_from_matfile(trf, trlab)\n",
    "    tst_features, tst_lab = utility.load_descriptor_from_matfile(tstf,tstlab)\n",
    "\n",
    "    tr_lab = tr_lab -1\n",
    "    tst_lab = tst_lab -1\n",
    "\n",
    "    svm, score = utility.search_for_best_rbf(training_feat, tr_lab, tst_features, tst_lab)\n",
    "    accuracy.append(score)\n",
    "    name = \"rbg_8_\"+gr+'opponent_'\n",
    "    direc = \"\"\n",
    "    pred = utility.create_and_save_confusion_matrix(svm, tst_features, tst_lab, species, gr,direc,name)\n",
    "    \n",
    "    a,b,c = utility.calculate_and_plot_precision_recall(tst_lab, pred, species, '', 'prova' + gr +'_')\n",
    "    precision.append(a)\n",
    "    recall.append(b)"
   ]
  },
  {
   "cell_type": "code",
   "execution_count": null,
   "metadata": {},
   "outputs": [],
   "source": [
    "df = pd.DataFrame({\"X\":gridsize, \"precision\":precision,\"recall\":recall,'accuracy': accuracy})\n",
    "df.plot(x=\"X\", y=[\"precision\", \"recall\",'accuracy'], kind=\"bar\")\n",
    "plt.grid()\n",
    "plt.xlabel('density of the grid (in pixel)')\n",
    "plt.ylabel('Percentate %')\n",
    "plt.tight_layout()\n",
    "plt.savefig('results/grid_results/phow_500/total/acc_prec_rec.jpg')"
   ]
  },
  {
   "cell_type": "markdown",
   "metadata": {},
   "source": [
    "# classic sift"
   ]
  },
  {
   "cell_type": "code",
   "execution_count": null,
   "metadata": {},
   "outputs": [],
   "source": [
    "\n",
    "precision = []\n",
    "recall = []\n",
    "accuracy = []\n",
    "visual = ['200','250','300','350','400','450','500','550','600','650','700','750','800','850','900']\n",
    "\n",
    "\n",
    "for i,vs in enumerate(visual):\n",
    "    print('------> ',vs)\n",
    "    trf = '../../../features_for_python/classic_sift_' + vs +'/training_features.mat'\n",
    "    trlab = '../../../features_for_python/classic_sift_' + vs +'/training_lab_features.mat'\n",
    "\n",
    "    tstf = '../../../features_for_python/classic_sift_' + vs + '/testing_features.mat'\n",
    "    tstlab = '../../../features_for_python/classic_sift_' + vs + '/testing_lab_features.mat'\n",
    "\n",
    "\n",
    "    training_feat,tr_lab = utility.load_descriptor_from_matfile(trf, trlab)\n",
    "    tst_features, tst_lab = utility.load_descriptor_from_matfile(tstf,tstlab)\n",
    "\n",
    "    tr_lab = tr_lab -1\n",
    "    tst_lab = tst_lab -1\n",
    "\n",
    "    #knnacc, knnprec, knnrec ,_ = utility.train_knn_model_and_calculate_accuracy(training_feat,tr_lab,tst_features,tst_lab)\n",
    "    \n",
    "    \n",
    "    #classifier = KNeighborsClassifier(n_neighbors=1) \n",
    "    #classifier.fit(training_feat,tr_lab)\n",
    "    name = \"classic_sift\"+str(vs)\n",
    "    direc = \"results/classic_sift/confusion_matrix/\"\n",
    "    #pred = utility.create_and_save_confusion_matrix(classifier, tst_features, tst_lab, species, vs,'','knn_' + vs + '.jpg')\n",
    "    \n",
    "    \n",
    "    \n",
    "    #utility.plot_and_save_knn(knnacc, knnprec, knnrec,'classic_sift_knn_' + vs + '.jpg')\n",
    "    \n",
    "    svm, score = utility.search_for_best_rbf(training_feat, tr_lab, tst_features, tst_lab)\n",
    "    accuracy.append(score)\n",
    "\n",
    "    pred = utility.create_and_save_confusion_matrix(svm, tst_features, tst_lab, species, vs,direc,name)\n",
    "    \n",
    "    a,b,c = utility.calculate_and_plot_precision_recall(tst_lab, pred, species, '', 'prova' + vs +'_')\n",
    "    precision.append(a)\n",
    "    recall.append(b)"
   ]
  },
  {
   "cell_type": "code",
   "execution_count": null,
   "metadata": {},
   "outputs": [],
   "source": [
    "df = pd.DataFrame({\"X\":visual, \"precision\":precision,\"recall\":recall,'accuracy': accuracy})\n",
    "df.plot(x=\"X\", y=[\"precision\", \"recall\",'accuracy'], kind=\"bar\")\n",
    "plt.grid()\n",
    "plt.xlabel('number of visualwords')\n",
    "plt.ylabel('Percentate %')\n",
    "plt.tight_layout()"
   ]
  },
  {
   "cell_type": "markdown",
   "metadata": {},
   "source": [
    "# SPECIFIC CLASSIC SIFT MODEL"
   ]
  },
  {
   "cell_type": "code",
   "execution_count": null,
   "metadata": {},
   "outputs": [],
   "source": [
    "vs = '650'\n",
    "trf = '../../../features_for_python/classic_sift_' + vs +'/training_features.mat'\n",
    "trlab = '../../../features_for_python/classic_sift_' + vs +'/training_lab_features.mat'\n",
    "\n",
    "tstf = '../../../features_for_python/classic_sift_' + vs + '/testing_features.mat'\n",
    "tstlab = '../../../features_for_python/classic_sift_' + vs + '/testing_lab_features.mat'\n",
    "\n",
    "training_feat,tr_lab = utility.load_descriptor_from_matfile(trf, trlab)\n",
    "tst_features, tst_lab = utility.load_descriptor_from_matfile(tstf,tstlab)\n",
    "\n",
    "tr_lab = tr_lab -1\n",
    "tst_lab = tst_lab -1\n",
    "\n",
    "svm, score = utility.search_for_best_rbf(training_feat, tr_lab, tst_features, tst_lab)\n",
    "accuracy.append(score)\n",
    "name = \"classic_sift\"\n",
    "direc = \"\"\n",
    "pred = utility.create_and_save_confusion_matrix(svm, tst_features, tst_lab, species, vs,direc,name)\n",
    "a,b,c = utility.calculate_and_plot_precision_recall(tst_lab, pred, species, '', 'pca_classic_sift' + vs +'_')"
   ]
  },
  {
   "cell_type": "code",
   "execution_count": null,
   "metadata": {},
   "outputs": [],
   "source": [
    "from sklearn.preprocessing import StandardScaler\n",
    "from sklearn.neighbors import KNeighborsClassifier\n",
    "knnacc, knnprec, knnrec ,_ = utility.train_knn_model_and_calculate_accuracy(training_feat,tr_lab,tst_features,tst_lab)\n",
    "    \n"
   ]
  },
  {
   "cell_type": "code",
   "execution_count": null,
   "metadata": {},
   "outputs": [],
   "source": []
  },
  {
   "cell_type": "code",
   "execution_count": null,
   "metadata": {},
   "outputs": [],
   "source": [
    "import matplotlib.pyplot as plt\n",
    "x1 = np.arange(1,51)\n",
    "plt.plot(x1, knnacc, label = \"accuracy\",color = 'r')\n",
    "plt.plot(x1,knnprec, label = 'precision')\n",
    "plt.plot(x1, knnrec, label = 'recall',color = 'g')\n",
    "plt.xlabel('number of neighbors')\n",
    "plt.ylabel('percentage (%)')\n",
    "plt.legend()\n",
    "plt.grid()\n",
    "#plt.savefig('results/grid_results/k-nearest_neighbor_total.jpg')"
   ]
  },
  {
   "cell_type": "code",
   "execution_count": null,
   "metadata": {},
   "outputs": [],
   "source": [
    "\n",
    "precision = []\n",
    "recall = []\n",
    "accuracy = []\n",
    "visual = ['200','250','300','350','400','450','500','550','600','650','700','750','800','850','900']\n",
    "\n",
    "\n",
    "for i,vs in enumerate(visual):\n",
    "    print('------> ',vs)\n",
    "    trf = '../../../features_for_python/classic_sift_' + vs +'/training_features.mat'\n",
    "    trlab = '../../../features_for_python/classic_sift_' + vs +'/training_lab_features.mat'\n",
    "\n",
    "    tstf = '../../../features_for_python/classic_sift_' + vs + '/testing_features.mat'\n",
    "    tstlab = '../../../features_for_python/classic_sift_' + vs + '/testing_lab_features.mat'\n",
    "\n",
    "\n",
    "    training_feat,tr_lab = utility.load_descriptor_from_matfile(trf, trlab)\n",
    "    tst_features, tst_lab = utility.load_descriptor_from_matfile(tstf,tstlab)\n",
    "\n",
    "    tr_lab = tr_lab -1\n",
    "    tst_lab = tst_lab -1\n",
    "\n",
    "    knnacc, knnprec, knnrec ,_ = utility.train_knn_model_and_calculate_accuracy(training_feat,tr_lab,tst_features,tst_lab)\n",
    "    \n",
    "    classifier = KNeighborsClassifier(n_neighbors=1) \n",
    "    classifier.fit(training_feat,tr_lab)\n",
    "    pred = utility.create_and_save_confusion_matrix(classifier, tst_features, tst_lab, species, vs,'','knn_' + vs + '.jpg')\n",
    "    \n",
    "    accuracy.append(knnacc[0])\n",
    "    precision.append(knnprec[0])\n",
    "    recall.append(knnrec[0])\n",
    "    \n",
    "    \n",
    "    \n",
    "    \n",
    "\n"
   ]
  },
  {
   "cell_type": "code",
   "execution_count": null,
   "metadata": {},
   "outputs": [],
   "source": [
    "df = pd.DataFrame({\"X\":visual, \"precision\":precision,\"recall\":recall,'accuracy': accuracy})\n",
    "df.plot(x=\"X\", y=[\"precision\", \"recall\",'accuracy'], kind=\"bar\")\n",
    "plt.grid()\n",
    "plt.xlabel('number of visualwords')\n",
    "plt.ylabel('Percentate %')\n",
    "plt.tight_layout()"
   ]
  },
  {
   "cell_type": "markdown",
   "metadata": {},
   "source": [
    "## SCALE PROPAGATION "
   ]
  },
  {
   "cell_type": "code",
   "execution_count": null,
   "metadata": {},
   "outputs": [],
   "source": [
    "visual = '500'\n",
    "precision_geom = []\n",
    "recall_geom = []\n",
    "accuracy_geom = []\n",
    "\n",
    "precision_image = []\n",
    "recall_image = []\n",
    "accuracy_image = []\n",
    "\n",
    "gridsize = ['4','6','8','12','16','32','64']\n",
    "\n",
    "\n",
    "for gr in gridsize:\n",
    "    print('------ ',gr,' --------- geom')\n",
    "    trf = '../../../features_for_python/geom_500_' + gr + '/training_features.mat'\n",
    "    trlab = '../../../features_for_python/geom_500_' + gr+ '/training_lab_features.mat'\n",
    "\n",
    "    tstf = '../../../features_for_python/geom_500_' + gr + '/testing_features.mat'\n",
    "    tstlab = '../../../features_for_python/geom_500_' + gr + '/testing_lab_features.mat'\n",
    "\n",
    "\n",
    "    training_feat,tr_lab = utility.load_descriptor_from_matfile(trf, trlab)\n",
    "    tst_features, tst_lab = utility.load_descriptor_from_matfile(tstf,tstlab)\n",
    "\n",
    "    tr_lab = tr_lab -1\n",
    "    tst_lab = tst_lab -1  \n",
    "    \n",
    "    svm, score = utility.search_for_best_rbf(training_feat, tr_lab, tst_features, tst_lab)\n",
    "    accuracy_geom.append(score)\n",
    "    print(score)\n",
    "    name = \"scale_prop\"\n",
    "    direc = \"results/scaleprop/\"\n",
    "    pred = utility.create_and_save_confusion_matrix(svm, tst_features, tst_lab, species, gr,direc,name)\n",
    "    a,b,c = utility.calculate_and_plot_precision_recall(tst_lab, pred, species, '', 'pca_scale_prop_sift' + gr +'_')\n",
    "    \n",
    "    precision_geom.append(a)\n",
    "    recall_geom.append(b)\n"
   ]
  },
  {
   "cell_type": "code",
   "execution_count": null,
   "metadata": {},
   "outputs": [],
   "source": [
    "df = pd.DataFrame({\"X\":gridsize, \"precision\":precision_geom,\"recall\":recall_geom,'accuracy': accuracy_geom})\n",
    "df.plot(x=\"X\", y=[\"precision\", \"recall\",'accuracy'], kind=\"bar\")\n",
    "plt.grid()\n",
    "plt.xlabel('Gridsteps')\n",
    "plt.ylabel('')\n",
    "plt.tight_layout()"
   ]
  },
  {
   "cell_type": "code",
   "execution_count": null,
   "metadata": {},
   "outputs": [],
   "source": [
    "\n",
    "precision_image = []\n",
    "recall_image = []\n",
    "accuracy_image = []\n",
    "\n",
    "for gr in gridsize:\n",
    "    print('------ ',gr,' --------- geom')\n",
    "    trf = '../../../features_for_python/image_500_' + gr + '/training_features.mat'\n",
    "    trlab = '../../../features_for_python/image_500_' + gr+ '/training_lab_features.mat'\n",
    "\n",
    "    tstf = '../../../features_for_python/image_500_' + gr + '/testing_features.mat'\n",
    "    tstlab = '../../../features_for_python/image_500_' + gr + '/testing_lab_features.mat'\n",
    "\n",
    "\n",
    "    training_feat,tr_lab = utility.load_descriptor_from_matfile(trf, trlab)\n",
    "    tst_features, tst_lab = utility.load_descriptor_from_matfile(tstf,tstlab)\n",
    "\n",
    "    tr_lab = tr_lab -1\n",
    "    tst_lab = tst_lab -1  \n",
    "    \n",
    "    svm, score = utility.search_for_best_rbf(training_feat, tr_lab, tst_features, tst_lab)\n",
    "    accuracy_image.append(score)\n",
    "    print(score)\n",
    "    name = \"scale_prop_image\"\n",
    "    direc = \"results/scaleprop/\"\n",
    "    pred = utility.create_and_save_confusion_matrix(svm, tst_features, tst_lab, species, gr,direc,name)\n",
    "    a,b,c = utility.calculate_and_plot_precision_recall(tst_lab, pred, species, '', 'pca_scale_prop_sift' + gr +'_')\n",
    "    \n",
    "    precision_image.append(a)\n",
    "    recall_image.append(b)\n"
   ]
  },
  {
   "cell_type": "code",
   "execution_count": null,
   "metadata": {},
   "outputs": [],
   "source": [
    "df = pd.DataFrame({\"X\":gridsize, \"precision\":precision_image,\"recall\":recall_image,'accuracy': accuracy_image})\n",
    "df.plot(x=\"X\", y=[\"precision\", \"recall\",'accuracy'], kind=\"bar\")\n",
    "plt.grid()\n",
    "plt.xlabel('Gridsteps')\n",
    "plt.ylabel('')\n",
    "plt.tight_layout()"
   ]
  },
  {
   "cell_type": "markdown",
   "metadata": {},
   "source": [
    "# DENSE SIFT WITH NO SCALE INVARIANCE"
   ]
  },
  {
   "cell_type": "code",
   "execution_count": null,
   "metadata": {},
   "outputs": [],
   "source": [
    "precision = []\n",
    "recall = []\n",
    "accuracy = []\n",
    "visual = ['400','450','500','550','600']\n",
    "\n",
    "\n",
    "for i,vs in enumerate(visual):\n",
    "    print('------> ',vs)\n",
    "    trf = '../../../features_for_python/densesift_' + vs +'_4/training_features.mat'\n",
    "    trlab = '../../../features_for_python/densesift_' + vs +'_4/training_lab_features.mat'\n",
    "\n",
    "    tstf = '../../../features_for_python/densesift_' + vs +'_4/testing_features.mat'\n",
    "    tstlab = '../../../features_for_python/densesift_' + vs +'_4/testing_lab_features.mat'\n",
    "\n",
    "\n",
    "    training_feat,tr_lab = utility.load_descriptor_from_matfile(trf, trlab)\n",
    "    tst_features, tst_lab = utility.load_descriptor_from_matfile(tstf,tstlab)\n",
    "\n",
    "    tr_lab = tr_lab -1\n",
    "    tst_lab = tst_lab -1\n",
    "\n",
    "    #knnacc, knnprec, knnrec ,_ = utility.train_knn_model_and_calculate_accuracy(training_feat,tr_lab,tst_features,tst_lab)\n",
    "    \n",
    "    \n",
    "    #classifier = KNeighborsClassifier(n_neighbors=1) \n",
    "    #classifier.fit(training_feat,tr_lab)\n",
    "    name = \"classic_sift\"+str(vs)\n",
    "    direc = \"results/classic_sift/confusion_matrix/\"\n",
    "    #pred = utility.create_and_save_confusion_matrix(classifier, tst_features, tst_lab, species, vs,'','knn_' + vs + '.jpg')\n",
    "    \n",
    "    \n",
    "    \n",
    "    #utility.plot_and_save_knn(knnacc, knnprec, knnrec,'classic_sift_knn_' + vs + '.jpg')\n",
    "    \n",
    "    svm, score = utility.search_for_best_rbf(training_feat, tr_lab, tst_features, tst_lab)\n",
    "    accuracy.append(score)\n",
    "\n",
    "    pred = utility.create_and_save_confusion_matrix(svm, tst_features, tst_lab, species, vs,direc,name)\n",
    "    \n",
    "    a,b,c = utility.calculate_and_plot_precision_recall(tst_lab, pred, species, '', 'prova' + vs +'_')\n",
    "    precision.append(a)\n",
    "    recall.append(b)"
   ]
  },
  {
   "cell_type": "code",
   "execution_count": null,
   "metadata": {},
   "outputs": [],
   "source": []
  }
 ],
 "metadata": {
  "kernelspec": {
   "display_name": "Python 3.7.3 64-bit ('base': conda)",
   "language": "python",
   "name": "python37364bitbaseconda10374d56d606404d89697440b2a570f1"
  },
  "language_info": {
   "codemirror_mode": {
    "name": "ipython",
    "version": 3
   },
   "file_extension": ".py",
   "mimetype": "text/x-python",
   "name": "python",
   "nbconvert_exporter": "python",
   "pygments_lexer": "ipython3",
   "version": "3.7.3"
  }
 },
 "nbformat": 4,
 "nbformat_minor": 4
}
