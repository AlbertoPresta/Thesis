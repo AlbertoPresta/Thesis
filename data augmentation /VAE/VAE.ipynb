{
 "cells": [
  {
   "cell_type": "code",
   "execution_count": 37,
   "metadata": {},
   "outputs": [],
   "source": [
    "import numpy as np\n",
    "import matplotlib.pyplot as plt\n",
    "from scipy.stats import norm\n",
    "import pickle\n",
    "from keras.layers import Input, Dense, Lambda, Flatten, Reshape, Layer\n",
    "from keras.layers import Conv2D, Conv2DTranspose\n",
    "from keras.models import Model,Sequential\n",
    "from keras import backend as K\n",
    "from keras import metrics"
   ]
  },
  {
   "cell_type": "code",
   "execution_count": 38,
   "metadata": {},
   "outputs": [],
   "source": [
    "img_rows, img_cols, img_chns = 28, 28, 1\n",
    "filters = 64\n",
    "num_conv = 3\n",
    "batch_size = 100\n",
    "latent_dim = 8\n",
    "intermediate_dim = 128\n",
    "epsilon_std = 1.0\n",
    "epochs = 200\n",
    "images_count_training = 4\n",
    "images_count_test = 1\n",
    "TOTAL_IMAGES = 5\n",
    "original_img_size = (28,28,1)\n",
    "out_shape = (batch_size, int(img_rows / 2), int(img_cols / 2), filters)"
   ]
  },
  {
   "cell_type": "code",
   "execution_count": 39,
   "metadata": {},
   "outputs": [],
   "source": [
    "def sampling(args):\n",
    "    z_mean, z_log_var = args\n",
    "    epsilon = K.random_normal(shape=(K.shape(z_mean)[0], latent_dim),\n",
    "                              mean=0., stddev=epsilon_std)\n",
    "    return z_mean + K.exp(z_log_var) * epsilon"
   ]
  },
  {
   "cell_type": "code",
   "execution_count": 40,
   "metadata": {},
   "outputs": [],
   "source": [
    "def Encoder():\n",
    "    x = Input(shape=original_img_size)\n",
    "    conv_1 = Conv2D(img_chns,\n",
    "                    kernel_size=(2, 2),\n",
    "                    padding='same', activation='relu', name = 'conv_1')(x)\n",
    "    conv_2 = Conv2D(filters,\n",
    "                    kernel_size=(2, 2),\n",
    "                    padding='same', activation='relu',\n",
    "                    strides=(2, 2),name = 'conv_2')(conv_1)\n",
    "    conv_3 = Conv2D(filters,\n",
    "                    kernel_size=num_conv,\n",
    "                    padding='same', activation='relu',\n",
    "                    strides=1, name = 'conv_3')(conv_2)\n",
    "    conv_4 = Conv2D(filters,\n",
    "                    kernel_size=num_conv,\n",
    "                    padding='same', activation='relu',\n",
    "                    strides=1, name = 'conv_4')(conv_3)\n",
    "    flat = Flatten(name ='flattened_layer')(conv_4)\n",
    "    hidden = Dense(intermediate_dim, activation='relu', name = 'hidden_layer')(flat)\n",
    "\n",
    "    z_mean = Dense(latent_dim, name = 'mean_vector')(hidden)\n",
    "    z_log_var = Dense(latent_dim, name = 'log_var')(hidden)\n",
    "    \n",
    "    #funzione che serve per estrarre un elemento dal latent space utilizzando z_mean and z_log_var\n",
    "    #come input\n",
    "    z = Lambda(sampling, output_shape=(latent_dim,))([z_mean, z_log_var])\n",
    "    print(z.shape)\n",
    "    encoder = Model(x, [z_mean, z_log_var, z])\n",
    "    \n",
    "    return encoder\n"
   ]
  },
  {
   "cell_type": "code",
   "execution_count": 41,
   "metadata": {},
   "outputs": [],
   "source": [
    "def Decoder(output_shape):\n",
    "    model = Sequential()\n",
    "    model.add(Dense(intermediate_dim, activation='relu',input_shape = (None,8)))\n",
    "    model.add(Dense(int(filters * img_rows / 2 * img_cols / 2), activation='relu'))\n",
    "    model.add(Reshape(output_shape[1:]))\n",
    "    model.add(Conv2DTranspose(filters, kernel_size=num_conv, padding='same', strides=1, activation='relu'))\n",
    "    model.add(Conv2DTranspose(filters, kernel_size=num_conv, padding='same', strides=1, activation='relu'))\n",
    "    model.add(Conv2DTranspose(filters, kernel_size=(3, 3), strides=(2, 2), padding='valid', activation='relu'))\n",
    "    model.add(Conv2D(img_chns,kernel_size=2, padding='valid',activation='sigmoid'))\n",
    "    return model"
   ]
  },
  {
   "cell_type": "code",
   "execution_count": null,
   "metadata": {},
   "outputs": [],
   "source": []
  }
 ],
 "metadata": {
  "kernelspec": {
   "display_name": "Python 3.7.3 64-bit ('base': conda)",
   "language": "python",
   "name": "python37364bitbaseconda10374d56d606404d89697440b2a570f1"
  },
  "language_info": {
   "codemirror_mode": {
    "name": "ipython",
    "version": 3
   },
   "file_extension": ".py",
   "mimetype": "text/x-python",
   "name": "python",
   "nbconvert_exporter": "python",
   "pygments_lexer": "ipython3",
   "version": "3.7.3"
  }
 },
 "nbformat": 4,
 "nbformat_minor": 2
}
