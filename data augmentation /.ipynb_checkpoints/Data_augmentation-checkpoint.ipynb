{
 "cells": [
  {
   "cell_type": "code",
   "execution_count": 3,
   "metadata": {},
   "outputs": [],
   "source": [
    "import cv2\n",
    "from scipy import ndimage\n",
    "import matplotlib.pyplot as plt\n",
    "import os\n",
    "import numpy as np\n",
    "import random\n",
    "import itertools"
   ]
  },
  {
   "cell_type": "code",
   "execution_count": 10,
   "metadata": {},
   "outputs": [],
   "source": [
    "class data_augmentation():\n",
    "    \n",
    "    def __init__(self, PATH = \"../LICHENI\"): \n",
    "        self.PATH = PATH\n",
    "        self.lista_cartelle = os.listdir(PATH)\n",
    "        self.train_dic = self.creodict()\n",
    "    \n",
    "    def creodict(self):\n",
    "        # creo dict con chiavi i path per le immagini e valori le classi\n",
    "        train = []\n",
    "        label = []\n",
    "        for cartelle in self.lista_cartelle:\n",
    "            specie = os.listdir(self.PATH + \"/\" + cartelle)\n",
    "            for spec in specie:\n",
    "                immagini = os.listdir(self.PATH + \"/\" + cartelle + \"/\" + spec)\n",
    "                for images in immagini:\n",
    "                    train.append(self.PATH + \"/\" + cartelle + \"/\" + spec + \"/\" + images)\n",
    "                    label.append(spec)\n",
    "        return dict(zip(train, label))\n",
    "    \n",
    "    \n",
    "    def SamplePairing(self, number_of_new_images = 10,all_pox = False):\n",
    "        \n",
    "        def Meanimage(img1,img2):\n",
    "            img2 = cv2.resize(img2,(img1.shape[1],img1.shape[0]),interpolation=cv2.INTER_CUBIC)\n",
    "            mean_img = np.mean([img1, img2], axis=0)\n",
    "            img = np.asarray(np.uint8(mean_img))\n",
    "            return img\n",
    "        \n",
    "        training_species = list(self.train_dic.keys())\n",
    "        training_labels = list(self.train_dic.values())\n",
    "        res_im = []\n",
    "        res_lab = []\n",
    "        if(all_pox == False):\n",
    "            cont = 0\n",
    "            coppie_create = []\n",
    "            while(cont < number_of_new_images):\n",
    "                ran1 = random.randint(0,len(training_species) - 1)\n",
    "                ran2 = random.randint(0,len(training_species) - 1)               \n",
    "                if(ran1==ran2 or str(ran1) + \" - \" + str(ran2) in coppie_create):\n",
    "                    continue\n",
    "                else:\n",
    "                    img1 = cv2.imread(training_species[ran1])\n",
    "                    img2 = cv2.imread(training_species[ran2])\n",
    "                    img = Meanimage(img1,img2)\n",
    "                    res_im.append(img)\n",
    "                    res_lab.append(training_labels[ran1])\n",
    "                    cont = cont + 1\n",
    "                    coppie_create.append(str(ran1) + \" - \" + str(ran2))\n",
    "            return res_im,res_lab\n",
    "        else:\n",
    "            j = 0\n",
    "            for i in  itertools.product(*[training_species,training_species]):\n",
    "                j = j+1\n",
    "                print(j)\n",
    "                if(i[0]==i[1]):\n",
    "                    continue\n",
    "                else:\n",
    "                    \n",
    "                    img1 = cv2.imread(i[0])\n",
    "                    img2 = cv2.imread(i[1])\n",
    "                    img = Meanimage(img1,img2)\n",
    "                    res_im.append(img)\n",
    "                    res_lab.append(self.train_dic[i[0]])\n",
    "            return res_im,res_lab\n",
    "                    \n",
    "                    \n",
    "            \n",
    "        \n",
    "    \n",
    "    def rotation_augmentation(self, rot = [90,180,270]):\n",
    "        number = len(rot)\n",
    "        traindata = []\n",
    "        trainlabel = []   \n",
    "        for cartelle in self.lista_cartelle:\n",
    "            print(cartelle)\n",
    "            if(cartelle==\"super\"):\n",
    "                continue\n",
    "            specie = os.listdir(self.PATH + \"/\" + cartelle)\n",
    "            for spec in specie:\n",
    "                immagini = os.listdir(self.PATH + \"/\" + cartelle + \"/\" + spec)\n",
    "                for images in immagini:\n",
    "                    img = cv2.imread(self.PATH + \"/\" + cartelle + \"/\" + spec + \"/\" + images)\n",
    "                    traindata.append(img)\n",
    "                    trainlabel.append(spec)\n",
    "                    for i in rot:\n",
    "                        rotated = ndimage.rotate(img, 90)\n",
    "                        traindata.append(rotated)\n",
    "                        trainlabel.append(spec + \"_\" + str(i))\n",
    "        return np.array(traindata), np.array(trainlabel)\n",
    "    \n",
    "    def random_cropping(self, img, zone = \"left\"):\n",
    "        \"\"\"\n",
    "        zone = {\"random, left, right\"}\n",
    "        \"\"\"\n",
    "        temp = None\n",
    "        if(zone == \"left\"):\n",
    "            dim_y = random.randint(img.shape[0]//4,img.shape[0])\n",
    "            dim_x = random.randint(img.shape[1]//4,img.shape[1])\n",
    "            temp = img[0:dim_y,0:dim_x,:]\n",
    "            temp = cv2.resize(temp,(img.shape[1],img.shape[0]),interpolation=cv2.INTER_CUBIC)\n",
    "        elif(zone == \"right\"):\n",
    "            dim_y = random.randint(img.shape[0]//4,3*img.shape[0]//4)\n",
    "            dim_x = random.randint(img.shape[1]//4,3*img.shape[1]//4)\n",
    "            temp = img[dim_y:img.shape[0],dim_x:img.shape[1],:]\n",
    "            temp = cv2.resize(temp,(img.shape[1],img.shape[0]),interpolation=cv2.INTER_CUBIC)\n",
    "        elif(zone==\"random\"):       \n",
    "            start_y = random.randint(0, img.shape[0])\n",
    "            dim_y = random.randint(0,img.shape[0])\n",
    "            start_x = random.randint(0,img.shape[1])\n",
    "            dim_x = random.randint(0,img.shape[1])\n",
    "            temp = img[start_y:min(start_y+dim_y,img.shape[0] - 1),start_x:min(start_x+dim_x,img.shape[1]-1),:]\n",
    "            temp = cv2.resize(temp,(img.shape[1],img.shape[0]),interpolation=cv2.INTER_CUBIC)\n",
    "        else:\n",
    "            raise Exception(\"Input is not valid\")\n",
    "        return temp\n",
    "    "
   ]
  },
  {
   "cell_type": "code",
   "execution_count": 11,
   "metadata": {},
   "outputs": [],
   "source": [
    "da = data_augmentation()    "
   ]
  },
  {
   "cell_type": "code",
   "execution_count": 12,
   "metadata": {},
   "outputs": [],
   "source": [
    "res_im, res_lab = da.SamplePairing(number_of_new_images = 100)"
   ]
  },
  {
   "cell_type": "code",
   "execution_count": 13,
   "metadata": {},
   "outputs": [
    {
     "data": {
      "text/plain": [
       "101"
      ]
     },
     "execution_count": 13,
     "metadata": {},
     "output_type": "execute_result"
    }
   ],
   "source": [
    "len(res_im)"
   ]
  },
  {
   "cell_type": "code",
   "execution_count": null,
   "metadata": {},
   "outputs": [],
   "source": [
    "trainx,trainlabel = da.rotation_augmentation(rot = [90,180])"
   ]
  },
  {
   "cell_type": "code",
   "execution_count": 106,
   "metadata": {},
   "outputs": [
    {
     "data": {
      "text/plain": [
       "<itertools.product at 0x10f80cfc0>"
      ]
     },
     "execution_count": 106,
     "metadata": {},
     "output_type": "execute_result"
    }
   ],
   "source": [
    "d"
   ]
  },
  {
   "cell_type": "code",
   "execution_count": 76,
   "metadata": {},
   "outputs": [
    {
     "data": {
      "text/plain": [
       "'b'"
      ]
     },
     "execution_count": 76,
     "metadata": {},
     "output_type": "execute_result"
    }
   ],
   "source": [
    "a = ['a', 'b', 'c', 'd']\n",
    "a.pop(1)"
   ]
  },
  {
   "cell_type": "code",
   "execution_count": 77,
   "metadata": {},
   "outputs": [
    {
     "data": {
      "text/plain": [
       "['a', 'c', 'd']"
      ]
     },
     "execution_count": 77,
     "metadata": {},
     "output_type": "execute_result"
    }
   ],
   "source": []
  },
  {
   "cell_type": "code",
   "execution_count": null,
   "metadata": {},
   "outputs": [],
   "source": []
  }
 ],
 "metadata": {
  "kernelspec": {
   "display_name": "Python 3.7.3 64-bit ('base': conda)",
   "language": "python",
   "name": "python37364bitbaseconda10374d56d606404d89697440b2a570f1"
  },
  "language_info": {
   "codemirror_mode": {
    "name": "ipython",
    "version": 3
   },
   "file_extension": ".py",
   "mimetype": "text/x-python",
   "name": "python",
   "nbconvert_exporter": "python",
   "pygments_lexer": "ipython3",
   "version": "3.7.3"
  }
 },
 "nbformat": 4,
 "nbformat_minor": 2
}
