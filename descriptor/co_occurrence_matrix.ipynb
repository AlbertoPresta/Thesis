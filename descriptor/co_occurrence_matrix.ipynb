{
 "cells": [
  {
   "cell_type": "code",
   "execution_count": 12,
   "metadata": {},
   "outputs": [],
   "source": [
    "import numpy as np \n",
    "from skimage.feature.texture import greycomatrix, greycoprops\n",
    "import cv2\n",
    "import os\n",
    "import matplotlib.pyplot as plt"
   ]
  },
  {
   "cell_type": "code",
   "execution_count": 13,
   "metadata": {},
   "outputs": [],
   "source": [
    "def Legendre_pol(p,x):\n",
    "    # base case \n",
    "    if(p==1):\n",
    "        return x \n",
    "    elif p == 0:\n",
    "        return 1 \n",
    "    else: \n",
    "        res = ((2*p -1)/p)*x*Legendre_pol(p-1,x) - ((p-1)/p)*Legendre_pol(p-2,x)\n",
    "        return res\n",
    "    \n",
    "\n",
    "def Legendre_moments(p,q,img):\n",
    "    M = img.shape[0]\n",
    "    N = img.shape[1]\n",
    "    Lam_pq = ((2*p + 1)*(2*q + 1))/(M*N)\n",
    "    L_pq = 0\n",
    "    for i in range(M):\n",
    "        for j in range(N):\n",
    "            x_hat = (2*i - M + 1)/(M-1)\n",
    "            y_hat = (2*j - N + 1)/(N-1)\n",
    "            L_pq += Legendre_pol(p,x_hat)*Legendre_pol(q,y_hat)*img[i,j]\n",
    "    return Lam_pq*L_pq\n",
    "\n",
    "\n",
    "\n",
    "def leg_tuple(level):\n",
    "    res = []\n",
    "    for i in range(level + 1):\n",
    "        for j in range(level + 1):\n",
    "            if i +j <=level:\n",
    "                res.append((i,j))\n",
    "    return res\n",
    "\n",
    "\n",
    "def Legendre_vector(img, level):\n",
    "    res = []\n",
    "    tup = leg_tuple(level)\n",
    "    for i in range(3):\n",
    "        im = img[:,:,i]\n",
    "        for t in tup:\n",
    "            res.append(Legendre_moments(t[0],t[1],im))\n",
    "    return np.array(res)      \n",
    "        \n",
    "        \n",
    "    "
   ]
  },
  {
   "cell_type": "code",
   "execution_count": 14,
   "metadata": {},
   "outputs": [],
   "source": [
    "def co_occurrence_vector(img, distance = [1], direction = [0, np.pi/2, 3*np.pi/2]):\n",
    "    res = []\n",
    "    for i in range(3):\n",
    "        im = img[:,:,i]\n",
    "        co_matrix = greycomatrix(im, distance, direction, levels=256)\n",
    "        contrast = greycoprops(co_matrix, 'contrast')\n",
    "        dissimilarity = greycoprops(co_matrix, 'dissimilarity')\n",
    "        homogeneity = greycoprops(co_matrix,  'homogeneity')\n",
    "        energy = greycoprops(co_matrix, 'energy')\n",
    "        correlation = greycoprops(co_matrix, 'correlation')\n",
    "        ASM = greycoprops(co_matrix, 'ASM')\n",
    "        total = np.concatenate([contrast,dissimilarity,homogeneity,energy,correlation,ASM],axis = 1)\n",
    "        res.append(total)\n",
    "    return np.array(res).ravel()\n",
    "\n",
    "\n",
    "\n",
    "\n",
    "\n",
    "def color_hist_vector(img, bins = 16):\n",
    "    res = []\n",
    "    for i in range(3):\n",
    "        im =img[:,:,i]\n",
    "        M = im.shape[0]\n",
    "        N = im.shape[1]      \n",
    "        c = plt.hist(img.ravel(), bins=16)   \n",
    "        norm = np.linalg.norm(c[0])\n",
    "        hist_norm = c[0]/norm\n",
    "        res.append(hist_norm)\n",
    "    return np.array(res).ravel()\n",
    "    \n"
   ]
  },
  {
   "cell_type": "code",
   "execution_count": 15,
   "metadata": {},
   "outputs": [],
   "source": [
    "def total_feature(img, level = 3, bins = 16, distance = [1], direction = [0, np.pi/2, 3*np.pi/2]):\n",
    "    legendre = Legendre_vector(img,level)\n",
    "    histograms = color_hist_vector(img,  bins = bins)\n",
    "    co_occurrence = co_occurrence_vector(img,distance = distance, direction = direction)\n",
    "    return np.concatenate([legendre,histograms,co_occurrence])"
   ]
  },
  {
   "cell_type": "code",
   "execution_count": 18,
   "metadata": {},
   "outputs": [
    {
     "name": "stdout",
     "output_type": "stream",
     "text": [
      "********************  Arthonia_radiata_texture.jpg  ***********************\n",
      "********************  Flavoparmelia_soredians_texture1.jpg  ***********************\n",
      "********************  Phlyctis_argena_texture1.jpg  ***********************\n",
      "********************  Pertusaria_amara_texture1.jpg  ***********************\n",
      "********************  Caloplaca_cerina_texture1.jpg  ***********************\n",
      "********************  Xanthomendoza_fallax_texture.jpg  ***********************\n",
      "********************  Flavoparmelia_soredians_texture2.jpg  ***********************\n",
      "********************  Phlyctis_argena_texture2.jpg  ***********************\n",
      "********************  Pertusaria_amara_texture2.jpg  ***********************\n",
      "********************  Caloplaca_cerina_texture2.jpg  ***********************\n",
      "********************  Lecidella_elaeochroma_texture1.jpg  ***********************\n",
      "********************  Physcia_aipolia_texture.jpg  ***********************\n",
      "********************  Lecanora_argentata_texture2.jpg  ***********************\n",
      "********************  Lecidella_elaeochroma_texture2.jpg  ***********************\n",
      "********************  Catillaria_nigroclavata_texture.jpg  ***********************\n",
      "********************  Lecanora_argentata_texture1.jpg  ***********************\n",
      "********************  Parmotrema_chinense_texture2.jpg  ***********************\n",
      "********************  Lecanora_carpinea_texture1.jpg  ***********************\n",
      "********************  Flavoparmelia_caperata_texture1.jpg  ***********************\n",
      "********************  Candelariella_reflexa_texture.jpg  ***********************\n",
      "********************  Parmotrema_chinense_texture1.jpg  ***********************\n",
      "********************  Lecanora_carpinea_texture2.jpg  ***********************\n",
      "********************  Flavoparmelia_caperata_texture2.jpg  ***********************\n",
      "********************  Melanohalea_exasperatula_texture2.jpg  ***********************\n",
      "********************  Melanelixia_glabratula_texture1.jpg  ***********************\n",
      "********************  Pertusaria_pertusa_texture2.jpg  ***********************\n",
      "********************  Melanohalea_exasperatula_texture1.jpg  ***********************\n",
      "********************  Arthonia_atra_texture.jpg  ***********************\n",
      "********************  Melanelixia_glabratula_texture2.jpg  ***********************\n",
      "********************  Pertusaria_pertusa_texture1.jpg  ***********************\n",
      "********************  Physconia_grisea_texture2.jpg  ***********************\n",
      "********************  Physcia_adscendens_texture2.jpg  ***********************\n",
      "********************  Phaeophyscia_orbicularis_texture1.jpg  ***********************\n",
      "********************  Physconia_distorta_texture2.jpg  ***********************\n",
      "********************  Parmelia_sulcata_texture2.jpg  ***********************\n",
      "********************  Ramalina_fastigiata_texutre1.jpg  ***********************\n",
      "********************  Physconia_grisea_texture1.jpg  ***********************\n",
      "********************  Physcia_adscendens_texture1.jpg  ***********************\n",
      "********************  Phaeophyscia_orbicularis_texture2.jpg  ***********************\n",
      "********************  Parmelia_sulcata_texture1.jpg  ***********************\n",
      "********************  Physconia_distorta_texture1.jpg  ***********************\n",
      "********************  Ramalina_fastigiata_texutre2.jpg  ***********************\n",
      "********************  Xanthoria_paritina_texture2.jpg  ***********************\n",
      "********************  Phaeophyscia_ciliata_texture2.jpg  ***********************\n",
      "********************  Chrysothrix_candelaris_texture2.jpg  ***********************\n",
      "********************  Lecanora_chlarotera_texture1.jpg  ***********************\n",
      "********************  Xanthoria_paritina_texture1.jpg  ***********************\n",
      "********************  Evernia_prunastri_texture.jpg  ***********************\n",
      "********************  Phaeophyscia_ciliata_texture1.jpg  ***********************\n",
      "********************  Chrysothrix_candelaris_texture1.jpg  ***********************\n",
      "********************  Lecanora_chlarotera_texture2.jpg  ***********************\n",
      "********************  Amandinea_punctata_texture.jpg  ***********************\n",
      "********************  Physciella_chloanta_texture.jpg  ***********************\n",
      "********************  Xanthomendoza_fulva_texture1.jpg  ***********************\n",
      "********************  Candelariella_xanthostigma_texture1.jpg  ***********************\n",
      "********************  Physcia_tenella_texture1.jpg  ***********************\n",
      "********************  Ramalina_farinacea_texture2.jpg  ***********************\n",
      "********************  Physcia_biziana_texture1.jpg  ***********************\n",
      "********************  Rinodina_sophodes_texture.jpg  ***********************\n",
      "********************  Xanthomendoza_fulva_texture2.jpg  ***********************\n",
      "********************  Candelariella_xanthostigma_texture2.jpg  ***********************\n",
      "********************  Physcia_tenella_texture2.jpg  ***********************\n",
      "********************  Ramalina_farinacea_texture1.jpg  ***********************\n",
      "********************  Physcia_biziana_texture2.jpg  ***********************\n",
      "********************  Punctelia_subrudecta_texture2.jpg  ***********************\n",
      "********************  Hyperphyscia_adglutinata_texture1.jpg  ***********************\n",
      "********************  Punctelia_subrudecta_texture1.jpg  ***********************\n",
      "********************  Hyperphyscia_adglutinata_texture2.jpg  ***********************\n"
     ]
    },
    {
     "ename": "NameError",
     "evalue": "name 'numpy' is not defined",
     "output_type": "error",
     "traceback": [
      "\u001b[0;31m---------------------------------------------------------------------------\u001b[0m",
      "\u001b[0;31mNameError\u001b[0m                                 Traceback (most recent call last)",
      "\u001b[0;32m<ipython-input-18-96b7c3880b5e>\u001b[0m in \u001b[0;36m<module>\u001b[0;34m\u001b[0m\n\u001b[1;32m      9\u001b[0m     \u001b[0mname\u001b[0m\u001b[0;34m.\u001b[0m\u001b[0mappend\u001b[0m\u001b[0;34m(\u001b[0m\u001b[0mtexture\u001b[0m\u001b[0;34m.\u001b[0m\u001b[0msplit\u001b[0m\u001b[0;34m(\u001b[0m\u001b[0;34m\".jpg\"\u001b[0m\u001b[0;34m)\u001b[0m\u001b[0;34m[\u001b[0m\u001b[0;36m0\u001b[0m\u001b[0;34m]\u001b[0m\u001b[0;34m)\u001b[0m\u001b[0;34m\u001b[0m\u001b[0;34m\u001b[0m\u001b[0m\n\u001b[1;32m     10\u001b[0m \u001b[0;34m\u001b[0m\u001b[0m\n\u001b[0;32m---> 11\u001b[0;31m \u001b[0mnumpy\u001b[0m\u001b[0;34m.\u001b[0m\u001b[0msave\u001b[0m\u001b[0;34m(\u001b[0m\u001b[0;34m\"texture_feature\"\u001b[0m\u001b[0;34m,\u001b[0m\u001b[0mnp\u001b[0m\u001b[0;34m.\u001b[0m\u001b[0marray\u001b[0m\u001b[0;34m(\u001b[0m\u001b[0mres\u001b[0m\u001b[0;34m)\u001b[0m\u001b[0;34m)\u001b[0m\u001b[0;34m\u001b[0m\u001b[0;34m\u001b[0m\u001b[0m\n\u001b[0m\u001b[1;32m     12\u001b[0m \u001b[0mnumpy\u001b[0m\u001b[0;34m.\u001b[0m\u001b[0msave\u001b[0m\u001b[0;34m(\u001b[0m\u001b[0;34m\"name_texture\"\u001b[0m\u001b[0;34m,\u001b[0m\u001b[0mnp\u001b[0m\u001b[0;34m.\u001b[0m\u001b[0marray\u001b[0m\u001b[0;34m(\u001b[0m\u001b[0mname\u001b[0m\u001b[0;34m)\u001b[0m\u001b[0;34m)\u001b[0m\u001b[0;34m\u001b[0m\u001b[0;34m\u001b[0m\u001b[0m\n\u001b[1;32m     13\u001b[0m \u001b[0;34m\u001b[0m\u001b[0m\n",
      "\u001b[0;31mNameError\u001b[0m: name 'numpy' is not defined"
     ]
    },
    {
     "data": {
      "image/png": "[encoded data removed]",
      "text/plain": [
       "<Figure size 432x288 with 1 Axes>"
      ]
     },
     "metadata": {
      "needs_background": "light"
     },
     "output_type": "display_data"
    }
   ],
   "source": [
    "lista_texture = os.listdir((\"../../texture\"))\n",
    "res = []\n",
    "name = []\n",
    "for texture in lista_immagini:\n",
    "    print(\"******************** \",texture,\" ***********************\")\n",
    "    img = cv2.imread(\"../../texture/\" + texture)\n",
    "    feat = total_feature(img)\n",
    "    res.append(feat)\n",
    "    name.append(texture.split(\".jpg\")[0])\n",
    "\n",
    "numpy.save(\"texture_feature\",np.array(res))\n",
    "numpy.save(\"name_texture\",np.array(name))\n",
    "    "
   ]
  },
  {
   "cell_type": "code",
   "execution_count": 19,
   "metadata": {},
   "outputs": [],
   "source": [
    "np.save(\"texture_feature\",np.array(res))\n",
    "np.save(\"name_texture\",np.array(name))\n",
    "    "
   ]
  },
  {
   "cell_type": "markdown",
   "metadata": {},
   "source": [
    "# DISTANCE"
   ]
  },
  {
   "cell_type": "code",
   "execution_count": 27,
   "metadata": {},
   "outputs": [],
   "source": [
    "texture = np.load(\"texture_feature.npy\")\n",
    "name = np.load(\"name_texture.npy\")"
   ]
  },
  {
   "cell_type": "code",
   "execution_count": 26,
   "metadata": {},
   "outputs": [],
   "source": [
    "from scipy.stats import wasserstein_distance"
   ]
  },
  {
   "cell_type": "code",
   "execution_count": 57,
   "metadata": {},
   "outputs": [
    {
     "data": {
      "text/plain": [
       "33.63738063540383"
      ]
     },
     "execution_count": 57,
     "metadata": {},
     "output_type": "execute_result"
    }
   ],
   "source": []
  },
  {
   "cell_type": "code",
   "execution_count": 41,
   "metadata": {},
   "outputs": [],
   "source": [
    "def chi2_distance(A, B):   \n",
    "    # compute the chi-squared distance using above formula \n",
    "    chi = 0.5 * np.sum([((a - b) * (a-b)) / (a + b)  for (a, b) in zip(A, B)])   \n",
    "    return chi \n",
    "  "
   ]
  },
  {
   "cell_type": "code",
   "execution_count": 55,
   "metadata": {},
   "outputs": [
    {
     "name": "stdout",
     "output_type": "stream",
     "text": [
      "Hyperphyscia_adglutinata_texture2\n",
      "Physcia_biziana_texture2\n"
     ]
    }
   ],
   "source": [
    "print(name[-1])\n",
    "print(name[-5])"
   ]
  },
  {
   "cell_type": "code",
   "execution_count": 46,
   "metadata": {},
   "outputs": [
    {
     "data": {
      "text/plain": [
       "104.17081922671434"
      ]
     },
     "execution_count": 46,
     "metadata": {},
     "output_type": "execute_result"
    }
   ],
   "source": [
    "np.linalg.norm(texture[2] - texture[7])"
   ]
  },
  {
   "cell_type": "code",
   "execution_count": null,
   "metadata": {},
   "outputs": [],
   "source": []
  }
 ],
 "metadata": {
  "kernelspec": {
   "display_name": "Python 3.7.3 64-bit ('base': conda)",
   "language": "python",
   "name": "python37364bitbaseconda10374d56d606404d89697440b2a570f1"
  },
  "language_info": {
   "codemirror_mode": {
    "name": "ipython",
    "version": 3
   },
   "file_extension": ".py",
   "mimetype": "text/x-python",
   "name": "python",
   "nbconvert_exporter": "python",
   "pygments_lexer": "ipython3",
   "version": "3.7.3"
  }
 },
 "nbformat": 4,
 "nbformat_minor": 2
}
