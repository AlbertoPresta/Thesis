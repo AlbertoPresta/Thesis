{
 "cells": [
  {
   "cell_type": "code",
   "execution_count": 12,
   "metadata": {},
   "outputs": [],
   "source": [
    "import numpy as np \n",
    "from skimage.feature.texture import greycomatrix, greycoprops\n",
    "import cv2\n",
    "import os\n",
    "import matplotlib.pyplot as plt"
   ]
  },
  {
   "cell_type": "code",
   "execution_count": 13,
   "metadata": {},
   "outputs": [],
   "source": [
    "def Legendre_pol(p,x):\n",
    "    # base case \n",
    "    if(p==1):\n",
    "        return x \n",
    "    elif p == 0:\n",
    "        return 1 \n",
    "    else: \n",
    "        res = ((2*p -1)/p)*x*Legendre_pol(p-1,x) - ((p-1)/p)*Legendre_pol(p-2,x)\n",
    "        return res\n",
    "    \n",
    "\n",
    "def Legendre_moments(p,q,img):\n",
    "    M = img.shape[0]\n",
    "    N = img.shape[1]\n",
    "    Lam_pq = ((2*p + 1)*(2*q + 1))/(M*N)\n",
    "    L_pq = 0\n",
    "    for i in range(M):\n",
    "        for j in range(N):\n",
    "            x_hat = (2*i - M + 1)/(M-1)\n",
    "            y_hat = (2*j - N + 1)/(N-1)\n",
    "            L_pq += Legendre_pol(p,x_hat)*Legendre_pol(q,y_hat)*img[i,j]\n",
    "    return Lam_pq*L_pq\n",
    "\n",
    "\n",
    "\n",
    "def leg_tuple(level):\n",
    "    res = []\n",
    "    for i in range(level + 1):\n",
    "        for j in range(level + 1):\n",
    "            if i +j <=level:\n",
    "                res.append((i,j))\n",
    "    return res\n",
    "\n",
    "\n",
    "def Legendre_vector(img, level):\n",
    "    res = []\n",
    "    tup = leg_tuple(level)\n",
    "    for i in range(3):\n",
    "        im = img[:,:,i]\n",
    "        for t in tup:\n",
    "            res.append(Legendre_moments(t[0],t[1],im))\n",
    "    return np.array(res)      \n",
    "        \n",
    "        \n",
    "    "
   ]
  },
  {
   "cell_type": "code",
   "execution_count": 14,
   "metadata": {},
   "outputs": [],
   "source": [
    "def co_occurrence_vector(img, distance = [1], direction = [0, np.pi/2, 3*np.pi/2]):\n",
    "    res = []\n",
    "    for i in range(3):\n",
    "        im = img[:,:,i]\n",
    "        co_matrix = greycomatrix(im, distance, direction, levels=256)\n",
    "        contrast = greycoprops(co_matrix, 'contrast')\n",
    "        dissimilarity = greycoprops(co_matrix, 'dissimilarity')\n",
    "        homogeneity = greycoprops(co_matrix,  'homogeneity')\n",
    "        energy = greycoprops(co_matrix, 'energy')\n",
    "        correlation = greycoprops(co_matrix, 'correlation')\n",
    "        ASM = greycoprops(co_matrix, 'ASM')\n",
    "        total = np.concatenate([contrast,dissimilarity,homogeneity,energy,correlation,ASM],axis = 1)\n",
    "        res.append(total)\n",
    "    return np.array(res).ravel()\n",
    "\n",
    "\n",
    "\n",
    "\n",
    "\n",
    "def color_hist_vector(img, bins = 16):\n",
    "    res = []\n",
    "    for i in range(3):\n",
    "        im =img[:,:,i]\n",
    "        M = im.shape[0]\n",
    "        N = im.shape[1]      \n",
    "        c = plt.hist(img.ravel(), bins=16)   \n",
    "        norm = np.linalg.norm(c[0])\n",
    "        hist_norm = c[0]/norm\n",
    "        res.append(hist_norm)\n",
    "    return np.array(res).ravel()\n",
    "    \n"
   ]
  },
  {
   "cell_type": "code",
   "execution_count": 15,
   "metadata": {},
   "outputs": [],
   "source": [
    "def total_feature(img, level = 3, bins = 16, distance = [1], direction = [0, np.pi/2, 3*np.pi/2]):\n",
    "    legendre = Legendre_vector(img,level)\n",
    "    histograms = color_hist_vector(img,  bins = bins)\n",
    "    co_occurrence = co_occurrence_vector(img,distance = distance, direction = direction)\n",
    "    return np.concatenate([legendre,histograms,co_occurrence])"
   ]
  },
  {
   "cell_type": "code",
   "execution_count": 16,
   "metadata": {},
   "outputs": [
    {
     "name": "stdout",
     "output_type": "stream",
     "text": [
      "********************  Arthonia_radiata_texture.jpg  ***********************\n"
     ]
    },
    {
     "ename": "TypeError",
     "evalue": "'NoneType' object is not subscriptable",
     "output_type": "error",
     "traceback": [
      "\u001b[0;31m---------------------------------------------------------------------------\u001b[0m",
      "\u001b[0;31mTypeError\u001b[0m                                 Traceback (most recent call last)",
      "\u001b[0;32m<ipython-input-16-2170e2082f66>\u001b[0m in \u001b[0;36m<module>\u001b[0;34m\u001b[0m\n\u001b[1;32m      5\u001b[0m     \u001b[0mprint\u001b[0m\u001b[0;34m(\u001b[0m\u001b[0;34m\"******************** \"\u001b[0m\u001b[0;34m,\u001b[0m\u001b[0mtexture\u001b[0m\u001b[0;34m,\u001b[0m\u001b[0;34m\" ***********************\"\u001b[0m\u001b[0;34m)\u001b[0m\u001b[0;34m\u001b[0m\u001b[0;34m\u001b[0m\u001b[0m\n\u001b[1;32m      6\u001b[0m     \u001b[0mimg\u001b[0m \u001b[0;34m=\u001b[0m \u001b[0mcv2\u001b[0m\u001b[0;34m.\u001b[0m\u001b[0mimread\u001b[0m\u001b[0;34m(\u001b[0m\u001b[0mtexture\u001b[0m\u001b[0;34m)\u001b[0m\u001b[0;34m\u001b[0m\u001b[0;34m\u001b[0m\u001b[0m\n\u001b[0;32m----> 7\u001b[0;31m     \u001b[0mfeat\u001b[0m \u001b[0;34m=\u001b[0m \u001b[0mtotal_feature\u001b[0m\u001b[0;34m(\u001b[0m\u001b[0mimg\u001b[0m\u001b[0;34m)\u001b[0m\u001b[0;34m\u001b[0m\u001b[0;34m\u001b[0m\u001b[0m\n\u001b[0m\u001b[1;32m      8\u001b[0m     \u001b[0mres\u001b[0m\u001b[0;34m.\u001b[0m\u001b[0mappend\u001b[0m\u001b[0;34m(\u001b[0m\u001b[0mfeat\u001b[0m\u001b[0;34m)\u001b[0m\u001b[0;34m\u001b[0m\u001b[0;34m\u001b[0m\u001b[0m\n\u001b[1;32m      9\u001b[0m     \u001b[0mname\u001b[0m\u001b[0;34m.\u001b[0m\u001b[0mappend\u001b[0m\u001b[0;34m(\u001b[0m\u001b[0mtexture\u001b[0m\u001b[0;34m.\u001b[0m\u001b[0msplit\u001b[0m\u001b[0;34m(\u001b[0m\u001b[0;34m\".jpg\"\u001b[0m\u001b[0;34m)\u001b[0m\u001b[0;34m[\u001b[0m\u001b[0;36m0\u001b[0m\u001b[0;34m]\u001b[0m\u001b[0;34m)\u001b[0m\u001b[0;34m\u001b[0m\u001b[0;34m\u001b[0m\u001b[0m\n",
      "\u001b[0;32m<ipython-input-15-105d2082889c>\u001b[0m in \u001b[0;36mtotal_feature\u001b[0;34m(img, level, bins, distance, direction)\u001b[0m\n\u001b[1;32m      1\u001b[0m \u001b[0;32mdef\u001b[0m \u001b[0mtotal_feature\u001b[0m\u001b[0;34m(\u001b[0m\u001b[0mimg\u001b[0m\u001b[0;34m,\u001b[0m \u001b[0mlevel\u001b[0m \u001b[0;34m=\u001b[0m \u001b[0;36m3\u001b[0m\u001b[0;34m,\u001b[0m \u001b[0mbins\u001b[0m \u001b[0;34m=\u001b[0m \u001b[0;36m16\u001b[0m\u001b[0;34m,\u001b[0m \u001b[0mdistance\u001b[0m \u001b[0;34m=\u001b[0m \u001b[0;34m[\u001b[0m\u001b[0;36m1\u001b[0m\u001b[0;34m]\u001b[0m\u001b[0;34m,\u001b[0m \u001b[0mdirection\u001b[0m \u001b[0;34m=\u001b[0m \u001b[0;34m[\u001b[0m\u001b[0;36m0\u001b[0m\u001b[0;34m,\u001b[0m \u001b[0mnp\u001b[0m\u001b[0;34m.\u001b[0m\u001b[0mpi\u001b[0m\u001b[0;34m/\u001b[0m\u001b[0;36m2\u001b[0m\u001b[0;34m,\u001b[0m \u001b[0;36m3\u001b[0m\u001b[0;34m*\u001b[0m\u001b[0mnp\u001b[0m\u001b[0;34m.\u001b[0m\u001b[0mpi\u001b[0m\u001b[0;34m/\u001b[0m\u001b[0;36m2\u001b[0m\u001b[0;34m]\u001b[0m\u001b[0;34m)\u001b[0m\u001b[0;34m:\u001b[0m\u001b[0;34m\u001b[0m\u001b[0;34m\u001b[0m\u001b[0m\n\u001b[0;32m----> 2\u001b[0;31m     \u001b[0mlegendre\u001b[0m \u001b[0;34m=\u001b[0m \u001b[0mLegendre_vector\u001b[0m\u001b[0;34m(\u001b[0m\u001b[0mimg\u001b[0m\u001b[0;34m,\u001b[0m\u001b[0mlevel\u001b[0m\u001b[0;34m)\u001b[0m\u001b[0;34m\u001b[0m\u001b[0;34m\u001b[0m\u001b[0m\n\u001b[0m\u001b[1;32m      3\u001b[0m     \u001b[0mhistograms\u001b[0m \u001b[0;34m=\u001b[0m \u001b[0mcolor_hist_vector\u001b[0m\u001b[0;34m(\u001b[0m\u001b[0mimg\u001b[0m\u001b[0;34m,\u001b[0m  \u001b[0mbins\u001b[0m \u001b[0;34m=\u001b[0m \u001b[0mbins\u001b[0m\u001b[0;34m)\u001b[0m\u001b[0;34m\u001b[0m\u001b[0;34m\u001b[0m\u001b[0m\n\u001b[1;32m      4\u001b[0m     \u001b[0mco_occurrence\u001b[0m \u001b[0;34m=\u001b[0m \u001b[0mco_occurrence_vector\u001b[0m\u001b[0;34m(\u001b[0m\u001b[0mimg\u001b[0m\u001b[0;34m,\u001b[0m\u001b[0mdistance\u001b[0m \u001b[0;34m=\u001b[0m \u001b[0mdistance\u001b[0m\u001b[0;34m,\u001b[0m \u001b[0mdirection\u001b[0m \u001b[0;34m=\u001b[0m \u001b[0mdirection\u001b[0m\u001b[0;34m)\u001b[0m\u001b[0;34m\u001b[0m\u001b[0;34m\u001b[0m\u001b[0m\n\u001b[1;32m      5\u001b[0m     \u001b[0;32mreturn\u001b[0m \u001b[0mnp\u001b[0m\u001b[0;34m.\u001b[0m\u001b[0mconcatenate\u001b[0m\u001b[0;34m(\u001b[0m\u001b[0;34m[\u001b[0m\u001b[0mlegendre\u001b[0m\u001b[0;34m,\u001b[0m\u001b[0mhistograms\u001b[0m\u001b[0;34m,\u001b[0m\u001b[0mco_occurrence\u001b[0m\u001b[0;34m]\u001b[0m\u001b[0;34m)\u001b[0m\u001b[0;34m\u001b[0m\u001b[0;34m\u001b[0m\u001b[0m\n",
      "\u001b[0;32m<ipython-input-13-a3b41891a56b>\u001b[0m in \u001b[0;36mLegendre_vector\u001b[0;34m(img, level)\u001b[0m\n\u001b[1;32m     37\u001b[0m     \u001b[0mtup\u001b[0m \u001b[0;34m=\u001b[0m \u001b[0mleg_tuple\u001b[0m\u001b[0;34m(\u001b[0m\u001b[0mlevel\u001b[0m\u001b[0;34m)\u001b[0m\u001b[0;34m\u001b[0m\u001b[0;34m\u001b[0m\u001b[0m\n\u001b[1;32m     38\u001b[0m     \u001b[0;32mfor\u001b[0m \u001b[0mi\u001b[0m \u001b[0;32min\u001b[0m \u001b[0mrange\u001b[0m\u001b[0;34m(\u001b[0m\u001b[0;36m3\u001b[0m\u001b[0;34m)\u001b[0m\u001b[0;34m:\u001b[0m\u001b[0;34m\u001b[0m\u001b[0;34m\u001b[0m\u001b[0m\n\u001b[0;32m---> 39\u001b[0;31m         \u001b[0mim\u001b[0m \u001b[0;34m=\u001b[0m \u001b[0mimg\u001b[0m\u001b[0;34m[\u001b[0m\u001b[0;34m:\u001b[0m\u001b[0;34m,\u001b[0m\u001b[0;34m:\u001b[0m\u001b[0;34m,\u001b[0m\u001b[0mi\u001b[0m\u001b[0;34m]\u001b[0m\u001b[0;34m\u001b[0m\u001b[0;34m\u001b[0m\u001b[0m\n\u001b[0m\u001b[1;32m     40\u001b[0m         \u001b[0;32mfor\u001b[0m \u001b[0mt\u001b[0m \u001b[0;32min\u001b[0m \u001b[0mtup\u001b[0m\u001b[0;34m:\u001b[0m\u001b[0;34m\u001b[0m\u001b[0;34m\u001b[0m\u001b[0m\n\u001b[1;32m     41\u001b[0m             \u001b[0mres\u001b[0m\u001b[0;34m.\u001b[0m\u001b[0mappend\u001b[0m\u001b[0;34m(\u001b[0m\u001b[0mLegendre_moments\u001b[0m\u001b[0;34m(\u001b[0m\u001b[0mt\u001b[0m\u001b[0;34m[\u001b[0m\u001b[0;36m0\u001b[0m\u001b[0;34m]\u001b[0m\u001b[0;34m,\u001b[0m\u001b[0mt\u001b[0m\u001b[0;34m[\u001b[0m\u001b[0;36m1\u001b[0m\u001b[0;34m]\u001b[0m\u001b[0;34m,\u001b[0m\u001b[0mim\u001b[0m\u001b[0;34m)\u001b[0m\u001b[0;34m)\u001b[0m\u001b[0;34m\u001b[0m\u001b[0;34m\u001b[0m\u001b[0m\n",
      "\u001b[0;31mTypeError\u001b[0m: 'NoneType' object is not subscriptable"
     ]
    }
   ],
   "source": [
    "lista_texture = os.listdir((\"../../texture\"))\n",
    "res = []\n",
    "name = []\n",
    "for texture in lista_immagini:\n",
    "    print(\"******************** \",texture,\" ***********************\")\n",
    "    img = cv2.imread(\"\"texture)\n",
    "    feat = total_feature(img)\n",
    "    res.append(feat)\n",
    "    name.append(texture.split(\".jpg\")[0])\n",
    "\n",
    "numpy.save(\"texture_feature\",np.array(res))\n",
    "numpy.save(\"name_texture\",np.array(name))\n",
    "    "
   ]
  },
  {
   "cell_type": "code",
   "execution_count": null,
   "metadata": {},
   "outputs": [],
   "source": []
  }
 ],
 "metadata": {
  "kernelspec": {
   "display_name": "Python 3.7.3 64-bit ('base': conda)",
   "language": "python",
   "name": "python37364bitbaseconda10374d56d606404d89697440b2a570f1"
  },
  "language_info": {
   "codemirror_mode": {
    "name": "ipython",
    "version": 3
   },
   "file_extension": ".py",
   "mimetype": "text/x-python",
   "name": "python",
   "nbconvert_exporter": "python",
   "pygments_lexer": "ipython3",
   "version": "3.7.3"
  }
 },
 "nbformat": 4,
 "nbformat_minor": 2
}
