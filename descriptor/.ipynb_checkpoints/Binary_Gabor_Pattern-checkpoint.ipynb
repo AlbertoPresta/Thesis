{
 "cells": [
  {
   "cell_type": "code",
   "execution_count": 1,
   "metadata": {},
   "outputs": [],
   "source": [
    "import numpy as np \n",
    "import matplotlib.pyplot as plt \n",
    "from skimage.filters import gabor_kernel\n",
    "from scipy import ndimage as ndi\n",
    "import cv2 "
   ]
  },
  {
   "cell_type": "code",
   "execution_count": 67,
   "metadata": {},
   "outputs": [],
   "source": [
    "img = cv2.imread('../prova.jpg')\n",
    "img = cv2.cvtColor(img, cv2.COLOR_BGR2GRAY)\n",
    "img = cv2.resize(img, (512,512))\n",
    "#filtered_img = cv2.filter2D(img, cv2.CV_8UC3, g_kernel)"
   ]
  },
  {
   "cell_type": "markdown",
   "metadata": {},
   "source": [
    "# GABOR KERNELS \n",
    "\n",
    "Gabor kernel is a Gaussian kernel modulated by a complex harmonic function. Harmonic function consists of an imaginary sine function and a real cosine function. Spatial frequency is inversely proportional to the wavelength of the harmonic and to the standard deviation of a Gaussian kernel. The bandwidth is also inversely proportional to the standard deviation."
   ]
  },
  {
   "cell_type": "code",
   "execution_count": 68,
   "metadata": {},
   "outputs": [],
   "source": [
    "\n",
    "\n",
    "\n",
    "def gabor_kernel(size_0,size_1, sigma, theta, lamb, gamma, psi, ktyp =  cv2.CV_32F):\n",
    "    \"\"\"\n",
    "    \n",
    "    size - size of gabor filter (n, n)\n",
    "    sigma - standard deviation of the gaussian function\n",
    "    theta - orientation of the normal to the parallel stripes\n",
    "    lamb - wavelength of the sunusoidal factor\n",
    "    gamma - spatial aspect ratio\n",
    "    psi - phase offset\n",
    "    ktype - type and range of values that each pixel in the gabor kernel can hold    \n",
    "    \"\"\"\n",
    "    return cv2.getGaborKernel((size_0, size_1), sigma, theta, lamb, gamma, psi, ktype=cv2.CV_32F)\n",
    "\n",
    "\n",
    "size = 7\n",
    "theta_vec = [np.pi*i/8 for i in range(8)]\n",
    "lamb = 1.3\n",
    "sigma = 0.7\n",
    "resolution = (sigma,lamb)\n",
    "gamma = 1.82\n",
    "psi = 0\n",
    "\n",
    "def initialize_gabor_filter_banks(size_0,size_1, resolution, gamma, psi, theta_vec):\n",
    "    kernels = []\n",
    "    for th in theta_vec:\n",
    "        kernels.append(gabor_kernel(size_0,size_1,resolution[0], th, resolution[1], gamma, psi))\n",
    "    return kernels\n",
    "    \n"
   ]
  },
  {
   "cell_type": "code",
   "execution_count": 69,
   "metadata": {},
   "outputs": [],
   "source": [
    "kernels = initialize_gabor_filter_banks(img.shape[0],img.shape[1], resolution, gamma, psi, theta_vec)"
   ]
  },
  {
   "cell_type": "code",
   "execution_count": 70,
   "metadata": {},
   "outputs": [],
   "source": [
    "filtered_img = cv2.filter2D(img, cv2.CV_8UC3, kernels[7])"
   ]
  },
  {
   "cell_type": "code",
   "execution_count": 71,
   "metadata": {},
   "outputs": [],
   "source": [
    "t = [np.sum(cv2.filter2D(img, cv2.CV_8UC3, kernels[i]).reshape(-1)) for i in range(8)]"
   ]
  },
  {
   "cell_type": "code",
   "execution_count": 72,
   "metadata": {},
   "outputs": [
    {
     "data": {
      "text/plain": [
       "[33843853,\n",
       " 29010036,\n",
       " 23845996,\n",
       " 29010065,\n",
       " 33843989,\n",
       " 29010353,\n",
       " 23846231,\n",
       " 29010186]"
      ]
     },
     "execution_count": 72,
     "metadata": {},
     "output_type": "execute_result"
    }
   ],
   "source": [
    "t"
   ]
  },
  {
   "cell_type": "code",
   "execution_count": 73,
   "metadata": {},
   "outputs": [],
   "source": [
    "c = gabor_kernel(img.shape[0],img.shape[1],sigma,0,1.3,1.82,0)"
   ]
  },
  {
   "cell_type": "code",
   "execution_count": 74,
   "metadata": {},
   "outputs": [],
   "source": [
    "filtered_img = cv2.filter2D(img, cv2.CV_8UC3, c)"
   ]
  },
  {
   "cell_type": "code",
   "execution_count": 77,
   "metadata": {},
   "outputs": [],
   "source": [
    "# opencv\n",
    "\n",
    "import cv2\n",
    "\n",
    "def build_filters():\n",
    "    \"\"\" returns a list of kernels in several orientations\n",
    "    \"\"\"\n",
    "    filters = []\n",
    "    ksize = 31\n",
    "    for theta in np.arange(0, np.pi, np.pi / 32):\n",
    "        params = {'ksize':(ksize, ksize), 'sigma':1.0, 'theta':theta, 'lambd':15.0,\n",
    "                  'gamma':0.02, 'psi':0, 'ktype':cv2.CV_32F}\n",
    "        kern = cv2.getGaborKernel(**params)\n",
    "        kern /= 1.5*kern.sum()\n",
    "        filters.append((kern,params))\n",
    "    return filters\n",
    "\n",
    "def process(img, filters):\n",
    "    \"\"\" returns the img filtered by the filter list\n",
    "    \"\"\"\n",
    "    accum = np.zeros_like(img)\n",
    "    for kern,params in filters:\n",
    "        fimg = cv2.filter2D(img, cv2.CV_8UC3, kern)\n",
    "        np.maximum(accum, fimg, accum)\n",
    "    return accum\n",
    "\n",
    "\n",
    "#main\n",
    "filters = build_filters()\n",
    "p = process(img, filters)"
   ]
  },
  {
   "cell_type": "code",
   "execution_count": 80,
   "metadata": {},
   "outputs": [
    {
     "data": {
      "text/plain": [
       "array([[ 86,  85,  83, ..., 102, 104, 104],\n",
       "       [ 83,  84,  85, ...,  99, 102, 102],\n",
       "       [ 82,  82,  82, ...,  92,  93,  93],\n",
       "       ...,\n",
       "       [112, 112, 110, ..., 123, 123, 120],\n",
       "       [112, 112, 110, ..., 122, 125, 124],\n",
       "       [113, 113, 110, ..., 119, 123, 125]], dtype=uint8)"
      ]
     },
     "execution_count": 80,
     "metadata": {},
     "output_type": "execute_result"
    }
   ],
   "source": [
    "p"
   ]
  },
  {
   "cell_type": "code",
   "execution_count": null,
   "metadata": {},
   "outputs": [],
   "source": []
  }
 ],
 "metadata": {
  "kernelspec": {
   "display_name": "Python 3.7.3 64-bit ('base': conda)",
   "language": "python",
   "name": "python37364bitbaseconda10374d56d606404d89697440b2a570f1"
  },
  "language_info": {
   "codemirror_mode": {
    "name": "ipython",
    "version": 3
   },
   "file_extension": ".py",
   "mimetype": "text/x-python",
   "name": "python",
   "nbconvert_exporter": "python",
   "pygments_lexer": "ipython3",
   "version": "3.7.3"
  }
 },
 "nbformat": 4,
 "nbformat_minor": 2
}
