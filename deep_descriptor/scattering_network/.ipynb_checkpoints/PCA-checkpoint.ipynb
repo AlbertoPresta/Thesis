{
 "cells": [
  {
   "cell_type": "code",
   "execution_count": 1,
   "metadata": {},
   "outputs": [],
   "source": [
    "import numpy as np \n",
    "from sklearn.preprocessing import StandardScaler\n",
    "from sklearn.decomposition import PCA\n",
    "from sklearn.preprocessing import StandardScaler\n",
    "from sklearn.datasets import fetch_openml\n",
    "\n",
    "#mnist = fetch_openml('mnist_784')"
   ]
  },
  {
   "cell_type": "code",
   "execution_count": null,
   "metadata": {},
   "outputs": [],
   "source": [
    "def apply_pca_to_train_and_test_images(train_vct, test_vct, perc = .95):\n",
    "    \"\"\"\n",
    "    INPUT:\n",
    "    train_vct = training vector of shape (N_samples, dimensionality)\n",
    "    test_vct = testing vector of shape (N_samples, dimensionality)\n",
    "    perc = percentage of variance that we want ot preserve \n",
    "    \n",
    "    OUTPUT \n",
    "    train_transform = new training vector \n",
    "    test_transform = new test vector \n",
    "    \"\"\"\n",
    "    \n",
    "    scaler = StandardScaler()\n",
    "    scaler.fit(train_vct)\n",
    "    train_vct = scaler.transform(train_vct)\n",
    "    test_vct = scaler.transform(test_vct)\n",
    "    pca = PCA(perc)\n",
    "    train_transform = pca.transform(train_vct)\n",
    "    test_transform = pca.transform(test_vct)\n",
    "    \n",
    "    return train_transform, test_transform\n",
    "    \n",
    "    \n",
    "    \n",
    "    \n",
    "    "
   ]
  }
 ],
 "metadata": {
  "kernelspec": {
   "display_name": "Python 3.7.3 64-bit ('base': conda)",
   "language": "python",
   "name": "python37364bitbaseconda10374d56d606404d89697440b2a570f1"
  },
  "language_info": {
   "codemirror_mode": {
    "name": "ipython",
    "version": 3
   },
   "file_extension": ".py",
   "mimetype": "text/x-python",
   "name": "python",
   "nbconvert_exporter": "python",
   "pygments_lexer": "ipython3",
   "version": "3.7.3"
  }
 },
 "nbformat": 4,
 "nbformat_minor": 4
}
