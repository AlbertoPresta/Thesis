{
 "cells": [
  {
   "cell_type": "code",
   "execution_count": 1,
   "metadata": {},
   "outputs": [],
   "source": [
    "import numpy as np\n",
    "from scipy import signal, misc, ndimage\n",
    "from itertools import combinations\n",
    "import math"
   ]
  },
  {
   "cell_type": "code",
   "execution_count": 1,
   "metadata": {},
   "outputs": [
    {
     "ename": "NameError",
     "evalue": "name 'np' is not defined",
     "output_type": "error",
     "traceback": [
      "\u001b[0;31m---------------------------------------------------------------------------\u001b[0m",
      "\u001b[0;31mNameError\u001b[0m                                 Traceback (most recent call last)",
      "\u001b[0;32m<ipython-input-1-182a86bb5b49>\u001b[0m in \u001b[0;36m<module>\u001b[0;34m\u001b[0m\n\u001b[0;32m----> 1\u001b[0;31m \u001b[0;32mdef\u001b[0m \u001b[0mMorlet2D_grid\u001b[0m\u001b[0;34m(\u001b[0m\u001b[0mn_lines\u001b[0m\u001b[0;34m,\u001b[0m \u001b[0mn_columns\u001b[0m\u001b[0;34m,\u001b[0m \u001b[0mJ\u001b[0m \u001b[0;34m=\u001b[0m \u001b[0;36m0\u001b[0m\u001b[0;34m,\u001b[0m \u001b[0mtheta\u001b[0m \u001b[0;34m=\u001b[0m \u001b[0;36m0\u001b[0m\u001b[0;34m,\u001b[0m \u001b[0msigma\u001b[0m \u001b[0;34m=\u001b[0m \u001b[0;36m0.85\u001b[0m\u001b[0;34m,\u001b[0m \u001b[0mxi\u001b[0m \u001b[0;34m=\u001b[0m \u001b[0;36m3\u001b[0m \u001b[0;34m*\u001b[0m \u001b[0mnp\u001b[0m\u001b[0;34m.\u001b[0m\u001b[0mpi\u001b[0m \u001b[0;34m/\u001b[0m \u001b[0;36m4\u001b[0m\u001b[0;34m)\u001b[0m\u001b[0;34m:\u001b[0m\u001b[0;34m\u001b[0m\u001b[0;34m\u001b[0m\u001b[0m\n\u001b[0m\u001b[1;32m      2\u001b[0m     \u001b[0;34m\"\"\"returns 2d Morlet real and imaginary filter of size (n_lines, n_columns), rotated by theta and dilated by 1/2^J\"\"\"\u001b[0m\u001b[0;34m\u001b[0m\u001b[0;34m\u001b[0m\u001b[0m\n\u001b[1;32m      3\u001b[0m     \u001b[0mX\u001b[0m \u001b[0;34m=\u001b[0m \u001b[0mnp\u001b[0m\u001b[0;34m.\u001b[0m\u001b[0marange\u001b[0m\u001b[0;34m(\u001b[0m\u001b[0;34m-\u001b[0m\u001b[0mn_columns\u001b[0m \u001b[0;34m/\u001b[0m \u001b[0;36m2\u001b[0m\u001b[0;34m**\u001b[0m\u001b[0;34m(\u001b[0m\u001b[0mJ\u001b[0m\u001b[0;34m+\u001b[0m\u001b[0;36m1\u001b[0m\u001b[0;34m)\u001b[0m\u001b[0;34m,\u001b[0m \u001b[0mn_columns\u001b[0m \u001b[0;34m/\u001b[0m \u001b[0;36m2\u001b[0m\u001b[0;34m**\u001b[0m\u001b[0;34m(\u001b[0m\u001b[0mJ\u001b[0m\u001b[0;34m+\u001b[0m\u001b[0;36m1\u001b[0m\u001b[0;34m)\u001b[0m\u001b[0;34m,\u001b[0m \u001b[0;36m1\u001b[0m\u001b[0;34m/\u001b[0m\u001b[0;36m2\u001b[0m\u001b[0;34m**\u001b[0m\u001b[0mJ\u001b[0m\u001b[0;34m)\u001b[0m \u001b[0;31m#to get n_columns length vector\u001b[0m\u001b[0;34m\u001b[0m\u001b[0;34m\u001b[0m\u001b[0m\n\u001b[1;32m      4\u001b[0m     \u001b[0mY\u001b[0m \u001b[0;34m=\u001b[0m \u001b[0mnp\u001b[0m\u001b[0;34m.\u001b[0m\u001b[0marange\u001b[0m\u001b[0;34m(\u001b[0m\u001b[0;34m-\u001b[0m\u001b[0mn_lines\u001b[0m \u001b[0;34m/\u001b[0m \u001b[0;36m2\u001b[0m\u001b[0;34m**\u001b[0m\u001b[0;34m(\u001b[0m\u001b[0mJ\u001b[0m\u001b[0;34m+\u001b[0m\u001b[0;36m1\u001b[0m\u001b[0;34m)\u001b[0m\u001b[0;34m,\u001b[0m \u001b[0mn_lines\u001b[0m \u001b[0;34m/\u001b[0m \u001b[0;36m2\u001b[0m\u001b[0;34m**\u001b[0m\u001b[0;34m(\u001b[0m\u001b[0mJ\u001b[0m\u001b[0;34m+\u001b[0m\u001b[0;36m1\u001b[0m\u001b[0;34m)\u001b[0m\u001b[0;34m,\u001b[0m \u001b[0;36m1\u001b[0m\u001b[0;34m/\u001b[0m\u001b[0;36m2\u001b[0m\u001b[0;34m**\u001b[0m\u001b[0mJ\u001b[0m\u001b[0;34m)\u001b[0m\u001b[0;34m\u001b[0m\u001b[0;34m\u001b[0m\u001b[0m\n\u001b[1;32m      5\u001b[0m     \u001b[0mX\u001b[0m\u001b[0;34m,\u001b[0m \u001b[0mY\u001b[0m \u001b[0;34m=\u001b[0m \u001b[0mnp\u001b[0m\u001b[0;34m.\u001b[0m\u001b[0mmeshgrid\u001b[0m\u001b[0;34m(\u001b[0m\u001b[0mX\u001b[0m\u001b[0;34m,\u001b[0m \u001b[0mY\u001b[0m\u001b[0;34m)\u001b[0m\u001b[0;34m\u001b[0m\u001b[0;34m\u001b[0m\u001b[0m\n",
      "\u001b[0;31mNameError\u001b[0m: name 'np' is not defined"
     ]
    }
   ],
   "source": [
    "def Morlet2D_grid(n_lines, n_columns, J = 0, theta = 0, sigma = 0.85, xi = 3 * np.pi / 4):\n",
    "    \"\"\"returns 2d Morlet real and imaginary filter of size (n_lines, n_columns), rotated by theta and dilated by 1/2^J\"\"\"\n",
    "    X = np.arange(-n_columns / 2**(J+1), n_columns / 2**(J+1), 1/2**J) #to get n_columns length vector\n",
    "    Y = np.arange(-n_lines / 2**(J+1), n_lines / 2**(J+1), 1/2**J)\n",
    "    X, Y = np.meshgrid(X, Y)\n",
    "    \n",
    "    # Rotate\n",
    "    X_theta = np.cos(theta) * X + np.sin(theta) * Y \n",
    "    Y_theta = np.cos(theta) * Y - np.sin(theta) * X\n",
    "    \n",
    "    Wave = np.exp(1j * xi * (X_theta + Y_theta))\n",
    "    Z_r = np.real(Wave)\n",
    "    Z_i = np.imag(Wave)\n",
    "    Gaus = np.exp(-np.sqrt(X_theta**2 + Y_theta**2) / (2 * sigma**2))\n",
    "    Z_r *= Gaus\n",
    "    Z_i *= Gaus\n",
    "    \n",
    "    # Center Morlet wave--> added to have 0 mean\n",
    "    Int_r = np.sum(Z_r)\n",
    "    Int_i = np.sum(Z_i)\n",
    "    Int_Gaus = np.sum(Gaus)\n",
    "\n",
    "    beta_r = Int_r / Int_Gaus\n",
    "    beta_i = Int_i/ Int_Gaus\n",
    "    \n",
    "    Z_r -= beta_r * Gaus\n",
    "    Z_i -= beta_i * Gaus\n",
    "    return(Z_r + 1j * Z_i)"
   ]
  },
  {
   "cell_type": "code",
   "execution_count": 4,
   "metadata": {},
   "outputs": [],
   "source": [
    "def morl_conv(image, subsample = 1, J = 0, theta = 0, sigma = 0.85, xi = 3*np.pi /4):\n",
    "    \"\"\"\n",
    "    image of shape (n_lines, n_columns), returns convolution with Morlet2d_grid\n",
    "    \"\"\"\n",
    "\n",
    "    morlet_filter =  Morlet2D_grid(image.shape[0], image.shape[1], J, theta, sigma, xi)\n",
    "    return (signal.fftconvolve(image,morlet_filter,mode = \"same\")[:: subsample, ::subsample])"
   ]
  },
  {
   "cell_type": "code",
   "execution_count": 5,
   "metadata": {},
   "outputs": [],
   "source": [
    "def continue_path(path, J, K):\n",
    "    \"\"\"\n",
    "    gets a scattering path of length m, outputs a list of all length m+1 that you could obtain from this path\n",
    "    \"\"\"\n",
    "    cont_paths = []\n",
    "    \n",
    "    if type(path[0]) == int:\n",
    "        j_m = path[0]\n",
    "    else:\n",
    "        j_m = path[-1][0]\n",
    "    thetas = [np.pi*k /K for k in range(K)]\n",
    "    for j in range(j_m + 1,J + 1):\n",
    "        for theta in thetas:\n",
    "            if type(path[0]) == int:\n",
    "                path1 = [path]\n",
    "            else:\n",
    "                path1 = list(path)\n",
    "            path1 +=[(j,theta)]\n",
    "            cont_paths.append(tuple(path1))\n",
    "    return cont_paths  "
   ]
  },
  {
   "cell_type": "code",
   "execution_count": 6,
   "metadata": {},
   "outputs": [],
   "source": [
    "def scatter_coeffs_fast(image, m, K, J = 0):\n",
    "    \"\"\"J = number of dilatations, m = length of the scattering conv network, K = number of rotations\n",
    "        outputs a long array of concatenated scatter coefficients\"\"\"\n",
    "    \n",
    "    if J == 0 :\n",
    "        #default value of J is log(image.width)\n",
    "        J = int(math.log(image.shape[0], 2))\n",
    "        \n",
    "    #layer number 0: first scattering coeff\n",
    "    scat_coeffs = 1/2**J*ndimage.filters.gaussian_filter(image, 1/2**J)[ :: 2**J, :: 2**J].reshape(-1)\n",
    "    \n",
    "    #we index_pathes to normalize scattering coefficient afterwards\n",
    "    path_index = 0\n",
    "    #coeff indexes indicates which are the indexes corresponding to path n° path_index\n",
    "    coeff_indexes = {path_index : (0, scat_coeffs.shape[0])}\n",
    "    #normalization_coeff[path_index ] = norm(S[path]x)\n",
    "    normalization_coeff = {path_index : np.linalg.norm(scat_coeffs)}\n",
    "    paths = []\n",
    "    U_p = {1 : {}}\n",
    "    #first layers U[p] calculated\n",
    "    for j in range(1, J +1):\n",
    "        for theta in [np.pi * k / K for k in range(K)]:\n",
    "            path = (j, theta)\n",
    "            paths.append((path))\n",
    "            U_p[1][path] = np.abs(morl_conv(image, subsample = path[0], J = path[0], theta = path[1]))\n",
    "    #fast scattering transform:\n",
    "    for i in range(1, m):\n",
    "        U_p[i+1] = {}\n",
    "        paths2 = []\n",
    "        for path in paths:\n",
    "            #for path of length m calculate S[p]x, save path indexes in the scat_coeffs array, and the normalizaiton_coeff\n",
    "            path_index += 1\n",
    "            new_coeff = (1/2**J*ndimage.filters.gaussian_filter(U_p[i][path], 1/2**J)[ :: 2**J, :: 2**J]).reshape(-1)\n",
    "            scat_coeffs = np.concatenate((scat_coeffs, new_coeff))\n",
    "            coeff_indexes[path_index] = (scat_coeffs.shape[0] - new_coeff.shape[0], scat_coeffs.shape[0])\n",
    "            normalization_coeff[path_index] = np.linalg.norm(new_coeff)\n",
    "            for next_path in continue_path(path, J, K):\n",
    "                #calculate all paths of length m+1 and U[p] for them\n",
    "                U_p[i+1][next_path] =  np.abs(morl_conv(image, subsample = next_path[-1][0], J = next_path[-1][0], theta = next_path[-1][1]))\n",
    "                paths2.append(next_path)\n",
    "        paths = paths2\n",
    "    for path in paths:\n",
    "        #for remaining paths of length m, do the first step of the previous loop\n",
    "        path_index += 1\n",
    "        new_coeff = 1/2**J*ndimage.filters.gaussian_filter(U_p[m][path], 1/2**J).reshape(-1)\n",
    "        scat_coeffs = np.concatenate((scat_coeffs, new_coeff))\n",
    "        coeff_indexes[path_index] = (scat_coeffs.shape[0] - new_coeff.shape[0], scat_coeffs.shape[0])\n",
    "        normalization_coeff[path_index] = np.linalg.norm(new_coeff)\n",
    "    return (scat_coeffs, coeff_indexes, normalization_coeff)"
   ]
  },
  {
   "cell_type": "code",
   "execution_count": null,
   "metadata": {},
   "outputs": [],
   "source": []
  }
 ],
 "metadata": {
  "kernelspec": {
   "display_name": "Python 3.7.3 64-bit ('base': conda)",
   "language": "python",
   "name": "python37364bitbaseconda10374d56d606404d89697440b2a570f1"
  },
  "language_info": {
   "codemirror_mode": {
    "name": "ipython",
    "version": 3
   },
   "file_extension": ".py",
   "mimetype": "text/x-python",
   "name": "python",
   "nbconvert_exporter": "python",
   "pygments_lexer": "ipython3",
   "version": "3.7.3"
  }
 },
 "nbformat": 4,
 "nbformat_minor": 4
}
