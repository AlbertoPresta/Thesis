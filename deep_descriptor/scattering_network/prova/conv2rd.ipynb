{
 "cells": [
  {
   "cell_type": "code",
   "execution_count": 2,
   "metadata": {},
   "outputs": [
    {
     "name": "stdout",
     "output_type": "stream",
     "text": [
      "importing Jupyter notebook from Pars.ipynb\n"
     ]
    }
   ],
   "source": [
    "import math\n",
    "import numpy as np\n",
    "import torch\n",
    "import torch.nn as nn\n",
    "import torch.nn.functional as F\n",
    "from torch.nn.modules.utils import _single, _pair, _triple\n",
    "from torch.nn.modules.conv import _ConvNd\n",
    "import torch.nn.init as init\n",
    "from torch.nn.init import calculate_gain, _calculate_correct_fan, _calculate_fan_in_and_fan_out\n",
    "import import_ipynb\n",
    "\n",
    "from Pars import Parseval"
   ]
  },
  {
   "cell_type": "code",
   "execution_count": 3,
   "metadata": {},
   "outputs": [],
   "source": [
    "class _FilterBank(object):\n",
    "    def __init__(self):\n",
    "\n",
    "        self.frame = self.get_fb(\"frame\", [(3, 3), (5, 5), (7, 7)])\n",
    "        self.pframe = self.get_fb(\"pframe\", [(3, 3), (5, 5), (7, 7)])\n",
    "        self.nn_bank = self.get_fb(\"nn_bank\", [(3, 3), (5, 5), (7, 7)])\n",
    "\n",
    "    def get_fb(self, fbank_type, shapes):\n",
    "        return {\n",
    "            self.shape2str(item):\n",
    "                np.float32(Parseval(\n",
    "                    shape=item,\n",
    "                    low_pass_kernel='gauss',\n",
    "                    first_order=True,\n",
    "                    second_order=True,\n",
    "                    bank=fbank_type).fbank())\n",
    "            for item in shapes\n",
    "        }\n",
    "\n",
    "    def shape2str(self, shape):\n",
    "        return 'x'.join([f'{dim}' for dim in shape])\n",
    "\n",
    "\n",
    "FilterBank = _FilterBank()"
   ]
  },
  {
   "cell_type": "code",
   "execution_count": 9,
   "metadata": {},
   "outputs": [
    {
     "name": "stdout",
     "output_type": "stream",
     "text": [
      "(79, 7, 7)\n",
      "<class 'numpy.ndarray'>\n"
     ]
    }
   ],
   "source": [
    "print(FilterBank.pframe['7x7'].shape)\n",
    "print(type(FilterBank.frame['7x7']))\n",
    "\n",
    "#print(sys.getrefcount(FilterBank))\n",
    "#print(sys.getrefcount(FilterBank.nn_bank))\n"
   ]
  },
  {
   "cell_type": "code",
   "execution_count": 14,
   "metadata": {},
   "outputs": [],
   "source": [
    "def kaiming_uniform_mod(tensor, a=0, gain=1, mode='fan_in', nonlinearity='leaky_relu'):\n",
    "    r\"\"\"Fills the input `Tensor` with values according to the method\n",
    "    described in `Delving deep into rectifiers: Surpassing human-level\n",
    "    performance on ImageNet classification` - He, K. et al. (2015), using a\n",
    "    uniform distribution. The resulting tensor will have values sampled from\n",
    "    :math:`\\mathcal{U}(-\\text{bound}, \\text{bound})` where\n",
    "    .. math::\n",
    "        \\text{bound} = \\text{gain} \\times \\sqrt{\\frac{3}{\\text{fan\\_mode}}}\n",
    "    Also known as He initialization.\n",
    "    Args:\n",
    "        tensor: an n-dimensional `torch.Tensor`\n",
    "        a: the negative slope of the rectifier used after this layer (only\n",
    "        used with ``'leaky_relu'``)\n",
    "        mode: either ``'fan_in'`` (default) or ``'fan_out'``. Choosing ``'fan_in'``\n",
    "            preserves the magnitude of the variance of the weights in the\n",
    "            forward pass. Choosing ``'fan_out'`` preserves the magnitudes in the\n",
    "            backwards pass.\n",
    "        nonlinearity: the non-linear function (`nn.functional` name),\n",
    "            recommended to use only with ``'relu'`` or ``'leaky_relu'`` (default).\n",
    "    Examples:\n",
    "        >>> w = torch.empty(3, 5)\n",
    "        >>> nn.init.kaiming_uniform_(w, mode='fan_in', nonlinearity='relu')\n",
    "    \"\"\"\n",
    "    gain_mod = gain  # The \"gain_mod\" mutiplier is my only modification\n",
    "    fan = _calculate_correct_fan(tensor, mode)\n",
    "    gain = calculate_gain(nonlinearity, a)\n",
    "    std = (gain / math.sqrt(fan)) * gain_mod\n",
    "    # print(gain, gain_mod)\n",
    "    bound = math.sqrt(3.0) * std  # Calculate uniform bounds from standard deviation\n",
    "    with torch.no_grad():\n",
    "        return tensor.uniform_(-bound, bound)"
   ]
  },
  {
   "cell_type": "code",
   "execution_count": 13,
   "metadata": {},
   "outputs": [
    {
     "data": {
      "text/plain": [
       "<matplotlib.image.AxesImage at 0x1a2b759cf8>"
      ]
     },
     "execution_count": 13,
     "metadata": {},
     "output_type": "execute_result"
    },
    {
     "data": {
      "image/png": "[encoded data removed]",
      "text/plain": [
       "<Figure size 432x288 with 1 Axes>"
      ]
     },
     "metadata": {
      "needs_background": "light"
     },
     "output_type": "display_data"
    }
   ],
   "source": []
  },
  {
   "cell_type": "code",
   "execution_count": null,
   "metadata": {},
   "outputs": [],
   "source": []
  }
 ],
 "metadata": {
  "kernelspec": {
   "display_name": "Python 3.7.3 64-bit ('base': conda)",
   "language": "python",
   "name": "python37364bitbaseconda10374d56d606404d89697440b2a570f1"
  },
  "language_info": {
   "codemirror_mode": {
    "name": "ipython",
    "version": 3
   },
   "file_extension": ".py",
   "mimetype": "text/x-python",
   "name": "python",
   "nbconvert_exporter": "python",
   "pygments_lexer": "ipython3",
   "version": "3.7.3"
  }
 },
 "nbformat": 4,
 "nbformat_minor": 4
}
