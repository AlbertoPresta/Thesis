{
 "cells": [
  {
   "cell_type": "code",
   "execution_count": null,
   "metadata": {},
   "outputs": [
    {
     "name": "stdout",
     "output_type": "stream",
     "text": [
      "importing Jupyter notebook from siamese_network.ipynb\n"
     ]
    },
    {
     "name": "stderr",
     "output_type": "stream",
     "text": [
      "Using TensorFlow backend.\n"
     ]
    },
    {
     "name": "stdout",
     "output_type": "stream",
     "text": [
      "importing Jupyter notebook from lichensloader.ipynb\n",
      "importing Jupyter notebook from class_augmentator.ipynb\n",
      "sono qua\n",
      "start training\n",
      "---->  0\n"
     ]
    }
   ],
   "source": [
    "import import_ipynb\n",
    "from siamese_network import SiameseNetwork\n",
    "\n",
    "\n",
    "def main():\n",
    "    dataset_path = 'patches'\n",
    "    use_augmentation = True\n",
    "    learning_rate = 10e-4\n",
    "    batch_size = 32\n",
    "    # Learning Rate multipliers for each layer\n",
    "    learning_rate_multipliers = {}\n",
    "    learning_rate_multipliers['Conv1'] = 1\n",
    "    learning_rate_multipliers['Conv2'] = 1\n",
    "    learning_rate_multipliers['Conv3'] = 1\n",
    "    learning_rate_multipliers['Conv4'] = 1\n",
    "    learning_rate_multipliers['Dense1'] = 1\n",
    "    # l2-regularization penalization for each layer\n",
    "    l2_penalization = {}\n",
    "    l2_penalization['Conv1'] = 1e-2\n",
    "    l2_penalization['Conv2'] = 1e-2\n",
    "    l2_penalization['Conv3'] = 1e-2\n",
    "    l2_penalization['Conv4'] = 1e-2\n",
    "    l2_penalization['Dense1'] = 1e-4\n",
    "    # Path where the logs will be saved\n",
    "    #tensorboard_log_path = './logs/siamese_net_lr10e-4'\n",
    "    print(\"sono qua\")\n",
    "    siamese_network = SiameseNetwork(\n",
    "        dataset_path=dataset_path,\n",
    "        learning_rate=learning_rate,\n",
    "        batch_size=batch_size, use_augmentation=use_augmentation,\n",
    "        learning_rate_multipliers=learning_rate_multipliers,\n",
    "        l2_regularization_penalization=l2_penalization)\n",
    "    # Final layer-wise momentum (mu_j in the paper)\n",
    "    momentum = 0.9\n",
    "    # linear epoch slope evolution\n",
    "    momentum_slope = 0.01\n",
    "    support_set_size = 20\n",
    "    evaluate_each = 1000\n",
    "    number_of_train_iterations = 1000000\n",
    "    print(\"start training\")\n",
    "    validation_accuracy = siamese_network.train_siamese_network(number_of_iterations=number_of_train_iterations,\n",
    "                                                                support_set_size=support_set_size,\n",
    "                                                                final_momentum=momentum,\n",
    "                                                                momentum_slope=momentum_slope,\n",
    "                                                                evaluate_each=evaluate_each, \n",
    "                                                                model_name='siamese_net_lr10e-4')\n",
    "    print(\"end training\")\n",
    "    if validation_accuracy == 0:\n",
    "        evaluation_accuracy = 0\n",
    "    else:\n",
    "        # Load the weights with best validation accuracy\n",
    "        siamese_network.model.load_weights('./models/siamese_net_lr10e-4.h5')\n",
    "        evaluation_accuracy = siamese_network.lichen_loader.one_shot_test(siamese_network.model,\n",
    "                                                                        10, 20, False)\n",
    "    \n",
    "    print('Final Evaluation Accuracy = ' + str(evaluation_accuracy))\n",
    "\n",
    "\n",
    "if __name__ == \"__main__\":\n",
    "    main()"
   ]
  },
  {
   "cell_type": "code",
   "execution_count": null,
   "metadata": {},
   "outputs": [],
   "source": []
  }
 ],
 "metadata": {
  "kernelspec": {
   "display_name": "Python 3.7.3 64-bit ('base': conda)",
   "language": "python",
   "name": "python37364bitbaseconda10374d56d606404d89697440b2a570f1"
  },
  "language_info": {
   "codemirror_mode": {
    "name": "ipython",
    "version": 3
   },
   "file_extension": ".py",
   "mimetype": "text/x-python",
   "name": "python",
   "nbconvert_exporter": "python",
   "pygments_lexer": "ipython3",
   "version": "3.7.3"
  }
 },
 "nbformat": 4,
 "nbformat_minor": 2
}
