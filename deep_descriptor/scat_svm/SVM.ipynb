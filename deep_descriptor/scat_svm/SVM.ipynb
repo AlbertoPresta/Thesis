{
 "cells": [
  {
   "cell_type": "code",
   "execution_count": null,
   "metadata": {},
   "outputs": [],
   "source": [
    "import numpy as np \n",
    "import os \n",
    "import cv2 \n",
    "import matplotlib.pyplot as plt \n",
    "from mpl_toolkits.mplot3d import Axes3D\n",
    "from matplotlib import cm\n",
    "from matplotlib.ticker import LinearLocator, FormatStrFormatter\n",
    "from sklearn.model_selection import train_test_split, GridSearchCV\n",
    "from sklearn.svm import SVC\n",
    "import sklearn.metrics as skmetrics\n",
    "import pandas as pd\n",
    "from sklearn.metrics import precision_recall_fscore_support\n",
    "from sklearn.multiclass import OneVsRestClassifier\n",
    "from sklearn.svm import LinearSVC, SVC\n",
    "from sklearn.metrics import confusion_matrix\n",
    "from scipy.io import loadmat\n",
    "\n",
    "import itertools\n",
    "import numpy as np \n",
    "from sklearn.preprocessing import StandardScaler\n",
    "from sklearn.decomposition import PCA\n",
    "from sklearn.preprocessing import StandardScaler\n",
    "from sklearn.datasets import fetch_openml\n",
    "\n",
    "#mnist = fetch_openml('mnist_784')"
   ]
  },
  {
   "cell_type": "code",
   "execution_count": null,
   "metadata": {},
   "outputs": [],
   "source": []
  },
  {
   "cell_type": "code",
   "execution_count": null,
   "metadata": {},
   "outputs": [],
   "source": [
    "def plot_confusion_matrix(cm, classes,string,directory,dt,normalize=True):\n",
    "    \"\"\"\n",
    "    Function which plots confusion matrix\n",
    "\n",
    "    Input cm = confusion matrix\n",
    "    Input classes = array with class labels\n",
    "    Input string = string to give name of the saved image\n",
    "    Input directory = string to give directory to save the image\n",
    "    Input normalize (False) = If true function will give accuracy instead of pure number\n",
    "    Input Title (Confusion matrix) = title of the image\n",
    "\n",
    "\n",
    "    Output : None\n",
    "    \"\"\"\n",
    "    if normalize:\n",
    "        cm = cm.astype('float') / cm.sum(axis=1)[:, np.newaxis]\n",
    "    accuracy_score = skmetrics.accuracy_score(y_pred, y_tst)\n",
    "    plt.imshow(cm, cmap=plt.cm.Blues)\n",
    "    plt.title(' accuracy: ' + str(accuracy_score) + '   best rbf_kernel model: '+ str(dt))\n",
    "    plt.colorbar()\n",
    "    tick_marks = np.arange(len(classes))\n",
    "    plt.xticks(tick_marks, classes, rotation=90)\n",
    "    plt.yticks(tick_marks, classes)\n",
    "\n",
    "    fmt = '.2f' if normalize else 'd'\n",
    "    thresh = cm.max() / 2.\n",
    "    for i, j in itertools.product(range(cm.shape[0]), range(cm.shape[1])):\n",
    "        if(i==j or cm[i,j] > 0.04):\n",
    "            plt.text(j, i, format(cm[i, j], fmt),\n",
    "                     horizontalalignment=\"center\",\n",
    "                     color=\"white\" if cm[i, j] > thresh else \"black\")\n",
    "        else:\n",
    "            continue\n",
    "\n",
    "    plt.ylabel('True label')\n",
    "    plt.xlabel('Predicted label')\n",
    "    plt.tight_layout()\n",
    "    plt.savefig(directory +'confusion_matrix'+string+'.jpg')\n",
    "    \n",
    "    \n",
    "def apply_pca_to_train_and_test_images(train_vct, test_vct, perc = .95):\n",
    "    \"\"\"\n",
    "    INPUT:\n",
    "    train_vct = training vector of shape (N_samples, dimensionality)\n",
    "    test_vct = testing vector of shape (N_samples, dimensionality)\n",
    "    perc = percentage of variance that we want ot preserve \n",
    "    \n",
    "    OUTPUT \n",
    "    train_transform = new training vector \n",
    "    test_transform = new test vector \n",
    "    \"\"\"\n",
    "    \n",
    "    scaler = StandardScaler()\n",
    "    scaler.fit(train_vct)\n",
    "    train_vct = scaler.transform(train_vct)\n",
    "    test_vct = scaler.transform(test_vct)\n",
    "    pca = PCA(perc)\n",
    "    pca.fit(train_vct)\n",
    "    train_transform = pca.transform(train_vct)\n",
    "    test_transform = pca.transform(test_vct)\n",
    "    \n",
    "    return train_transform, test_transform\n",
    "    "
   ]
  },
  {
   "cell_type": "code",
   "execution_count": null,
   "metadata": {},
   "outputs": [],
   "source": [
    "species = ['Arthonia_radiata','Caloplaca_cerina','Candelariella_reflexa','Candelariella_xanthostigma','Chrysothrix_candelaris','Flavoparmelia_caperata','Gyalolechia_flavorubescens','Hyperphyscia_adglutinata'\n",
    "        ,'Lecanora_argentata','Lecanora_chlarotera','Lecidella_elaeochroma','Melanelixia_glabratula'\n",
    "        ,'Phaeophyscia_orbicularis','Physcia_biziana','Physconia_grisea','Ramalina_farinacea','Ramalina_fastigiata','Xanthomendoza_fallax','Xanthomendoza_fulva','flavoparmenia_soredians']\n"
   ]
  },
  {
   "cell_type": "code",
   "execution_count": null,
   "metadata": {},
   "outputs": [],
   "source": [
    "def calculate_and_plot_precision_recall(tst_lab, pred, species, directory, string):\n",
    "    precision, recall, fbeta, support = precision_recall_fscore_support(tst_lab, pred)\n",
    "    \n",
    "    df = pd.DataFrame({\"X\":species, \"precision\":precision,\"recall\":recall,'f1score': fbeta})\n",
    "    df.plot(x=\"X\", y=[\"precision\", \"recall\",'f1score'], kind=\"bar\")\n",
    "    plt.tight_layout()\n",
    "    plt.savefig(directory +'precision_recall_class4class'+string+'.jpg')\n",
    "    return np.mean(precision), np.mean(recall), np.mean(fbeta)\n",
    "\n"
   ]
  },
  {
   "cell_type": "code",
   "execution_count": null,
   "metadata": {},
   "outputs": [],
   "source": [
    "def load_descriptor_from_matfile(ft_path,label_list = species):\n",
    "    #print(ft_path)\n",
    "    feat = loadmat(ft_path)\n",
    "    feat = feat['scattered_image']\n",
    "    lab = ft_path.split('/')[2]\n",
    "\n",
    "    lab = label_list.index(lab)\n",
    "    return feat, lab\n",
    "\n",
    "\n",
    "def extract_features(labels_list, or_pt,summing = True):\n",
    "    data_all = []\n",
    "    data_mean = []\n",
    "    label = []\n",
    "\n",
    "    for i, tp in enumerate(labels_list):\n",
    "        pth = os.path.join(or_pt, tp)\n",
    "        lich_files = os.listdir(pth)\n",
    "        for j,mt in enumerate(lich_files):\n",
    "            \n",
    "            path = os.path.join(pth,mt)\n",
    "            x,y = load_descriptor_from_matfile(path)\n",
    "            xmean = None\n",
    "            if summing :\n",
    "                xmean = np.sum(np.sum(x,axis = 2),axis = 1)\n",
    "                xmean = xmean.reshape(-1)\n",
    "            else:\n",
    "                xmean = np.mean(np.mean(x,axis = 2),axis = 1)\n",
    "                xmean = xmean.reshape(-1)\n",
    "            data_mean.append(xmean)\n",
    "            label.append(y)\n",
    "\n",
    "\n",
    "    data_mean = np.array(data_mean)\n",
    "    label = np.array(label) \n",
    "    return  data_mean, label\n"
   ]
  },
  {
   "cell_type": "code",
   "execution_count": 6,
   "metadata": {},
   "outputs": [],
   "source": [
    "precision = []\n",
    "recall = []\n",
    "accuracy = []"
   ]
  },
  {
   "cell_type": "markdown",
   "metadata": {},
   "source": [
    "## RADIAL BASIS KERNEL SVM WITH SUM"
   ]
  },
  {
   "cell_type": "code",
   "execution_count": null,
   "metadata": {},
   "outputs": [],
   "source": [
    "c = ['1','2','3','4','5','6','7','8']\n",
    "\n",
    "\n",
    "for cc in c:\n",
    "    print('--------')\n",
    "    print(cc)\n",
    "    f = 'train/prova_4_' + cc + '_2_'\n",
    "    g = 'test/prova_4_' + cc + '_2_'\n",
    "    labels_list = os.listdir(f)\n",
    "    title_lich = 'lichen_JLM_4'+ cc + '2_'\n",
    "    x_train,  y_train = extract_features(labels_list,f)\n",
    "    print(x_train.shape)\n",
    "    x_test,  y_test = extract_features(labels_list,g)  \n",
    "    # First grid search to find best parameters\n",
    "    param_grid = {'C': [ 1e2, 1e3, 5e3, 1e4, 5e4], 'gamma': [ 1e-9, 1e-8, 1e-7, 1e-6, 1e-5, 0.0001, 0.0005, 0.001, 0.005]}\n",
    "    clf0 = GridSearchCV(SVC(kernel='rbf'), param_grid)\n",
    "    clf = clf0.fit(x_train, y_train)\n",
    "    print(\"Best estimator found by grid search : \", clf.best_estimator_)\n",
    "    y_pred = clf.predict(x_test)\n",
    "    print('Accuracy score :', skmetrics.accuracy_score(y_pred, y_test))\n",
    "    accuracy.append(skmetrics.accuracy_score(y_pred, y_test))\n",
    "    plt.figure(figsize = (15,10)) \n",
    "\n",
    "    plot_confusion_matrix(skmetrics.confusion_matrix(y_pred, y_test),labels_list,title_lich,'results/rbf/',clf.best_estimator_)\n",
    "    a,b,c = calculate_and_plot_precision_recall(y_test, y_pred, species,'results/rbf/','pr_2_4_' + cc + '_' )\n",
    "    #precision.append(a)\n",
    "    #recall.append(b)"
   ]
  },
  {
   "cell_type": "code",
   "execution_count": null,
   "metadata": {},
   "outputs": [],
   "source": [
    "# plot precision recall and accuracy \n",
    "\n",
    "import matplotlib.pyplot as plt\n",
    "x1 = [1,2,3,4,5,6,7,8]\n",
    "df = pd.DataFrame({\"X\":x1, \"precision\":precision,\"recall\":recall,'accuracy': accuracy})\n",
    "df.plot(x=\"X\", y=[\"precision\", \"recall\",'accuracy'], kind=\"bar\")\n",
    "plt.grid()\n",
    "plt.xlabel('number of rotations')\n",
    "plt.ylabel('Percentate %')\n",
    "plt.tight_layout()\n",
    "plt.savefig('results/rbf/total_j2.jpg')"
   ]
  },
  {
   "cell_type": "markdown",
   "metadata": {},
   "source": [
    "## RADIAL BASIS KERNEL linear WITH SUM"
   ]
  },
  {
   "cell_type": "code",
   "execution_count": null,
   "metadata": {},
   "outputs": [],
   "source": [
    "cc = '4'\n",
    "f = 'train/prova_4_' + cc + '_2_'\n",
    "g = 'test/prova_4_' + cc + '_2_'\n",
    "labels_list = os.listdir(f)\n",
    "title_lich = 'lichen_JLM_4'+ cc + '2_'\n",
    "x_train,  y_train = extract_features(labels_list,f,summing = False)\n",
    "x_test,  y_test = extract_features(labels_list,g,summing = False)\n",
    "\n",
    "param_grid = {'C': [ 1e2, 1e3, 5e3, 1e4, 5e4], 'gamma': [1e-9, 1e-8, 1e-7, 1e-6, 1e-5, 0.0001, 0.0005, 0.001, 0.005] }\n",
    "clf0 = GridSearchCV(SVC(kernel = 'rbf'),param_grid)\n",
    "clf = clf0.fit(x_train, y_train)\n",
    "print(\"Best estimator found by grid search : \", clf.best_estimator_)\n",
    "y_pred = clf.predict(x_test)\n",
    "print('Accuracy score :', skmetrics.accuracy_score(y_pred, y_test))\n",
    "#accuracy.append(skmetrics.accuracy_score(y_pred, y_test))\n",
    "plt.figure(figsize = (15,10)) \n",
    "\n",
    "#plot_confusion_matrix(skmetrics.confusion_matrix(y_pred, y_test),labels_list,title_lich,'results/rbf/prova',clf.best_estimator_)\n",
    "a,b,c = calculate_and_plot_precision_recall(y_test, y_pred, species,'results/rbf/','provapr_2_4_' + cc + '_' )\n",
    "print(a)\n",
    "print(b)"
   ]
  },
  {
   "cell_type": "code",
   "execution_count": null,
   "metadata": {},
   "outputs": [],
   "source": [
    "df = pd.DataFrame({\"X\":[1,2,3,4,5,6,7,8], \"precision\":precision,\"recall\":recall,'accuracy': accuracy})\n",
    "df.plot(x=\"X\", y=[\"precision\", \"recall\",'accuracy'], kind=\"bar\")\n",
    "plt.grid()\n",
    "plt.xlabel('number of rotations')\n",
    "plt.ylabel('Percentate %')\n",
    "plt.tight_layout()\n",
    "plt.savefig('results/mean_2_acc_prec_rec.jpg')"
   ]
  },
  {
   "cell_type": "markdown",
   "metadata": {},
   "source": [
    "## FEW SHOT LEARNING ---> 0.7 AS TEST SIZE\n",
    "\n",
    "this time we try to use 70 % of the dataset as test size and verify if we reach good performance "
   ]
  },
  {
   "cell_type": "code",
   "execution_count": 7,
   "metadata": {},
   "outputs": [],
   "source": [
    "from sklearn.model_selection import train_test_split\n",
    "cc = '5'\n",
    "f = 'train/prova_4_' + cc + '_2_'\n",
    "g = 'test/prova_4_' + cc + '_2_'\n",
    "labels_list = os.listdir(f)\n",
    "title_lich = 'lichen_JLM_4'+ cc + '2_'\n",
    "x_train,  y_train = extract_features(labels_list,f,summing = False)\n",
    "x_test,  y_test = extract_features(labels_list,g,summing = False)\n",
    "\n",
    "\n",
    "x = np.concatenate([x_train,x_test])\n",
    "y = np.concatenate([y_train,y_test])\n",
    "\n",
    "\n",
    "\n"
   ]
  },
  {
   "cell_type": "code",
   "execution_count": null,
   "metadata": {},
   "outputs": [],
   "source": [
    "param_grid = {'C': [ 1e2, 1e3, 5e3, 1e4, 5e4], 'gamma': [1e-9, 1e-8, 1e-7, 1e-6, 1e-5, 0.0001, 0.0005, 0.001, 0.005] }\n",
    "clf0 = GridSearchCV(SVC(kernel = 'rbf'),param_grid)\n",
    "clf = clf0.fit(x_train, y_train)\n",
    "print(\"Best estimator found by grid search : \", clf.best_estimator_)\n",
    "\n",
    "y_pred = clf.predict(x_test)\n",
    "\n",
    "print('Accuracy score :', skmetrics.accuracy_score(y_pred, y_test))"
   ]
  },
  {
   "cell_type": "code",
   "execution_count": null,
   "metadata": {},
   "outputs": [],
   "source": [
    "plt.figure(figsize = (15,15))\n",
    "plot_confusion_matrix(skmetrics.confusion_matrix(y_pred, y_test),labels_list,title_lich,'results/rbf',clf.best_estimator_)"
   ]
  },
  {
   "cell_type": "code",
   "execution_count": null,
   "metadata": {},
   "outputs": [
    {
     "name": "stdout",
     "output_type": "stream",
     "text": [
      "-------------    0.6  ------------------\n",
      "Best estimator found by grid search :  SVC(C=10000.0, gamma=0.0005)\n",
      "Accuracy score : 0.7545551982851019\n",
      "-------------    0.65  ------------------\n",
      "Best estimator found by grid search :  SVC(C=1000.0, gamma=0.005)\n",
      "Accuracy score : 0.7309594460929772\n",
      "-------------    0.7  ------------------\n",
      "Best estimator found by grid search :  SVC(C=5000.0, gamma=0.001)\n",
      "Accuracy score : 0.699724517906336\n",
      "-------------    0.75  ------------------\n",
      "Best estimator found by grid search :  SVC(C=50000.0, gamma=0.0005)\n",
      "Accuracy score : 0.6512425021422451\n",
      "-------------    0.8  ------------------\n",
      "Best estimator found by grid search :  SVC(C=5000.0, gamma=0.001)\n",
      "Accuracy score : 0.5932475884244373\n",
      "-------------    0.85  ------------------\n"
     ]
    }
   ],
   "source": [
    "test_sz = [0.60,0.65,0.70,0.75,0.80,0.85,0.9,0.95]\n",
    "acc = []\n",
    "prec = []\n",
    "rec = []\n",
    "f1 = []\n",
    "for sz in test_sz:\n",
    "    print('-------------   ',sz,' ------------------')\n",
    "    x_tr, x_tst, y_tr, y_tst = train_test_split(x, y, test_size=sz, random_state=40)\n",
    "    param_grid = {'C': [ 1e2, 1e3, 5e3, 1e4, 5e4], 'gamma': [1e-9, 1e-8, 1e-7, 1e-6, 1e-5, 0.0001, 0.0005, 0.001, 0.005] }\n",
    "    clf0 = GridSearchCV(SVC(kernel = 'rbf'),param_grid)\n",
    "    clf = clf0.fit(x_tr, y_tr)\n",
    "    print(\"Best estimator found by grid search : \", clf.best_estimator_)\n",
    "\n",
    "    y_pred = clf.predict(x_tst)\n",
    "\n",
    "    print('Accuracy score :', skmetrics.accuracy_score(y_pred, y_tst))\n",
    "    acc.append(skmetrics.accuracy_score(y_pred, y_tst))\n",
    "    a,b,c = calculate_and_plot_precision_recall(y_tst, y_pred, species,'results/rbf/','cancellare' )\n",
    "    prec.append(a)\n",
    "    rec.append(b)\n",
    "    f1.append(c)"
   ]
  },
  {
   "cell_type": "code",
   "execution_count": null,
   "metadata": {},
   "outputs": [],
   "source": [
    "tr_set = [40,35,30,25,20,15,10,5]\n",
    "df = pd.DataFrame({\"X\":tr_set, \"precision\":prec,\"recall\":rec,'accuracy': acc})\n",
    "df.plot(x=\"X\", y=[\"precision\", \"recall\",'accuracy'], kind=\"bar\")\n",
    "plt.grid()\n",
    "plt.xlabel('size of training set (in %)')\n",
    "plt.ylabel('Percentate %')\n",
    "plt.tight_layout()\n",
    "plt.savefig('results/few_shot_total')"
   ]
  },
  {
   "cell_type": "code",
   "execution_count": null,
   "metadata": {},
   "outputs": [],
   "source": [
    "y_tst.shape"
   ]
  },
  {
   "cell_type": "markdown",
   "metadata": {},
   "source": [
    "# CASO SPECIFICO 20% DEI DATI "
   ]
  },
  {
   "cell_type": "code",
   "execution_count": null,
   "metadata": {},
   "outputs": [],
   "source": [
    "\n",
    "x_tr, x_tst, y_tr, y_tst = train_test_split(x, y, test_size=0.80, random_state=40)\n",
    "param_grid = {'C': [ 1e2, 1e3, 5e3, 1e4, 5e4], 'gamma': [1e-9, 1e-8, 1e-7, 1e-6, 1e-5, 0.0001, 0.0005, 0.001, 0.005] }\n",
    "clf0 = GridSearchCV(SVC(kernel = 'rbf'),param_grid)\n",
    "clf = clf0.fit(x_tr, y_tr)\n",
    "print(\"Best estimator found by grid search : \", clf.best_estimator_)\n",
    "\n",
    "y_pred = clf.predict(x_tst)\n",
    "title_lich = '__'\n",
    "print('Accuracy score :', skmetrics.accuracy_score(y_pred, y_tst))\n",
    "\n",
    "plot_confusion_matrix(skmetrics.confusion_matrix(y_pred, y_tst),labels_list,title_lich,'results/rbf',clf.best_estimator_)\n",
    "a,b,c = calculate_and_plot_precision_recall(y_tst, y_pred, species,'results/rbf/','pca_few_shot' )\n"
   ]
  },
  {
   "cell_type": "code",
   "execution_count": null,
   "metadata": {},
   "outputs": [],
   "source": [
    "title_lich = '__'\n",
    "plt.figure(figsize = (15,15)) \n",
    "plot_confusion_matrix(skmetrics.confusion_matrix(y_pred, y_tst),labels_list,title_lich,'results/rbf/',clf.best_estimator_)"
   ]
  },
  {
   "cell_type": "code",
   "execution_count": null,
   "metadata": {},
   "outputs": [],
   "source": [
    "cont = np.zeros(20)\n",
    "for c in y_tr:\n",
    "    cont[c] += 1"
   ]
  },
  {
   "cell_type": "code",
   "execution_count": null,
   "metadata": {},
   "outputs": [],
   "source": [
    "cont"
   ]
  },
  {
   "cell_type": "code",
   "execution_count": null,
   "metadata": {},
   "outputs": [],
   "source": [
    "y_tr.shape[0] + y_tst.shape[0]"
   ]
  },
  {
   "cell_type": "code",
   "execution_count": null,
   "metadata": {},
   "outputs": [],
   "source": [
    "species"
   ]
  },
  {
   "cell_type": "code",
   "execution_count": null,
   "metadata": {},
   "outputs": [],
   "source": []
  }
 ],
 "metadata": {
  "kernelspec": {
   "display_name": "Python 3.7.3 64-bit ('base': conda)",
   "language": "python",
   "name": "python37364bitbaseconda10374d56d606404d89697440b2a570f1"
  },
  "language_info": {
   "codemirror_mode": {
    "name": "ipython",
    "version": 3
   },
   "file_extension": ".py",
   "mimetype": "text/x-python",
   "name": "python",
   "nbconvert_exporter": "python",
   "pygments_lexer": "ipython3",
   "version": "3.7.3"
  }
 },
 "nbformat": 4,
 "nbformat_minor": 4
}
