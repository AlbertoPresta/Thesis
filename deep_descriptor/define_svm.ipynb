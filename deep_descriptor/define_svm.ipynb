{
 "cells": [
  {
   "cell_type": "code",
   "execution_count": 3,
   "metadata": {},
   "outputs": [],
   "source": [
    "from sklearn.multiclass import OneVsRestClassifier\n",
    "from sklearn.svm import LinearSVC, SVC\n",
    "import numpy as np \n",
    "import os \n",
    "import cv2"
   ]
  },
  {
   "cell_type": "code",
   "execution_count": 4,
   "metadata": {},
   "outputs": [],
   "source": [
    "def define_and_train_svm(tr_feature, tr_lab, kernel_type, distance = None):\n",
    "    if distance == None:\n",
    "        print('here')\n",
    "        svc  = OneVsRestClassifier(SVC(kernel = kernel_type,gamma = 'scale'),n_jobs = -1)\n",
    "        svc = svc.fit(tr_feature, tr_lab)\n",
    "        return svc, 0, np.zeros(tr_feature.shape[0])\n",
    "    else:\n",
    "        gram=  compute_gram_matrix(tr_feature,distance)\n",
    "        mean = np.mean(gram[np.triu_indices(np.shape(tr_feature)[0])])\n",
    "        gram = np.exp(-(gram)) # generalized Gaussian kernel\n",
    "        svc  = OneVsRestClassifier(SVC(kernel = 'precomputed'),n_jobs = -1)\n",
    "        svc = svc.fit(gram,np.array(tr_lab))\n",
    "        return svc, mean,gram"
   ]
  },
  {
   "cell_type": "code",
   "execution_count": 5,
   "metadata": {},
   "outputs": [],
   "source": [
    "def chisquared_distance(hist_1, hist_2):\n",
    "\n",
    "    k = hist_1.shape[0]\n",
    "\n",
    "    indexes = np.array([num for num in range(k) if not (hist_1[num] == 0 and hist_2[num] == 0)])\n",
    "    if(len(indexes)==0):\n",
    "        return 0\n",
    "    else:\n",
    "        D = np.sum(np.square(hist_1[indexes] - hist_2[indexes]) / (hist_1[indexes] + hist_2[indexes])) # the Chi-squared distance\n",
    "        # plug into the generalized Gaussian kernel\n",
    "        return 0.5 * D\n",
    "\n",
    "\n",
    "\n",
    "\n",
    "def chisquared_kernel(hist_1,hist_2,a):\n",
    "\n",
    "    k = hist_1.shape[0]\n",
    "    indexes = np.array([num for num in range(k) if not (hist_1[num]==0 and hist_2[num]==0)])\n",
    "    if(len(indexes)==0):\n",
    "        return 0\n",
    "    else:\n",
    "        D = np.sum(np.square(hist_1[indexes] - hist_2[indexes]) / (hist_1[indexes] + hist_2[indexes]))\n",
    "        return np.exp(- (D * 0.5) / a)\n",
    "\n"
   ]
  },
  {
   "cell_type": "code",
   "execution_count": 6,
   "metadata": {},
   "outputs": [],
   "source": [
    "def compute_gram_matrix(data,kernel):\n",
    "    samples,_ = np.shape(data)\n",
    "    matrix = np.zeros((samples,samples))\n",
    "    for r in range(samples):\n",
    "        print(r)\n",
    "        for c in range(r,samples):\n",
    "            tmp = kernel(data[r],data[c])\n",
    "            matrix[r,c] = tmp\n",
    "            matrix[c,r] = tmp\n",
    "    return matrix"
   ]
  },
  {
   "cell_type": "code",
   "execution_count": null,
   "metadata": {},
   "outputs": [],
   "source": []
  }
 ],
 "metadata": {
  "kernelspec": {
   "display_name": "Python 3.7.3 64-bit ('base': conda)",
   "language": "python",
   "name": "python37364bitbaseconda10374d56d606404d89697440b2a570f1"
  },
  "language_info": {
   "codemirror_mode": {
    "name": "ipython",
    "version": 3
   },
   "file_extension": ".py",
   "mimetype": "text/x-python",
   "name": "python",
   "nbconvert_exporter": "python",
   "pygments_lexer": "ipython3",
   "version": "3.7.3"
  }
 },
 "nbformat": 4,
 "nbformat_minor": 4
}
